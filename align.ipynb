{
 "cells": [
  {
   "cell_type": "markdown",
   "id": "124ef89d-eb13-41ef-9683-258ab864cc1c",
   "metadata": {},
   "source": [
    "# Alignment"
   ]
  },
  {
   "cell_type": "markdown",
   "id": "b84abd42-31e0-4ca4-bf16-fe915f80b379",
   "metadata": {},
   "source": [
    "Intento de hacer LCSBacktrack como en capitulo 5 (p. 252)."
   ]
  },
  {
   "cell_type": "code",
   "execution_count": 1,
   "id": "16937b47-f62b-486d-9a2c-e52420c93809",
   "metadata": {},
   "outputs": [],
   "source": [
    "import numpy as np"
   ]
  },
  {
   "cell_type": "code",
   "execution_count": 2,
   "id": "ac5a4909-6dec-40cc-8b02-b9e9ea5e9794",
   "metadata": {},
   "outputs": [],
   "source": [
    "def printalign(v,w,backtrack):\n",
    "    rows = len(w)\n",
    "    cols = len(v)\n",
    "    \n",
    "    print(\" \" + v)\n",
    "    for i in range(1,rows):\n",
    "        output = w[i] + \" \"\n",
    "        for j in range(cols):\n",
    "            output += backtrack[i,j]\n",
    "        print(output)"
   ]
  },
  {
   "cell_type": "code",
   "execution_count": 3,
   "id": "a648b2c1-d384-4b59-a76b-1b80658a8e5c",
   "metadata": {},
   "outputs": [],
   "source": [
    "def LCSBacktrack(v,w):\n",
    "    # El algoritmo cuenta strings desde 1, python desde 0. \n",
    "    # Insertamos un espacio para cuadrar los string\n",
    "    v = \" \" + v\n",
    "    w = \" \" + w\n",
    "    rows = len(w)\n",
    "    cols = len(v)\n",
    "    s = np.zeros((rows, cols), dtype=int) # una tabla de 0\n",
    "    backtrack = np.zeros((rows, cols), dtype=str) # una tabla de ''\n",
    "    \n",
    "    for i in range(1,rows):\n",
    "        for j in range(1,cols):\n",
    "            if v[j] == w[i]:\n",
    "                score = 1\n",
    "            else:\n",
    "                score = 0\n",
    "            s[i,j] = max(s[i-1,j], s[i,j-1], s[i-1,j-1] + score)\n",
    "            \n",
    "            # use unicode arrows from https://en.wikipedia.org/wiki/Arrows_(Unicode_block)\n",
    "            if s[i,j] == s[i-1,j]:\n",
    "                backtrack[i,j] = '↑'\n",
    "            elif s[i,j] == s[i,j-1]:\n",
    "                backtrack[i,j] = '←'\n",
    "            else:\n",
    "                backtrack[i,j] = \"↖\"\n",
    "                         \n",
    "    printalign(v,w,backtrack)\n",
    "    \n",
    "    #return s, backtrack"
   ]
  },
  {
   "cell_type": "code",
   "execution_count": 4,
   "id": "ca986900-3c53-4e29-ad0c-9f25d69f5ede",
   "metadata": {},
   "outputs": [
    {
     "name": "stdout",
     "output_type": "stream",
     "text": [
      "  ATGCTTA\n",
      "T ↑↖←←←←←\n",
      "G ↑↑↖←←←←\n",
      "C ↑↑↑↖←←←\n",
      "A ↖↑↑↑↑↑↖\n",
      "T ↑↖↑↑↖←↑\n",
      "T ↑↑↑↑↑↖←\n",
      "A ↑↑↑↑↑↑↖\n",
      "A ↑↑↑↑↑↑↑\n"
     ]
    }
   ],
   "source": [
    "LCSBacktrack(\"ATGCTTA\", \"TGCATTAA\")"
   ]
  },
  {
   "cell_type": "code",
   "execution_count": null,
   "id": "e203fcc3-3a41-43a2-ac84-184c0133a2a5",
   "metadata": {},
   "outputs": [],
   "source": []
  }
 ],
 "metadata": {
  "kernelspec": {
   "display_name": "Python 3",
   "language": "python",
   "name": "python3"
  },
  "language_info": {
   "codemirror_mode": {
    "name": "ipython",
    "version": 3
   },
   "file_extension": ".py",
   "mimetype": "text/x-python",
   "name": "python",
   "nbconvert_exporter": "python",
   "pygments_lexer": "ipython3",
   "version": "3.8.20"
  }
 },
 "nbformat": 4,
 "nbformat_minor": 5
}
