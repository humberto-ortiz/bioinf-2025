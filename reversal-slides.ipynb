{
 "cells": [
  {
   "cell_type": "markdown",
   "id": "af82f303-ba6f-49e9-a1b9-3c9110dc81be",
   "metadata": {
    "slideshow": {
     "slide_type": "slide"
    },
    "tags": []
   },
   "source": [
    "# Sorting by reversals\n",
    "\n",
    "Humberto Ortiz Zuazaga"
   ]
  },
  {
   "cell_type": "markdown",
   "id": "4df4a8c8-7a85-4627-8035-d0a09ef05af2",
   "metadata": {
    "slideshow": {
     "slide_type": "slide"
    },
    "tags": []
   },
   "source": [
    "# How many reversals?\n",
    "\n",
    "![synteny](synteny.png)"
   ]
  },
  {
   "cell_type": "code",
   "execution_count": 1,
   "id": "7a77c212-24f7-4105-822f-a293cbbe3c01",
   "metadata": {
    "slideshow": {
     "slide_type": "subslide"
    },
    "tags": []
   },
   "outputs": [],
   "source": [
    "mouse = [+1, -7, +6, -10, +9, -8, +2, -11, -3, +5, +4]"
   ]
  },
  {
   "cell_type": "code",
   "execution_count": 2,
   "id": "2f4ee6d8-1f1d-439a-b078-82e521047091",
   "metadata": {
    "slideshow": {
     "slide_type": "subslide"
    },
    "tags": []
   },
   "outputs": [],
   "source": [
    "human = [1,2,3,4,5,6,7,8,9,10,11]"
   ]
  },
  {
   "cell_type": "markdown",
   "id": "c01a7e06-4435-4525-85aa-3b9f08298b60",
   "metadata": {
    "slideshow": {
     "slide_type": "slide"
    },
    "tags": []
   },
   "source": [
    "# Cycles\n",
    "\n",
    "![cycles](cycles.png)"
   ]
  },
  {
   "cell_type": "markdown",
   "id": "da23626b-dbd4-4252-807c-7a3cee8f7d97",
   "metadata": {
    "slideshow": {
     "slide_type": "slide"
    },
    "tags": []
   },
   "source": [
    "![ChromosomeToCycle()](ch-to-cy.png)"
   ]
  },
  {
   "cell_type": "code",
   "execution_count": 3,
   "id": "2f2c91d4-6835-4879-aac3-2669a74f1950",
   "metadata": {
    "slideshow": {
     "slide_type": "slide"
    },
    "tags": []
   },
   "outputs": [],
   "source": [
    "def ChromosomeToCycle(Chromosome):\n",
    "    Chromosome = [0] + Chromosome\n",
    "    size = len(Chromosome)\n",
    "    node = [0] * (2*size-1)\n",
    "    for j in range(1,size):\n",
    "        i = Chromosome[j]\n",
    "        if i > 0:\n",
    "            node[2*j-1] = 2*i - 1\n",
    "            node[2*j] = 2*i\n",
    "        else:\n",
    "            node[2*j-1] = -2*i\n",
    "            node[2*j] = -2*i - 1\n",
    "    return node[1:]"
   ]
  },
  {
   "cell_type": "code",
   "execution_count": 4,
   "id": "8a871d81-c230-405a-809e-490efd2cf9ec",
   "metadata": {
    "slideshow": {
     "slide_type": "subslide"
    },
    "tags": []
   },
   "outputs": [
    {
     "data": {
      "text/plain": [
       "[1, 2, 4, 3, 6, 5, 7, 8]"
      ]
     },
     "execution_count": 4,
     "metadata": {},
     "output_type": "execute_result"
    }
   ],
   "source": [
    "ChromosomeToCycle([1,-2,-3,4])"
   ]
  },
  {
   "cell_type": "markdown",
   "id": "d589e473-3cb6-41ac-aaad-452aabd12fa0",
   "metadata": {
    "slideshow": {
     "slide_type": "slide"
    },
    "tags": []
   },
   "source": [
    "![CycleToChromosome()](cy-to-ch.png)"
   ]
  },
  {
   "cell_type": "code",
   "execution_count": 5,
   "id": "455dbbdd-baf3-481b-93e9-b6a9dcb1a8bc",
   "metadata": {
    "slideshow": {
     "slide_type": "slide"
    },
    "tags": []
   },
   "outputs": [],
   "source": [
    "def CycleToChromosome(Nodes):\n",
    "    Chromosome = [0] * (len(Nodes)//2)\n",
    "    for j in range(0, len(Nodes)//2):\n",
    "        if Nodes[2*j] < Nodes[2*j+1]:\n",
    "            Chromosome[j] = Nodes[2*j+1]//2\n",
    "        else:\n",
    "            Chromosome[j] = -Nodes[2*j]//2\n",
    "    return Chromosome"
   ]
  },
  {
   "cell_type": "code",
   "execution_count": 6,
   "id": "4cb62e2b-bf14-4161-8681-a8f4b20f9a46",
   "metadata": {
    "slideshow": {
     "slide_type": "subslide"
    },
    "tags": []
   },
   "outputs": [
    {
     "data": {
      "text/plain": [
       "[1, -2, -3, 4]"
      ]
     },
     "execution_count": 6,
     "metadata": {},
     "output_type": "execute_result"
    }
   ],
   "source": [
    "CycleToChromosome([1, 2, 4, 3, 6, 5, 7, 8])"
   ]
  },
  {
   "cell_type": "markdown",
   "id": "b172ff96-9832-43ca-bef0-2e3e4f8eb181",
   "metadata": {
    "slideshow": {
     "slide_type": "slide"
    },
    "tags": []
   },
   "source": [
    "![ColoredEdges()](colored.png)"
   ]
  },
  {
   "cell_type": "code",
   "execution_count": 7,
   "id": "3e3fe864-cf01-4a96-8401-38116d1fd9d4",
   "metadata": {
    "slideshow": {
     "slide_type": "slide"
    },
    "tags": []
   },
   "outputs": [],
   "source": [
    "def ColoredEdges(P):\n",
    "    Edges = []\n",
    "    for chromosome in P:\n",
    "        Nodes = [0]+ ChromosomeToCycle(chromosome) + chromosome[0:1]\n",
    "        for j in range(1,len(chromosome)+1):\n",
    "            Edges.append((Nodes[2*j],Nodes[2*j+1]))\n",
    "    return (list(Edges))"
   ]
  },
  {
   "cell_type": "code",
   "execution_count": 8,
   "id": "0b363fe8-2691-4252-bd54-1ec06f0b5b20",
   "metadata": {
    "slideshow": {
     "slide_type": "subslide"
    },
    "tags": []
   },
   "outputs": [
    {
     "data": {
      "text/plain": [
       "[(2, 4), (3, 6), (5, 7), (8, 1)]"
      ]
     },
     "execution_count": 8,
     "metadata": {},
     "output_type": "execute_result"
    }
   ],
   "source": [
    "ColoredEdges([[1,-2,-3,4]])"
   ]
  },
  {
   "cell_type": "code",
   "execution_count": 9,
   "id": "963ae8bf-d1f3-4585-92a1-802c12f270b6",
   "metadata": {
    "slideshow": {
     "slide_type": "slide"
    },
    "tags": []
   },
   "outputs": [],
   "source": [
    "def BlackEdges(P):\n",
    "    Edges = []\n",
    "    for chromosome in P:\n",
    "        Nodes = [0] + ChromosomeToCycle(chromosome)\n",
    "        for j in range(1, len(chromosome)+1):\n",
    "            Edges.append((Nodes[2*j-1],Nodes[2*j]))\n",
    "    return Edges"
   ]
  },
  {
   "cell_type": "code",
   "execution_count": 10,
   "id": "14ee8a8a-5a8a-42f1-aa34-4c18b7158aef",
   "metadata": {
    "slideshow": {
     "slide_type": "subslide"
    },
    "tags": []
   },
   "outputs": [
    {
     "data": {
      "text/plain": [
       "[(1, 2), (4, 3), (6, 5), (7, 8)]"
      ]
     },
     "execution_count": 10,
     "metadata": {},
     "output_type": "execute_result"
    }
   ],
   "source": [
    "BlackEdges([[1,-2,-3,4]])"
   ]
  },
  {
   "cell_type": "markdown",
   "id": "ed6a5a0c-0f50-443a-b166-129af1db083d",
   "metadata": {
    "slideshow": {
     "slide_type": "slide"
    },
    "tags": []
   },
   "source": [
    "# in progress\n",
    "\n",
    "Still haven't figured out how to implement."
   ]
  },
  {
   "cell_type": "markdown",
   "id": "0b3a44ee-7e46-4b62-9f02-7608b774684f",
   "metadata": {
    "slideshow": {
     "slide_type": "slide"
    },
    "tags": []
   },
   "source": [
    "![shortest-rearrangement.png](shortest-rearrangement.png)"
   ]
  },
  {
   "cell_type": "code",
   "execution_count": 11,
   "id": "eea94798-3e5f-4368-82d1-b681f21e506c",
   "metadata": {
    "slideshow": {
     "slide_type": "slide"
    },
    "tags": []
   },
   "outputs": [],
   "source": [
    "import random\n",
    "\n",
    "def MakeCycle(edges):\n",
    "    edges = edges[:]\n",
    "    cycle = []\n",
    "    i, j = random.choice(edges)\n",
    "    start = i\n",
    "    cycle.append((i,j))\n",
    "    edges.remove((i,j))\n",
    "    oldlen = len(cycle)\n",
    "    while(edges):\n",
    "        for k, l in edges:\n",
    "            if j == k:\n",
    "                cycle.append((k,l))\n",
    "                edges.remove((k,l))\n",
    "                i = j\n",
    "                j = l\n",
    "                continue\n",
    "            elif j == l:\n",
    "                cycle.append((l,k))\n",
    "                edges.remove((k,l))\n",
    "                i = l\n",
    "                j = k\n",
    "                continue\n",
    "        newlen = len(cycle)\n",
    "        n, last = cycle[-1]\n",
    "        if start == last:\n",
    "            return cycle\n",
    "    return cycle"
   ]
  },
  {
   "cell_type": "code",
   "execution_count": 12,
   "id": "b94ad5eb-d1db-484b-b588-2038745755de",
   "metadata": {
    "slideshow": {
     "slide_type": "slide"
    },
    "tags": []
   },
   "outputs": [],
   "source": [
    "def ShortestRearrangement(P, Q):\n",
    "    #print(P)\n",
    "    #print(Q)\n",
    "    RedEdges = ColoredEdges(P)\n",
    "    BlueEdges = ColoredEdges(Q)\n",
    "    BreakPointGraph = RedEdges + BlueEdges\n",
    "    Cycle = MakeCycle(BreakPointGraph)\n",
    "    while len(Cycle) > 2:\n",
    "        j, ip = ([(j, ip) for (j, ip) in BlueEdges if (j, ip) in Cycle] +\n",
    "                 [(j, ip) for (ip, j) in BlueEdges if (ip, j) in Cycle]).pop()\n",
    "        i, jt = ([(i, jt) for (i, jt) in RedEdges if jt == j] +\n",
    "                 [(i, jt) for (jt, i) in RedEdges if jt == j]).pop()\n",
    "        it, jp = ([(i, j) for (j, i) in RedEdges if i == ip] + \n",
    "                  [(i, j) for (i, j) in RedEdges if i == ip]).pop()\n",
    "        break\n",
    "    print(Cycle, j, i, ip, jp)"
   ]
  },
  {
   "cell_type": "code",
   "execution_count": 13,
   "id": "7d8ea296-8ecb-4eef-b5aa-ad51261e1a4f",
   "metadata": {
    "slideshow": {
     "slide_type": "subslide"
    },
    "tags": []
   },
   "outputs": [
    {
     "name": "stdout",
     "output_type": "stream",
     "text": [
      "[(14, 15), (15, 3), (3, 2), (2, 14)] 3 2 15 14\n"
     ]
    }
   ],
   "source": [
    "ShortestRearrangement([human], [mouse])"
   ]
  }
 ],
 "metadata": {
  "kernelspec": {
   "display_name": "Python 3",
   "language": "python",
   "name": "python3"
  },
  "language_info": {
   "codemirror_mode": {
    "name": "ipython",
    "version": 3
   },
   "file_extension": ".py",
   "mimetype": "text/x-python",
   "name": "python",
   "nbconvert_exporter": "python",
   "pygments_lexer": "ipython3",
   "version": "3.8.20"
  }
 },
 "nbformat": 4,
 "nbformat_minor": 5
}
