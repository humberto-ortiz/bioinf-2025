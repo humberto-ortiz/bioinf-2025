{
 "cells": [
  {
   "cell_type": "markdown",
   "id": "af82f303-ba6f-49e9-a1b9-3c9110dc81be",
   "metadata": {},
   "source": [
    "# Sorting by reversals"
   ]
  },
  {
   "cell_type": "code",
   "execution_count": 1,
   "id": "7a77c212-24f7-4105-822f-a293cbbe3c01",
   "metadata": {},
   "outputs": [],
   "source": [
    "mouse = [+1, -7, +6, -10, +9, -8, +2, -11, -3, +5, +4]"
   ]
  },
  {
   "cell_type": "code",
   "execution_count": 2,
   "id": "2f4ee6d8-1f1d-439a-b078-82e521047091",
   "metadata": {},
   "outputs": [],
   "source": [
    "human = [1,2,3,4,5,6,7,8,9,10,11]"
   ]
  },
  {
   "cell_type": "code",
   "execution_count": 3,
   "id": "97523a7a-9f5e-428e-b1b8-707a7e5e1f2b",
   "metadata": {},
   "outputs": [],
   "source": [
    "def flip(p, i, j):\n",
    "    \n",
    "    \"Invertir el genoma P de (one-based) posicion i hasta j (inclusivo)\"\n",
    "    #print(i,j)\n",
    "    middle = p[i:j+1]\n",
    "    middle.reverse()\n",
    "    return p[:i] + [-x for x in middle] + p[j+1:]"
   ]
  },
  {
   "cell_type": "code",
   "execution_count": 4,
   "id": "ae26feb8-2036-4c56-9a0f-b9c363d7e89c",
   "metadata": {},
   "outputs": [],
   "source": [
    "def find(p, k):\n",
    "    \"Encontrar la posicion de k (o -k) en p.\"\n",
    "    retval = 0\n",
    "    if k in p:\n",
    "        retval = p.index(k)\n",
    "    else:\n",
    "        retval = p.index(-k)\n",
    "    return retval"
   ]
  },
  {
   "cell_type": "code",
   "execution_count": 5,
   "id": "da5766d0-77c4-45c4-a70e-cb732b8b6e9c",
   "metadata": {},
   "outputs": [
    {
     "data": {
      "text/plain": [
       "[1, -7, 11, -2, 8, -9, 10, -6, -3, 5, 4]"
      ]
     },
     "execution_count": 5,
     "metadata": {},
     "output_type": "execute_result"
    }
   ],
   "source": [
    "flip(mouse, 2, 7)"
   ]
  },
  {
   "cell_type": "code",
   "execution_count": null,
   "id": "9b85e123-d9e9-49f4-b1f2-9b09ea8f8920",
   "metadata": {},
   "outputs": [],
   "source": []
  },
  {
   "cell_type": "markdown",
   "id": "5820b10f-ea2a-42c6-b16a-b89e3e204e89",
   "metadata": {},
   "source": [
    "![GreedySorting](greedysorting.png)"
   ]
  },
  {
   "cell_type": "code",
   "execution_count": 6,
   "id": "c84374c9-534a-484f-9f86-27f5f1aab233",
   "metadata": {},
   "outputs": [],
   "source": [
    "def GreedySorting(p):\n",
    "    p = [0] + p # para que la posicion concuerde con el indice\n",
    "    dist = 0\n",
    "    for k in range(1, len(p)):\n",
    "        if k != (p[k]):\n",
    "            place = find(p, k)\n",
    "            p = flip(p, k, place)\n",
    "            dist += 1\n",
    "            if p[k] == -k:\n",
    "                p = flip(p,k,k)\n",
    "                dist += 1\n",
    "        #print(p[1:])\n",
    "    return dist\n",
    "            "
   ]
  },
  {
   "cell_type": "code",
   "execution_count": 7,
   "id": "ab5aab3a-d28d-427d-9f77-88d6219700df",
   "metadata": {},
   "outputs": [
    {
     "data": {
      "text/plain": [
       "11"
      ]
     },
     "execution_count": 7,
     "metadata": {},
     "output_type": "execute_result"
    }
   ],
   "source": [
    "GreedySorting(mouse)"
   ]
  },
  {
   "cell_type": "code",
   "execution_count": 8,
   "id": "e4101fb7-395e-43b2-bfb5-63ba3cf9f570",
   "metadata": {},
   "outputs": [],
   "source": [
    "def adjacencies(p):\n",
    "    adj = 0\n",
    "    p = [0] + p + [len(p)+1]\n",
    "    for i in range(0,len(p)-1):\n",
    "        if p[i+1] - p[i] == 1:\n",
    "            adj += 1\n",
    "            \n",
    "    return adj"
   ]
  },
  {
   "cell_type": "code",
   "execution_count": 9,
   "id": "ac08a6d2-bc9c-44f2-a993-078836b6a1b6",
   "metadata": {},
   "outputs": [
    {
     "data": {
      "text/plain": [
       "1"
      ]
     },
     "execution_count": 9,
     "metadata": {},
     "output_type": "execute_result"
    }
   ],
   "source": [
    "adjacencies(mouse)"
   ]
  },
  {
   "cell_type": "code",
   "execution_count": 10,
   "id": "0e85a05d-68f3-4170-86d0-f4dcf79dfe01",
   "metadata": {},
   "outputs": [],
   "source": [
    "def breaks(p):\n",
    "    p = [0] + p + [len(p)+1]\n",
    "    retval = 0\n",
    "    for i in range(len(p)-1):\n",
    "        if p[i+1] - p[i] != 1:\n",
    "            retval += 1\n",
    "    return retval"
   ]
  },
  {
   "cell_type": "code",
   "execution_count": 11,
   "id": "dadb6962-9ad9-4028-94ca-81774c0564d4",
   "metadata": {},
   "outputs": [
    {
     "data": {
      "text/plain": [
       "11"
      ]
     },
     "execution_count": 11,
     "metadata": {},
     "output_type": "execute_result"
    }
   ],
   "source": [
    "breaks(mouse)"
   ]
  },
  {
   "cell_type": "code",
   "execution_count": 12,
   "id": "e18679f7-89c7-48a6-b428-978a8b18dc3f",
   "metadata": {},
   "outputs": [
    {
     "data": {
      "text/plain": [
       "2"
      ]
     },
     "execution_count": 12,
     "metadata": {},
     "output_type": "execute_result"
    }
   ],
   "source": [
    "breaks(list(range(-10,0,1)))"
   ]
  },
  {
   "cell_type": "code",
   "execution_count": 13,
   "id": "61a75a76-e7d6-4fd6-80f4-76aec584f443",
   "metadata": {},
   "outputs": [
    {
     "data": {
      "text/plain": [
       "[-10, -9, -8, -7, -6, -5, -4, -3, -2, -1]"
      ]
     },
     "execution_count": 13,
     "metadata": {},
     "output_type": "execute_result"
    }
   ],
   "source": [
    "list(range(-10,0,1))"
   ]
  },
  {
   "cell_type": "code",
   "execution_count": 14,
   "id": "5ca5872a-15f9-4557-8c4f-2d3191e31f6b",
   "metadata": {},
   "outputs": [
    {
     "data": {
      "text/plain": [
       "0"
      ]
     },
     "execution_count": 14,
     "metadata": {},
     "output_type": "execute_result"
    }
   ],
   "source": [
    "breaks(human)"
   ]
  },
  {
   "cell_type": "code",
   "execution_count": 15,
   "id": "b6e72f97-7883-421e-89b8-d42c3f0b1132",
   "metadata": {},
   "outputs": [
    {
     "data": {
      "text/plain": [
       "12"
      ]
     },
     "execution_count": 15,
     "metadata": {},
     "output_type": "execute_result"
    }
   ],
   "source": [
    "adjacencies(human)"
   ]
  },
  {
   "cell_type": "markdown",
   "id": "da23626b-dbd4-4252-807c-7a3cee8f7d97",
   "metadata": {},
   "source": [
    "![ChromosomeToCycle()](ch-to-cy.png)"
   ]
  },
  {
   "cell_type": "code",
   "execution_count": 34,
   "id": "2f2c91d4-6835-4879-aac3-2669a74f1950",
   "metadata": {},
   "outputs": [],
   "source": [
    "def ChromosomeToCycle(Chromosome):\n",
    "    Chromosome = [0] + Chromosome\n",
    "    size = len(Chromosome)\n",
    "    node = [0] * (2*size-1)\n",
    "    for j in range(1,size):\n",
    "        i = Chromosome[j]\n",
    "        if i > 0:\n",
    "            node[2*j-1] = 2*i - 1\n",
    "            node[2*j] = 2*i\n",
    "        else:\n",
    "            node[2*j-1] = -2*i\n",
    "            node[2*j] = -2*i - 1\n",
    "    return node[1:]"
   ]
  },
  {
   "cell_type": "code",
   "execution_count": 35,
   "id": "8a871d81-c230-405a-809e-490efd2cf9ec",
   "metadata": {},
   "outputs": [
    {
     "data": {
      "text/plain": [
       "[1, 2, 4, 3, 6, 5, 7, 8]"
      ]
     },
     "execution_count": 35,
     "metadata": {},
     "output_type": "execute_result"
    }
   ],
   "source": [
    "ChromosomeToCycle([1,-2,-3,4])"
   ]
  },
  {
   "cell_type": "markdown",
   "id": "d589e473-3cb6-41ac-aaad-452aabd12fa0",
   "metadata": {},
   "source": [
    "![CycleToChromosome()](cy-to-ch.png)"
   ]
  },
  {
   "cell_type": "code",
   "execution_count": 53,
   "id": "455dbbdd-baf3-481b-93e9-b6a9dcb1a8bc",
   "metadata": {},
   "outputs": [],
   "source": [
    "def CycleToChromosome(Nodes):\n",
    "    Chromosome = [0] * (len(Nodes)//2)\n",
    "    for j in range(0, len(Nodes)//2):\n",
    "        if Nodes[2*j] < Nodes[2*j+1]:\n",
    "            Chromosome[j] = Nodes[2*j+1]//2\n",
    "        else:\n",
    "            Chromosome[j] = -Nodes[2*j]//2\n",
    "    return Chromosome"
   ]
  },
  {
   "cell_type": "code",
   "execution_count": 54,
   "id": "4cb62e2b-bf14-4161-8681-a8f4b20f9a46",
   "metadata": {},
   "outputs": [
    {
     "data": {
      "text/plain": [
       "[1, -2, -3, 4]"
      ]
     },
     "execution_count": 54,
     "metadata": {},
     "output_type": "execute_result"
    }
   ],
   "source": [
    "CycleToChromosome([1, 2, 4, 3, 6, 5, 7, 8])"
   ]
  },
  {
   "cell_type": "code",
   "execution_count": 40,
   "id": "02f1ef10-4c45-4a00-81b6-eb322e3a9087",
   "metadata": {},
   "outputs": [
    {
     "data": {
      "text/plain": [
       "4.0"
      ]
     },
     "execution_count": 40,
     "metadata": {},
     "output_type": "execute_result"
    }
   ],
   "source": [
    "8 / 2"
   ]
  },
  {
   "cell_type": "code",
   "execution_count": 42,
   "id": "0b449e5f-e5fb-4b27-935f-11d9b30fce92",
   "metadata": {},
   "outputs": [
    {
     "data": {
      "text/plain": [
       "4"
      ]
     },
     "execution_count": 42,
     "metadata": {},
     "output_type": "execute_result"
    }
   ],
   "source": [
    "8 // 2"
   ]
  },
  {
   "cell_type": "markdown",
   "id": "b172ff96-9832-43ca-bef0-2e3e4f8eb181",
   "metadata": {},
   "source": [
    "![ColoredEdges()](colored.png)"
   ]
  },
  {
   "cell_type": "code",
   "execution_count": 93,
   "id": "3e3fe864-cf01-4a96-8401-38116d1fd9d4",
   "metadata": {},
   "outputs": [],
   "source": [
    "def ColoredEdges(P):\n",
    "    Edges = []\n",
    "    for chromosome in P:\n",
    "        Nodes = [0]+ ChromosomeToCycle(chromosome) + chromosome[0:1]\n",
    "        for j in range(1,len(chromosome)+1):\n",
    "            Edges.append((Nodes[2*j],Nodes[2*j+1]))\n",
    "    return (list(Edges))"
   ]
  },
  {
   "cell_type": "code",
   "execution_count": 94,
   "id": "0b363fe8-2691-4252-bd54-1ec06f0b5b20",
   "metadata": {},
   "outputs": [
    {
     "data": {
      "text/plain": [
       "[(2, 4), (3, 6), (5, 7), (8, 1)]"
      ]
     },
     "execution_count": 94,
     "metadata": {},
     "output_type": "execute_result"
    }
   ],
   "source": [
    "ColoredEdges([[1,-2,-3,4]])"
   ]
  },
  {
   "cell_type": "code",
   "execution_count": 91,
   "id": "963ae8bf-d1f3-4585-92a1-802c12f270b6",
   "metadata": {},
   "outputs": [],
   "source": [
    "def BlackEdges(P):\n",
    "    Edges = []\n",
    "    for chromosome in P:\n",
    "        Nodes = [0] + ChromosomeToCycle(chromosome)\n",
    "        for j in range(1, len(chromosome)+1):\n",
    "            Edges.append((Nodes[2*j-1],Nodes[2*j]))\n",
    "    return Edges"
   ]
  },
  {
   "cell_type": "code",
   "execution_count": 92,
   "id": "14ee8a8a-5a8a-42f1-aa34-4c18b7158aef",
   "metadata": {},
   "outputs": [
    {
     "data": {
      "text/plain": [
       "[(1, 2), (4, 3), (6, 5), (7, 8)]"
      ]
     },
     "execution_count": 92,
     "metadata": {},
     "output_type": "execute_result"
    }
   ],
   "source": [
    "BlackEdges([[1,-2,-3,4]])"
   ]
  },
  {
   "cell_type": "markdown",
   "id": "ed6a5a0c-0f50-443a-b166-129af1db083d",
   "metadata": {},
   "source": [
    "# in progress\n",
    "\n",
    "Still haven't figured out how to implement."
   ]
  },
  {
   "cell_type": "code",
   "execution_count": 95,
   "id": "b94ad5eb-d1db-484b-b588-2038745755de",
   "metadata": {},
   "outputs": [],
   "source": [
    "def ShortestRearrangement(P, Q):\n",
    "    print(P)\n",
    "    RedEdges = ColoredEdges(P)\n",
    "    BlueEdges = ColoredEdges(Q)\n",
    "    BreakPointGraph = RedEdges + BlueEdges\n",
    "    print(BreakPointGraph)"
   ]
  },
  {
   "cell_type": "markdown",
   "id": "0b3a44ee-7e46-4b62-9f02-7608b774684f",
   "metadata": {},
   "source": [
    "![shortest-rearrangement.png](shortest-rearrangement.png)"
   ]
  },
  {
   "cell_type": "code",
   "execution_count": 97,
   "id": "7d8ea296-8ecb-4eef-b5aa-ad51261e1a4f",
   "metadata": {},
   "outputs": [
    {
     "name": "stdout",
     "output_type": "stream",
     "text": [
      "[[1, 2, 3, 4, 5, 6, 7, 8, 9, 10, 11]]\n",
      "[(2, 3), (4, 5), (6, 7), (8, 9), (10, 11), (12, 13), (14, 15), (16, 17), (18, 19), (20, 21), (22, 1), (2, 14), (13, 11), (12, 20), (19, 17), (18, 16), (15, 3), (4, 22), (21, 6), (5, 9), (10, 7), (8, 1)]\n"
     ]
    }
   ],
   "source": [
    "ShortestRearrangement([human], [mouse])"
   ]
  },
  {
   "cell_type": "code",
   "execution_count": 100,
   "id": "8b4c9aa4-4fa6-4267-b429-88a4ff190b9c",
   "metadata": {},
   "outputs": [
    {
     "data": {
      "text/plain": [
       "[(2, 3),\n",
       " (4, 5),\n",
       " (6, 7),\n",
       " (8, 9),\n",
       " (10, 11),\n",
       " (12, 13),\n",
       " (14, 15),\n",
       " (16, 17),\n",
       " (18, 19),\n",
       " (20, 21),\n",
       " (22, 1)]"
      ]
     },
     "execution_count": 100,
     "metadata": {},
     "output_type": "execute_result"
    }
   ],
   "source": [
    "red = ColoredEdges([human])\n",
    "red"
   ]
  },
  {
   "cell_type": "code",
   "execution_count": 101,
   "id": "0449b1f1-314e-4f58-97d6-3bd8cd543918",
   "metadata": {},
   "outputs": [
    {
     "data": {
      "text/plain": [
       "[(2, 14),\n",
       " (13, 11),\n",
       " (12, 20),\n",
       " (19, 17),\n",
       " (18, 16),\n",
       " (15, 3),\n",
       " (4, 22),\n",
       " (21, 6),\n",
       " (5, 9),\n",
       " (10, 7),\n",
       " (8, 1)]"
      ]
     },
     "execution_count": 101,
     "metadata": {},
     "output_type": "execute_result"
    }
   ],
   "source": [
    "blue = ColoredEdges([mouse])\n",
    "blue"
   ]
  },
  {
   "cell_type": "code",
   "execution_count": 131,
   "id": "eea94798-3e5f-4368-82d1-b681f21e506c",
   "metadata": {},
   "outputs": [],
   "source": [
    "import random\n",
    "\n",
    "def Cycle(edges):\n",
    "    edges = edges[:]\n",
    "    cycle = []\n",
    "    i, j = random.choice(edges)\n",
    "    start = i\n",
    "    cycle.append((i,j))\n",
    "    edges.remove((i,j))\n",
    "    oldlen = len(cycle)\n",
    "    while(edges):\n",
    "        for k, l in edges:\n",
    "            if j == k:\n",
    "                cycle.append((k,l))\n",
    "                edges.remove((k,l))\n",
    "                i = j\n",
    "                j = l\n",
    "                continue\n",
    "            elif j == l:\n",
    "                cycle.append((l,k))\n",
    "                edges.remove((k,l))\n",
    "                i = l\n",
    "                j = k\n",
    "                continue\n",
    "        newlen = len(cycle)\n",
    "        n, last = cycle[-1]\n",
    "        if start == last:\n",
    "            return cycle\n",
    "    return cycle"
   ]
  },
  {
   "cell_type": "code",
   "execution_count": 137,
   "id": "799b6818-7c1e-4169-853c-2b3313a3d8b9",
   "metadata": {},
   "outputs": [
    {
     "data": {
      "text/plain": [
       "[(6, 7), (7, 10), (10, 11), (11, 13), (13, 12), (12, 20), (20, 21), (21, 6)]"
      ]
     },
     "execution_count": 137,
     "metadata": {},
     "output_type": "execute_result"
    }
   ],
   "source": [
    "Cycle(red + blue)"
   ]
  },
  {
   "cell_type": "code",
   "execution_count": 109,
   "id": "3f64f112-fad5-4210-872d-5f39f502ea42",
   "metadata": {},
   "outputs": [
    {
     "data": {
      "text/plain": [
       "4"
      ]
     },
     "execution_count": 109,
     "metadata": {},
     "output_type": "execute_result"
    }
   ],
   "source": [
    "import random\n",
    "\n",
    "random.choice([1,2,3,4])"
   ]
  },
  {
   "cell_type": "code",
   "execution_count": null,
   "id": "04860347-93ce-4763-9152-9fbb62422bb4",
   "metadata": {},
   "outputs": [],
   "source": []
  }
 ],
 "metadata": {
  "kernelspec": {
   "display_name": "Python 3",
   "language": "python",
   "name": "python3"
  },
  "language_info": {
   "codemirror_mode": {
    "name": "ipython",
    "version": 3
   },
   "file_extension": ".py",
   "mimetype": "text/x-python",
   "name": "python",
   "nbconvert_exporter": "python",
   "pygments_lexer": "ipython3",
   "version": "3.8.20"
  }
 },
 "nbformat": 4,
 "nbformat_minor": 5
}
