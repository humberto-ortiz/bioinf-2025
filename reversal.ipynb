{
 "cells": [
  {
   "cell_type": "markdown",
   "id": "af82f303-ba6f-49e9-a1b9-3c9110dc81be",
   "metadata": {},
   "source": [
    "# Sorting by reversals"
   ]
  },
  {
   "cell_type": "code",
   "execution_count": 1,
   "id": "7a77c212-24f7-4105-822f-a293cbbe3c01",
   "metadata": {},
   "outputs": [],
   "source": [
    "mouse = [+1, -7, +6, -10, +9, -8, +2, -11, -3, +5, +4]"
   ]
  },
  {
   "cell_type": "code",
   "execution_count": 2,
   "id": "2f4ee6d8-1f1d-439a-b078-82e521047091",
   "metadata": {},
   "outputs": [],
   "source": [
    "human = [1,2,3,4,5,6,7,8,9,10,11]"
   ]
  },
  {
   "cell_type": "code",
   "execution_count": 3,
   "id": "97523a7a-9f5e-428e-b1b8-707a7e5e1f2b",
   "metadata": {},
   "outputs": [],
   "source": [
    "def flip(p, i, j):\n",
    "    \n",
    "    \"Invertir el genoma P de (one-based) posicion i hasta j (inclusivo)\"\n",
    "    #print(i,j)\n",
    "    middle = p[i:j+1]\n",
    "    middle.reverse()\n",
    "    return p[:i] + [-x for x in middle] + p[j+1:]"
   ]
  },
  {
   "cell_type": "code",
   "execution_count": 4,
   "id": "ae26feb8-2036-4c56-9a0f-b9c363d7e89c",
   "metadata": {},
   "outputs": [],
   "source": [
    "def find(p, k):\n",
    "    \"Encontrar la posicion de k (o -k) en p.\"\n",
    "    retval = 0\n",
    "    if k in p:\n",
    "        retval = p.index(k)\n",
    "    else:\n",
    "        retval = p.index(-k)\n",
    "    return retval"
   ]
  },
  {
   "cell_type": "code",
   "execution_count": 5,
   "id": "da5766d0-77c4-45c4-a70e-cb732b8b6e9c",
   "metadata": {},
   "outputs": [
    {
     "data": {
      "text/plain": [
       "[1, -7, 11, -2, 8, -9, 10, -6, -3, 5, 4]"
      ]
     },
     "execution_count": 5,
     "metadata": {},
     "output_type": "execute_result"
    }
   ],
   "source": [
    "flip(mouse, 2, 7)"
   ]
  },
  {
   "cell_type": "code",
   "execution_count": null,
   "id": "9b85e123-d9e9-49f4-b1f2-9b09ea8f8920",
   "metadata": {},
   "outputs": [],
   "source": []
  },
  {
   "cell_type": "markdown",
   "id": "5820b10f-ea2a-42c6-b16a-b89e3e204e89",
   "metadata": {},
   "source": [
    "![GreedySorting](greedysorting.png)"
   ]
  },
  {
   "cell_type": "code",
   "execution_count": 6,
   "id": "c84374c9-534a-484f-9f86-27f5f1aab233",
   "metadata": {},
   "outputs": [],
   "source": [
    "def GreedySorting(p):\n",
    "    p = [0] + p # para que la posicion concuerde con el indice\n",
    "    dist = 0\n",
    "    for k in range(1, len(p)):\n",
    "        if k != (p[k]):\n",
    "            place = find(p, k)\n",
    "            p = flip(p, k, place)\n",
    "            dist += 1\n",
    "            if p[k] == -k:\n",
    "                p = flip(p,k,k)\n",
    "                dist += 1\n",
    "        #print(p[1:])\n",
    "    return dist\n",
    "            "
   ]
  },
  {
   "cell_type": "code",
   "execution_count": 7,
   "id": "ab5aab3a-d28d-427d-9f77-88d6219700df",
   "metadata": {},
   "outputs": [
    {
     "data": {
      "text/plain": [
       "11"
      ]
     },
     "execution_count": 7,
     "metadata": {},
     "output_type": "execute_result"
    }
   ],
   "source": [
    "GreedySorting(mouse)"
   ]
  },
  {
   "cell_type": "code",
   "execution_count": 8,
   "id": "e4101fb7-395e-43b2-bfb5-63ba3cf9f570",
   "metadata": {},
   "outputs": [],
   "source": [
    "def adjacencies(p):\n",
    "    adj = 0\n",
    "    p = [0] + p + [len(p)+1]\n",
    "    for i in range(0,len(p)-1):\n",
    "        if p[i+1] - p[i] == 1:\n",
    "            adj += 1\n",
    "            \n",
    "    return adj"
   ]
  },
  {
   "cell_type": "code",
   "execution_count": 9,
   "id": "ac08a6d2-bc9c-44f2-a993-078836b6a1b6",
   "metadata": {},
   "outputs": [
    {
     "data": {
      "text/plain": [
       "1"
      ]
     },
     "execution_count": 9,
     "metadata": {},
     "output_type": "execute_result"
    }
   ],
   "source": [
    "adjacencies(mouse)"
   ]
  },
  {
   "cell_type": "code",
   "execution_count": 10,
   "id": "0e85a05d-68f3-4170-86d0-f4dcf79dfe01",
   "metadata": {},
   "outputs": [],
   "source": [
    "def breaks(p):\n",
    "    p = [0] + p + [len(p)+1]\n",
    "    retval = 0\n",
    "    for i in range(len(p)-1):\n",
    "        if p[i+1] - p[i] != 1:\n",
    "            retval += 1\n",
    "    return retval"
   ]
  },
  {
   "cell_type": "code",
   "execution_count": 11,
   "id": "dadb6962-9ad9-4028-94ca-81774c0564d4",
   "metadata": {},
   "outputs": [
    {
     "data": {
      "text/plain": [
       "11"
      ]
     },
     "execution_count": 11,
     "metadata": {},
     "output_type": "execute_result"
    }
   ],
   "source": [
    "breaks(mouse)"
   ]
  },
  {
   "cell_type": "code",
   "execution_count": 12,
   "id": "e18679f7-89c7-48a6-b428-978a8b18dc3f",
   "metadata": {},
   "outputs": [
    {
     "data": {
      "text/plain": [
       "2"
      ]
     },
     "execution_count": 12,
     "metadata": {},
     "output_type": "execute_result"
    }
   ],
   "source": [
    "breaks(list(range(-10,0,1)))"
   ]
  },
  {
   "cell_type": "code",
   "execution_count": 13,
   "id": "61a75a76-e7d6-4fd6-80f4-76aec584f443",
   "metadata": {},
   "outputs": [
    {
     "data": {
      "text/plain": [
       "[-10, -9, -8, -7, -6, -5, -4, -3, -2, -1]"
      ]
     },
     "execution_count": 13,
     "metadata": {},
     "output_type": "execute_result"
    }
   ],
   "source": [
    "list(range(-10,0,1))"
   ]
  },
  {
   "cell_type": "code",
   "execution_count": 14,
   "id": "5ca5872a-15f9-4557-8c4f-2d3191e31f6b",
   "metadata": {},
   "outputs": [
    {
     "data": {
      "text/plain": [
       "0"
      ]
     },
     "execution_count": 14,
     "metadata": {},
     "output_type": "execute_result"
    }
   ],
   "source": [
    "breaks(human)"
   ]
  },
  {
   "cell_type": "code",
   "execution_count": 15,
   "id": "b6e72f97-7883-421e-89b8-d42c3f0b1132",
   "metadata": {},
   "outputs": [
    {
     "data": {
      "text/plain": [
       "12"
      ]
     },
     "execution_count": 15,
     "metadata": {},
     "output_type": "execute_result"
    }
   ],
   "source": [
    "adjacencies(human)"
   ]
  },
  {
   "cell_type": "code",
   "execution_count": null,
   "id": "6d14b9ba-2cdb-4bc2-90e0-e36c7609b508",
   "metadata": {},
   "outputs": [],
   "source": []
  }
 ],
 "metadata": {
  "kernelspec": {
   "display_name": "Python 3",
   "language": "python",
   "name": "python3"
  },
  "language_info": {
   "codemirror_mode": {
    "name": "ipython",
    "version": 3
   },
   "file_extension": ".py",
   "mimetype": "text/x-python",
   "name": "python",
   "nbconvert_exporter": "python",
   "pygments_lexer": "ipython3",
   "version": "3.8.20"
  }
 },
 "nbformat": 4,
 "nbformat_minor": 5
}
