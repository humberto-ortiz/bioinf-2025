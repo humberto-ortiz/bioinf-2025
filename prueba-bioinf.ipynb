{
 "cells": [
  {
   "cell_type": "markdown",
   "id": "4ec0a175-33df-4aa9-8f48-cd3873864ab6",
   "metadata": {},
   "source": [
    "# Ejemplo E coli\n",
    "\n",
    "Humberto Ortiz Zuazaga"
   ]
  },
  {
   "cell_type": "code",
   "execution_count": 7,
   "id": "cd242e9e-77e5-45b5-bcf4-36e6c0f3c97d",
   "metadata": {},
   "outputs": [],
   "source": [
    "import patterncount as pc"
   ]
  },
  {
   "cell_type": "code",
   "execution_count": 8,
   "id": "43740b66-6b8c-45bd-a10e-46d9813e6868",
   "metadata": {},
   "outputs": [
    {
     "name": "stdout",
     "output_type": "stream",
     "text": [
      "[1, 1, 1, 1, 1, 1, 2, 2, 2, 2, 2, 2, 1]\n"
     ]
    },
    {
     "data": {
      "text/plain": [
       "{'ACT', 'CTA', 'TAC'}"
      ]
     },
     "execution_count": 8,
     "metadata": {},
     "output_type": "execute_result"
    }
   ],
   "source": [
    "pc.FrequentWords(\"ACGTATTACTACTAA\", 3)"
   ]
  },
  {
   "cell_type": "code",
   "execution_count": 10,
   "id": "a7a092d0-5732-417b-88cd-b0740c72ed1f",
   "metadata": {},
   "outputs": [
    {
     "name": "stdout",
     "output_type": "stream",
     "text": [
      "Help on module math:\n",
      "\n",
      "NAME\n",
      "    math\n",
      "\n",
      "MODULE REFERENCE\n",
      "    https://docs.python.org/3.8/library/math\n",
      "    \n",
      "    The following documentation is automatically generated from the Python\n",
      "    source files.  It may be incomplete, incorrect or include features that\n",
      "    are considered implementation detail and may vary between Python\n",
      "    implementations.  When in doubt, consult the module reference at the\n",
      "    location listed above.\n",
      "\n",
      "DESCRIPTION\n",
      "    This module provides access to the mathematical functions\n",
      "    defined by the C standard.\n",
      "\n",
      "FUNCTIONS\n",
      "    acos(x, /)\n",
      "        Return the arc cosine (measured in radians) of x.\n",
      "    \n",
      "    acosh(x, /)\n",
      "        Return the inverse hyperbolic cosine of x.\n",
      "    \n",
      "    asin(x, /)\n",
      "        Return the arc sine (measured in radians) of x.\n",
      "    \n",
      "    asinh(x, /)\n",
      "        Return the inverse hyperbolic sine of x.\n",
      "    \n",
      "    atan(x, /)\n",
      "        Return the arc tangent (measured in radians) of x.\n",
      "    \n",
      "    atan2(y, x, /)\n",
      "        Return the arc tangent (measured in radians) of y/x.\n",
      "        \n",
      "        Unlike atan(y/x), the signs of both x and y are considered.\n",
      "    \n",
      "    atanh(x, /)\n",
      "        Return the inverse hyperbolic tangent of x.\n",
      "    \n",
      "    ceil(x, /)\n",
      "        Return the ceiling of x as an Integral.\n",
      "        \n",
      "        This is the smallest integer >= x.\n",
      "    \n",
      "    comb(n, k, /)\n",
      "        Number of ways to choose k items from n items without repetition and without order.\n",
      "        \n",
      "        Evaluates to n! / (k! * (n - k)!) when k <= n and evaluates\n",
      "        to zero when k > n.\n",
      "        \n",
      "        Also called the binomial coefficient because it is equivalent\n",
      "        to the coefficient of k-th term in polynomial expansion of the\n",
      "        expression (1 + x)**n.\n",
      "        \n",
      "        Raises TypeError if either of the arguments are not integers.\n",
      "        Raises ValueError if either of the arguments are negative.\n",
      "    \n",
      "    copysign(x, y, /)\n",
      "        Return a float with the magnitude (absolute value) of x but the sign of y.\n",
      "        \n",
      "        On platforms that support signed zeros, copysign(1.0, -0.0)\n",
      "        returns -1.0.\n",
      "    \n",
      "    cos(x, /)\n",
      "        Return the cosine of x (measured in radians).\n",
      "    \n",
      "    cosh(x, /)\n",
      "        Return the hyperbolic cosine of x.\n",
      "    \n",
      "    degrees(x, /)\n",
      "        Convert angle x from radians to degrees.\n",
      "    \n",
      "    dist(p, q, /)\n",
      "        Return the Euclidean distance between two points p and q.\n",
      "        \n",
      "        The points should be specified as sequences (or iterables) of\n",
      "        coordinates.  Both inputs must have the same dimension.\n",
      "        \n",
      "        Roughly equivalent to:\n",
      "            sqrt(sum((px - qx) ** 2.0 for px, qx in zip(p, q)))\n",
      "    \n",
      "    erf(x, /)\n",
      "        Error function at x.\n",
      "    \n",
      "    erfc(x, /)\n",
      "        Complementary error function at x.\n",
      "    \n",
      "    exp(x, /)\n",
      "        Return e raised to the power of x.\n",
      "    \n",
      "    expm1(x, /)\n",
      "        Return exp(x)-1.\n",
      "        \n",
      "        This function avoids the loss of precision involved in the direct evaluation of exp(x)-1 for small x.\n",
      "    \n",
      "    fabs(x, /)\n",
      "        Return the absolute value of the float x.\n",
      "    \n",
      "    factorial(x, /)\n",
      "        Find x!.\n",
      "        \n",
      "        Raise a ValueError if x is negative or non-integral.\n",
      "    \n",
      "    floor(x, /)\n",
      "        Return the floor of x as an Integral.\n",
      "        \n",
      "        This is the largest integer <= x.\n",
      "    \n",
      "    fmod(x, y, /)\n",
      "        Return fmod(x, y), according to platform C.\n",
      "        \n",
      "        x % y may differ.\n",
      "    \n",
      "    frexp(x, /)\n",
      "        Return the mantissa and exponent of x, as pair (m, e).\n",
      "        \n",
      "        m is a float and e is an int, such that x = m * 2.**e.\n",
      "        If x is 0, m and e are both 0.  Else 0.5 <= abs(m) < 1.0.\n",
      "    \n",
      "    fsum(seq, /)\n",
      "        Return an accurate floating point sum of values in the iterable seq.\n",
      "        \n",
      "        Assumes IEEE-754 floating point arithmetic.\n",
      "    \n",
      "    gamma(x, /)\n",
      "        Gamma function at x.\n",
      "    \n",
      "    gcd(x, y, /)\n",
      "        greatest common divisor of x and y\n",
      "    \n",
      "    hypot(...)\n",
      "        hypot(*coordinates) -> value\n",
      "        \n",
      "        Multidimensional Euclidean distance from the origin to a point.\n",
      "        \n",
      "        Roughly equivalent to:\n",
      "            sqrt(sum(x**2 for x in coordinates))\n",
      "        \n",
      "        For a two dimensional point (x, y), gives the hypotenuse\n",
      "        using the Pythagorean theorem:  sqrt(x*x + y*y).\n",
      "        \n",
      "        For example, the hypotenuse of a 3/4/5 right triangle is:\n",
      "        \n",
      "            >>> hypot(3.0, 4.0)\n",
      "            5.0\n",
      "    \n",
      "    isclose(a, b, *, rel_tol=1e-09, abs_tol=0.0)\n",
      "        Determine whether two floating point numbers are close in value.\n",
      "        \n",
      "          rel_tol\n",
      "            maximum difference for being considered \"close\", relative to the\n",
      "            magnitude of the input values\n",
      "          abs_tol\n",
      "            maximum difference for being considered \"close\", regardless of the\n",
      "            magnitude of the input values\n",
      "        \n",
      "        Return True if a is close in value to b, and False otherwise.\n",
      "        \n",
      "        For the values to be considered close, the difference between them\n",
      "        must be smaller than at least one of the tolerances.\n",
      "        \n",
      "        -inf, inf and NaN behave similarly to the IEEE 754 Standard.  That\n",
      "        is, NaN is not close to anything, even itself.  inf and -inf are\n",
      "        only close to themselves.\n",
      "    \n",
      "    isfinite(x, /)\n",
      "        Return True if x is neither an infinity nor a NaN, and False otherwise.\n",
      "    \n",
      "    isinf(x, /)\n",
      "        Return True if x is a positive or negative infinity, and False otherwise.\n",
      "    \n",
      "    isnan(x, /)\n",
      "        Return True if x is a NaN (not a number), and False otherwise.\n",
      "    \n",
      "    isqrt(n, /)\n",
      "        Return the integer part of the square root of the input.\n",
      "    \n",
      "    ldexp(x, i, /)\n",
      "        Return x * (2**i).\n",
      "        \n",
      "        This is essentially the inverse of frexp().\n",
      "    \n",
      "    lgamma(x, /)\n",
      "        Natural logarithm of absolute value of Gamma function at x.\n",
      "    \n",
      "    log(...)\n",
      "        log(x, [base=math.e])\n",
      "        Return the logarithm of x to the given base.\n",
      "        \n",
      "        If the base not specified, returns the natural logarithm (base e) of x.\n",
      "    \n",
      "    log10(x, /)\n",
      "        Return the base 10 logarithm of x.\n",
      "    \n",
      "    log1p(x, /)\n",
      "        Return the natural logarithm of 1+x (base e).\n",
      "        \n",
      "        The result is computed in a way which is accurate for x near zero.\n",
      "    \n",
      "    log2(x, /)\n",
      "        Return the base 2 logarithm of x.\n",
      "    \n",
      "    modf(x, /)\n",
      "        Return the fractional and integer parts of x.\n",
      "        \n",
      "        Both results carry the sign of x and are floats.\n",
      "    \n",
      "    perm(n, k=None, /)\n",
      "        Number of ways to choose k items from n items without repetition and with order.\n",
      "        \n",
      "        Evaluates to n! / (n - k)! when k <= n and evaluates\n",
      "        to zero when k > n.\n",
      "        \n",
      "        If k is not specified or is None, then k defaults to n\n",
      "        and the function returns n!.\n",
      "        \n",
      "        Raises TypeError if either of the arguments are not integers.\n",
      "        Raises ValueError if either of the arguments are negative.\n",
      "    \n",
      "    pow(x, y, /)\n",
      "        Return x**y (x to the power of y).\n",
      "    \n",
      "    prod(iterable, /, *, start=1)\n",
      "        Calculate the product of all the elements in the input iterable.\n",
      "        \n",
      "        The default start value for the product is 1.\n",
      "        \n",
      "        When the iterable is empty, return the start value.  This function is\n",
      "        intended specifically for use with numeric values and may reject\n",
      "        non-numeric types.\n",
      "    \n",
      "    radians(x, /)\n",
      "        Convert angle x from degrees to radians.\n",
      "    \n",
      "    remainder(x, y, /)\n",
      "        Difference between x and the closest integer multiple of y.\n",
      "        \n",
      "        Return x - n*y where n*y is the closest integer multiple of y.\n",
      "        In the case where x is exactly halfway between two multiples of\n",
      "        y, the nearest even value of n is used. The result is always exact.\n",
      "    \n",
      "    sin(x, /)\n",
      "        Return the sine of x (measured in radians).\n",
      "    \n",
      "    sinh(x, /)\n",
      "        Return the hyperbolic sine of x.\n",
      "    \n",
      "    sqrt(x, /)\n",
      "        Return the square root of x.\n",
      "    \n",
      "    tan(x, /)\n",
      "        Return the tangent of x (measured in radians).\n",
      "    \n",
      "    tanh(x, /)\n",
      "        Return the hyperbolic tangent of x.\n",
      "    \n",
      "    trunc(x, /)\n",
      "        Truncates the Real x to the nearest Integral toward 0.\n",
      "        \n",
      "        Uses the __trunc__ magic method.\n",
      "\n",
      "DATA\n",
      "    e = 2.718281828459045\n",
      "    inf = inf\n",
      "    nan = nan\n",
      "    pi = 3.141592653589793\n",
      "    tau = 6.283185307179586\n",
      "\n",
      "FILE\n",
      "    /Users/humberto/opt/anaconda3/lib/python3.8/lib-dynload/math.cpython-38-darwin.so\n",
      "\n",
      "\n"
     ]
    }
   ],
   "source": [
    "import math\n",
    "help(math)"
   ]
  },
  {
   "cell_type": "code",
   "execution_count": 11,
   "id": "0df80153-b17e-4ab5-b2e6-28c1827169a7",
   "metadata": {},
   "outputs": [],
   "source": [
    "import random"
   ]
  },
  {
   "cell_type": "code",
   "execution_count": 12,
   "id": "7bd80169-ed7f-430a-ae78-5d820955ab04",
   "metadata": {},
   "outputs": [
    {
     "data": {
      "text/plain": [
       "'T'"
      ]
     },
     "execution_count": 12,
     "metadata": {},
     "output_type": "execute_result"
    }
   ],
   "source": [
    "bases = \"ACGTATTACGT\"\n",
    "\n",
    "random.choice(bases)"
   ]
  },
  {
   "cell_type": "code",
   "execution_count": 13,
   "id": "f88f35bf-7fdc-4f85-88d0-d9a9b6c73ffd",
   "metadata": {},
   "outputs": [
    {
     "data": {
      "text/plain": [
       "'T'"
      ]
     },
     "execution_count": 13,
     "metadata": {},
     "output_type": "execute_result"
    }
   ],
   "source": [
    "random.choice(bases)"
   ]
  },
  {
   "cell_type": "code",
   "execution_count": 14,
   "id": "06b0d9cb-8557-45dc-9cbe-e36a06ab5bdf",
   "metadata": {},
   "outputs": [
    {
     "data": {
      "text/plain": [
       "'A'"
      ]
     },
     "execution_count": 14,
     "metadata": {},
     "output_type": "execute_result"
    }
   ],
   "source": [
    "random.choice(bases)"
   ]
  },
  {
   "cell_type": "markdown",
   "id": "277be8ba-9d80-43f7-b1de-5c93bd92a131",
   "metadata": {},
   "source": [
    "# Practicando con for"
   ]
  },
  {
   "cell_type": "code",
   "execution_count": 16,
   "id": "8e2d55e1-0e44-4768-aa1a-05c48a16d7ce",
   "metadata": {},
   "outputs": [
    {
     "name": "stdout",
     "output_type": "stream",
     "text": [
      "El numero es: \n",
      "El numero es: \n",
      "El numero es: \n",
      "5\n"
     ]
    }
   ],
   "source": [
    "for number in [2, 3, 5]:\n",
    "    print(\"El numero es: \")\n",
    "    print(number)"
   ]
  },
  {
   "cell_type": "code",
   "execution_count": 17,
   "id": "0488d1d5-4dbc-42f6-a153-5902cb959e4d",
   "metadata": {},
   "outputs": [
    {
     "data": {
      "text/plain": [
       "5"
      ]
     },
     "execution_count": 17,
     "metadata": {},
     "output_type": "execute_result"
    }
   ],
   "source": [
    "number"
   ]
  },
  {
   "cell_type": "code",
   "execution_count": 18,
   "id": "c11ba544-a011-469c-9ab8-d018b61fb5d7",
   "metadata": {},
   "outputs": [],
   "source": [
    "del(number)"
   ]
  },
  {
   "cell_type": "code",
   "execution_count": 19,
   "id": "5eeb6b29-3b8b-4675-a4c8-9341373999ff",
   "metadata": {},
   "outputs": [
    {
     "ename": "NameError",
     "evalue": "name 'number' is not defined",
     "output_type": "error",
     "traceback": [
      "\u001b[0;31m---------------------------------------------------------------------------\u001b[0m",
      "\u001b[0;31mNameError\u001b[0m                                 Traceback (most recent call last)",
      "\u001b[0;32m<ipython-input-19-d1ac3c3a168f>\u001b[0m in \u001b[0;36m<module>\u001b[0;34m\u001b[0m\n\u001b[0;32m----> 1\u001b[0;31m \u001b[0mnumber\u001b[0m\u001b[0;34m\u001b[0m\u001b[0;34m\u001b[0m\u001b[0m\n\u001b[0m",
      "\u001b[0;31mNameError\u001b[0m: name 'number' is not defined"
     ]
    }
   ],
   "source": [
    "number"
   ]
  },
  {
   "cell_type": "code",
   "execution_count": 20,
   "id": "77ac312e-48ee-4914-b83f-e6f8cf80b569",
   "metadata": {},
   "outputs": [
    {
     "name": "stdout",
     "output_type": "stream",
     "text": [
      "0\n",
      "1\n",
      "2\n",
      "3\n",
      "4\n",
      "5\n",
      "6\n",
      "7\n",
      "8\n",
      "9\n"
     ]
    }
   ],
   "source": [
    "for i in range(10):\n",
    "    print(i)"
   ]
  },
  {
   "cell_type": "code",
   "execution_count": 21,
   "id": "e2e3f8a6-c396-433d-b19e-5ece279e824f",
   "metadata": {},
   "outputs": [
    {
     "name": "stdout",
     "output_type": "stream",
     "text": [
      "0\n",
      "1\n",
      "2\n",
      "3\n",
      "4\n",
      "5\n",
      "6\n",
      "7\n",
      "8\n",
      "9\n"
     ]
    }
   ],
   "source": [
    "i = 0\n",
    "while (i < 10):\n",
    "    print(i)\n",
    "    i += 1"
   ]
  },
  {
   "cell_type": "markdown",
   "id": "dfdf3af8-33a0-4d56-9aaf-ff99e23c34ef",
   "metadata": {},
   "source": [
    "# Seleccion"
   ]
  },
  {
   "cell_type": "code",
   "execution_count": 22,
   "id": "440e459a-d54d-460a-945e-69eacec71293",
   "metadata": {},
   "outputs": [],
   "source": [
    "temp = 85"
   ]
  },
  {
   "cell_type": "code",
   "execution_count": 24,
   "id": "708b12a4-fb2f-46cb-9eae-754bb9292ebc",
   "metadata": {},
   "outputs": [
    {
     "name": "stdout",
     "output_type": "stream",
     "text": [
      "caliente\n"
     ]
    }
   ],
   "source": [
    "if temp < 70:\n",
    "    print(\"frio\")\n",
    "elif temp < 80:\n",
    "    print(\"agradable\")\n",
    "else:\n",
    "    print(\"caliente\")"
   ]
  },
  {
   "cell_type": "markdown",
   "id": "b8bf02ea-00da-45a8-9741-47150c54ce0d",
   "metadata": {},
   "source": [
    "# Leer archivos"
   ]
  },
  {
   "cell_type": "code",
   "execution_count": 30,
   "id": "f5819356-5ccb-4827-b021-24303b72e80e",
   "metadata": {},
   "outputs": [],
   "source": [
    "with open(\"vibrio-ori.txt\") as f:\n",
    "    Text = \"\"\n",
    "    for line in f.readlines():\n",
    "        line = line.strip()\n",
    "        Text += line"
   ]
  },
  {
   "cell_type": "code",
   "execution_count": 32,
   "id": "be222832-b4ed-4d4c-b225-3503ab82be04",
   "metadata": {},
   "outputs": [
    {
     "data": {
      "text/plain": [
       "['atgatcaag', 'ctcttgatc', 'tcttgatca', 'cttgatcat']"
      ]
     },
     "execution_count": 32,
     "metadata": {},
     "output_type": "execute_result"
    }
   ],
   "source": [
    "pc.BetterFrequentWords(Text,9)"
   ]
  },
  {
   "cell_type": "markdown",
   "id": "f449b2d1-9a3c-45a4-b4e1-296df5b70384",
   "metadata": {},
   "source": [
    " ahora con el genoma completo"
   ]
  },
  {
   "cell_type": "code",
   "execution_count": 33,
   "id": "b6e7b7f2-6b71-4771-b4c7-ca3c81314e4b",
   "metadata": {},
   "outputs": [],
   "source": [
    "with open(\"Vibrio_cholerae.txt\") as f:\n",
    "    Text = \"\"\n",
    "    for line in f.readlines():\n",
    "        line = line.strip()\n",
    "        Text += line"
   ]
  },
  {
   "cell_type": "code",
   "execution_count": 34,
   "id": "b5f7984e-62f1-4a8c-85e0-8732faa08341",
   "metadata": {},
   "outputs": [
    {
     "data": {
      "text/plain": [
       "['GCGTTTGTT']"
      ]
     },
     "execution_count": 34,
     "metadata": {},
     "output_type": "execute_result"
    }
   ],
   "source": [
    "pc.BetterFrequentWords(Text,9)"
   ]
  },
  {
   "cell_type": "markdown",
   "id": "6af6312a-9a37-4151-afdc-ce6510c15f6d",
   "metadata": {},
   "source": [
    "# Chequear E. coli"
   ]
  },
  {
   "cell_type": "code",
   "execution_count": null,
   "id": "725b01d2-61dc-416d-8bde-16bfbc15ff7a",
   "metadata": {},
   "outputs": [],
   "source": []
  },
  {
   "cell_type": "code",
   "execution_count": 1,
   "id": "72f96acc-45d8-48b0-9bab-8a36ffd16d4a",
   "metadata": {},
   "outputs": [],
   "source": [
    "with open(\"E_coli.txt\") as f:\n",
    "    Text = \"\"\n",
    "    for line in f.readlines():\n",
    "        line = line.strip()\n",
    "        Text += line"
   ]
  },
  {
   "cell_type": "code",
   "execution_count": 2,
   "id": "d474da3a-cb11-4898-a6da-a87f23869285",
   "metadata": {},
   "outputs": [],
   "source": [
    "def FreqLetra(frag, letra):\n",
    "    count = 0\n",
    "    for base in frag:\n",
    "        if letra == base:\n",
    "            count += 1\n",
    "    return count/len(frag)"
   ]
  },
  {
   "cell_type": "code",
   "execution_count": 4,
   "id": "2d80dffa-fecb-41f9-b277-6a0e131ddf22",
   "metadata": {},
   "outputs": [
    {
     "data": {
      "text/plain": [
       "0.03225806451612903"
      ]
     },
     "execution_count": 4,
     "metadata": {},
     "output_type": "execute_result"
    }
   ],
   "source": [
    "15/465"
   ]
  },
  {
   "cell_type": "code",
   "execution_count": 3,
   "id": "e90edfd3-8332-421a-8a1a-2d2ed7d501e9",
   "metadata": {},
   "outputs": [
    {
     "data": {
      "text/plain": [
       "4639675"
      ]
     },
     "execution_count": 3,
     "metadata": {},
     "output_type": "execute_result"
    }
   ],
   "source": [
    "len(Text)"
   ]
  },
  {
   "cell_type": "code",
   "execution_count": 6,
   "id": "188d2386-11d2-402c-8681-5373c3047f72",
   "metadata": {},
   "outputs": [
    {
     "data": {
      "text/plain": [
       "0.254"
      ]
     },
     "execution_count": 6,
     "metadata": {},
     "output_type": "execute_result"
    }
   ],
   "source": [
    "FreqLetra(Text[0:1000], \"C\")"
   ]
  },
  {
   "cell_type": "code",
   "execution_count": 7,
   "id": "6dd20415-3591-4265-8708-ed95bedbdcb8",
   "metadata": {},
   "outputs": [],
   "source": [
    "freqc = []\n",
    "freqg = []\n",
    "freqd = []\n",
    "\n",
    "for i in range(0, len(Text), 100000):\n",
    "    fragment = Text[i:i+100000]\n",
    "    freqc.append(FreqLetra(fragment, \"C\"))\n",
    "    freqg.append(FreqLetra(fragment, \"G\"))\n",
    "    freqd.append(freqg[-1] - freqc[-1])\n",
    "    "
   ]
  },
  {
   "cell_type": "code",
   "execution_count": 8,
   "id": "5db2fb61-a91c-4f24-84fd-9e397bf95edb",
   "metadata": {},
   "outputs": [
    {
     "data": {
      "text/plain": [
       "[0.019010000000000027,\n",
       " 0.025230000000000002,\n",
       " 0.011800000000000033,\n",
       " 0.01559000000000002,\n",
       " 0.015140000000000042,\n",
       " 0.020850000000000035,\n",
       " 0.011639999999999984,\n",
       " 0.01285,\n",
       " 0.016240000000000004,\n",
       " 0.015979999999999994,\n",
       " 0.013880000000000003,\n",
       " 0.015240000000000004,\n",
       " 0.014509999999999967,\n",
       " 0.014499999999999985,\n",
       " 0.02318999999999999,\n",
       " 0.0006200000000000094,\n",
       " -0.016759999999999997,\n",
       " -0.013819999999999999,\n",
       " -0.01604,\n",
       " -0.01866000000000001,\n",
       " -0.011269999999999974,\n",
       " -0.016640000000000016,\n",
       " -0.01991000000000001,\n",
       " -0.02174000000000001,\n",
       " -0.015750000000000014,\n",
       " -0.015529999999999988,\n",
       " -0.01676999999999995,\n",
       " -0.01796000000000003,\n",
       " -0.015550000000000008,\n",
       " -0.02285999999999999,\n",
       " -0.014610000000000012,\n",
       " -0.01891000000000001,\n",
       " -0.012149999999999994,\n",
       " -0.021720000000000017,\n",
       " -0.016400000000000026,\n",
       " -0.02193999999999996,\n",
       " -0.01177000000000003,\n",
       " -0.006499999999999978,\n",
       " -0.016130000000000005,\n",
       " 0.01035999999999998,\n",
       " 0.014360000000000012,\n",
       " 0.019930000000000003,\n",
       " 0.015569999999999973,\n",
       " 0.01206999999999997,\n",
       " 0.017020000000000007,\n",
       " 0.009230000000000016,\n",
       " 0.020844360428481423]"
      ]
     },
     "execution_count": 8,
     "metadata": {},
     "output_type": "execute_result"
    }
   ],
   "source": [
    "freqd"
   ]
  },
  {
   "cell_type": "code",
   "execution_count": 9,
   "id": "f686865f-7e1f-4fee-b73a-1b1d197dd189",
   "metadata": {},
   "outputs": [
    {
     "data": {
      "text/plain": [
       "47"
      ]
     },
     "execution_count": 9,
     "metadata": {},
     "output_type": "execute_result"
    }
   ],
   "source": [
    "len(frequencias)"
   ]
  },
  {
   "cell_type": "code",
   "execution_count": 4,
   "id": "c19a8687-48f5-433d-9ce5-c3f9260e571e",
   "metadata": {},
   "outputs": [],
   "source": [
    "import matplotlib.pyplot as plt"
   ]
  },
  {
   "cell_type": "code",
   "execution_count": 12,
   "id": "cd0aa19c-ef7f-450f-a2c3-eb09e935c8d6",
   "metadata": {},
   "outputs": [
    {
     "data": {
      "text/plain": [
       "<BarContainer object of 47 artists>"
      ]
     },
     "execution_count": 12,
     "metadata": {},
     "output_type": "execute_result"
    },
    {
     "data": {
      "image/png": "[encoded data removed]",
      "text/plain": [
       "<Figure size 432x288 with 1 Axes>"
      ]
     },
     "metadata": {
      "needs_background": "light"
     },
     "output_type": "display_data"
    }
   ],
   "source": [
    "plt.bar(range(len(freqd)), freqd)"
   ]
  },
  {
   "cell_type": "code",
   "execution_count": null,
   "id": "807830e8-a853-4f5e-96e9-b51e7b0e5b4c",
   "metadata": {},
   "outputs": [],
   "source": []
  },
  {
   "cell_type": "code",
   "execution_count": 13,
   "id": "a54a7441-e779-46c8-ba82-abba67852ed1",
   "metadata": {},
   "outputs": [
    {
     "data": {
      "text/plain": [
       "1073741824"
      ]
     },
     "execution_count": 13,
     "metadata": {},
     "output_type": "execute_result"
    }
   ],
   "source": [
    "4**15"
   ]
  },
  {
   "cell_type": "code",
   "execution_count": null,
   "id": "5ae96f84-911d-4cf6-acec-0ce245f9aa0a",
   "metadata": {},
   "outputs": [],
   "source": []
  }
 ],
 "metadata": {
  "kernelspec": {
   "display_name": "Python 3",
   "language": "python",
   "name": "python3"
  },
  "language_info": {
   "codemirror_mode": {
    "name": "ipython",
    "version": 3
   },
   "file_extension": ".py",
   "mimetype": "text/x-python",
   "name": "python",
   "nbconvert_exporter": "python",
   "pygments_lexer": "ipython3",
   "version": "3.8.8"
  }
 },
 "nbformat": 4,
 "nbformat_minor": 5
}
