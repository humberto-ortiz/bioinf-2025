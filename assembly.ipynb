{
 "cells": [
  {
   "cell_type": "markdown",
   "id": "10c72c13-45cb-40c7-a949-0a63f957ee44",
   "metadata": {},
   "source": [
    "# Assembly\n",
    "\n",
    "Humberto Ortiz Zuazaga\n",
    "\n",
    "Example code for chapter 3."
   ]
  },
  {
   "cell_type": "markdown",
   "id": "102925dd-62be-45d9-a3a4-07af72fc75be",
   "metadata": {},
   "source": [
    "# ba3a\n",
    "\n",
    "Compute the kmer composition of text\n"
   ]
  },
  {
   "cell_type": "code",
   "execution_count": 1,
   "id": "bfd2555c-390c-4fbe-9c5e-cda439bfd484",
   "metadata": {},
   "outputs": [],
   "source": [
    "def Composition(k, text):\n",
    "    kmers = []\n",
    "    for i in range(len(text) - k + 1):\n",
    "        kmers.append(text[i:i+k])\n",
    "    return sorted(kmers)"
   ]
  },
  {
   "cell_type": "code",
   "execution_count": 2,
   "id": "abc09db3-a705-4b58-ac9f-8c1950c17a40",
   "metadata": {},
   "outputs": [
    {
     "data": {
      "text/plain": [
       "['ATG', 'GGG', 'GGG', 'GGT', 'GTG', 'TAT', 'TGC', 'TGG']"
      ]
     },
     "execution_count": 2,
     "metadata": {},
     "output_type": "execute_result"
    }
   ],
   "source": [
    "# prueba del libro\n",
    "Composition(3, \"TATGGGGTGC\")"
   ]
  },
  {
   "cell_type": "markdown",
   "id": "141365c3-e938-41bf-b3e2-4181e24586bb",
   "metadata": {},
   "source": [
    "# Representar grafos\n",
    "\n",
    "Vamos a usar diccionarios de python para representar grafos usando listas de adyacencia.\n",
    "\n",
    "Input: una secuencia y k  \n",
    "Output: el grafo de solape (overlap)"
   ]
  },
  {
   "cell_type": "code",
   "execution_count": 3,
   "id": "07523c90-3f9a-492b-b188-d475a895d336",
   "metadata": {},
   "outputs": [],
   "source": [
    "def MakeOverlapGraph(k, text):\n",
    "    G = {}\n",
    "    c = Composition(k, text)\n",
    "    for primero in c:\n",
    "        for segundo in c:\n",
    "            # check if end of primero is same as begining of segundo\n",
    "            if primero[-(k-1):] == segundo[:k-1]:\n",
    "                if primero not in G:\n",
    "                    G[primero] = {segundo}\n",
    "                else:\n",
    "                    G[primero].add(segundo)\n",
    "    # now collect each kmer and it's edges\n",
    "    final = []\n",
    "    for i in range(len(text) - k + 1):\n",
    "        kmer = text[i:i+k]\n",
    "        try:\n",
    "            final.append((kmer, list(G[kmer])))\n",
    "        except KeyError:\n",
    "            final.append((kmer, []))\n",
    "    final.sort()\n",
    "    return final"
   ]
  },
  {
   "cell_type": "code",
   "execution_count": 4,
   "id": "33469aa1-9f4e-459c-87fa-b62c59ded7e5",
   "metadata": {},
   "outputs": [
    {
     "data": {
      "text/plain": [
       "[('AAT', ['ATG']),\n",
       " ('ATG', ['TGG', 'TGC', 'TGT']),\n",
       " ('ATG', ['TGG', 'TGC', 'TGT']),\n",
       " ('ATG', ['TGG', 'TGC', 'TGT']),\n",
       " ('CAT', ['ATG']),\n",
       " ('CCA', ['CAT']),\n",
       " ('GAT', ['ATG']),\n",
       " ('GCC', ['CCA']),\n",
       " ('GGA', ['GAT']),\n",
       " ('GGG', ['GGG', 'GGA']),\n",
       " ('GTT', []),\n",
       " ('TAA', ['AAT']),\n",
       " ('TGC', ['GCC']),\n",
       " ('TGG', ['GGG', 'GGA']),\n",
       " ('TGT', ['GTT'])]"
      ]
     },
     "execution_count": 4,
     "metadata": {},
     "output_type": "execute_result"
    }
   ],
   "source": [
    "MakeOverlapGraph(3, \"TAATGCCATGGGATGTT\")"
   ]
  },
  {
   "cell_type": "code",
   "execution_count": null,
   "id": "28c177f8-8bf3-417c-84f8-c684f1648bc3",
   "metadata": {},
   "outputs": [],
   "source": []
  }
 ],
 "metadata": {
  "kernelspec": {
   "display_name": "Python 3",
   "language": "python",
   "name": "python3"
  },
  "language_info": {
   "codemirror_mode": {
    "name": "ipython",
    "version": 3
   },
   "file_extension": ".py",
   "mimetype": "text/x-python",
   "name": "python",
   "nbconvert_exporter": "python",
   "pygments_lexer": "ipython3",
   "version": "3.8.20"
  }
 },
 "nbformat": 4,
 "nbformat_minor": 5
}
