{
 "cells": [
  {
   "cell_type": "markdown",
   "id": "10c72c13-45cb-40c7-a949-0a63f957ee44",
   "metadata": {},
   "source": [
    "# Assembly\n",
    "\n",
    "Humberto Ortiz Zuazaga\n",
    "\n",
    "Example code for chapter 3."
   ]
  },
  {
   "cell_type": "markdown",
   "id": "102925dd-62be-45d9-a3a4-07af72fc75be",
   "metadata": {},
   "source": [
    "# ba3a\n",
    "\n",
    "Compute the kmer composition of text\n"
   ]
  },
  {
   "cell_type": "code",
   "execution_count": 1,
   "id": "bfd2555c-390c-4fbe-9c5e-cda439bfd484",
   "metadata": {},
   "outputs": [],
   "source": [
    "def Composition(k, text):\n",
    "    kmers = []\n",
    "    for i in range(len(text) - k + 1):\n",
    "        kmers.append(text[i:i+k])\n",
    "    return sorted(kmers)"
   ]
  },
  {
   "cell_type": "code",
   "execution_count": 2,
   "id": "abc09db3-a705-4b58-ac9f-8c1950c17a40",
   "metadata": {},
   "outputs": [
    {
     "data": {
      "text/plain": [
       "['ATG', 'GGG', 'GGG', 'GGT', 'GTG', 'TAT', 'TGC', 'TGG']"
      ]
     },
     "execution_count": 2,
     "metadata": {},
     "output_type": "execute_result"
    }
   ],
   "source": [
    "# prueba del libro\n",
    "Composition(3, \"TATGGGGTGC\")"
   ]
  },
  {
   "cell_type": "markdown",
   "id": "141365c3-e938-41bf-b3e2-4181e24586bb",
   "metadata": {},
   "source": [
    "# Representar grafos\n",
    "\n",
    "Vamos a usar objetos de python para representar grafos usando listas de adyacencia.\n",
    "\n",
    "Input: una lista de k-mers.   \n",
    "Output: el grafo de solape (overlap) (con flechitas)"
   ]
  },
  {
   "cell_type": "code",
   "execution_count": 3,
   "id": "07523c90-3f9a-492b-b188-d475a895d336",
   "metadata": {},
   "outputs": [],
   "source": [
    "class OverlapGraph():\n",
    "    # para crear un OverlapGraph\n",
    "    def __init__(self, pattern):\n",
    "        self.pattern = pattern\n",
    "        self.index = 0\n",
    "        self.G = {}\n",
    "        k = len(pattern[0])\n",
    "\n",
    "        for primero in pattern:\n",
    "            if primero not in self.G:\n",
    "                self.G[primero] = set()\n",
    "            for segundo in pattern:\n",
    "                # check if end of primero is same as begining of segundo\n",
    "                if primero[-(k-1):] == segundo[:k-1]:\n",
    "                    self.G[primero].add(segundo)\n",
    "    def print(self):\n",
    "        \"Para imprimir un overlap graph como lo quiere rosalind.info\"\n",
    "        for kmer, edges in sorted(self):\n",
    "            for edge in edges:\n",
    "                print(kmer, \"->\", edge)\n",
    "\n",
    "    # metodos especiales de python para iteracion (for loop)\n",
    "    def __iter__(self):\n",
    "        return self\n",
    "    \n",
    "    # pasar al proximo elemento\n",
    "    def __next__(self):\n",
    "        if self.index == len(self.pattern):\n",
    "            self.index = 0\n",
    "            raise StopIteration\n",
    "            \n",
    "        kmer = self.pattern[self.index]\n",
    "        edges = list(self.G[kmer])\n",
    "        self.index = self.index + 1\n",
    "        return (kmer, edges)\n",
    "    \n",
    "    # extraer la lista de adyacencia de un elemento\n",
    "    def __getitem__(self, kmer):\n",
    "        return list(self.G[kmer])"
   ]
  },
  {
   "cell_type": "code",
   "execution_count": 4,
   "id": "33469aa1-9f4e-459c-87fa-b62c59ded7e5",
   "metadata": {},
   "outputs": [],
   "source": [
    "G = OverlapGraph(Composition(3, \"TAATGCCATGGGATGTT\"))"
   ]
  },
  {
   "cell_type": "code",
   "execution_count": 5,
   "id": "b24f8f0e-2fa5-4996-8cfe-89b1e045e64a",
   "metadata": {},
   "outputs": [
    {
     "data": {
      "text/plain": [
       "[('AAT', ['ATG']),\n",
       " ('ATG', ['TGT', 'TGG', 'TGC']),\n",
       " ('ATG', ['TGT', 'TGG', 'TGC']),\n",
       " ('ATG', ['TGT', 'TGG', 'TGC']),\n",
       " ('CAT', ['ATG']),\n",
       " ('CCA', ['CAT']),\n",
       " ('GAT', ['ATG']),\n",
       " ('GCC', ['CCA']),\n",
       " ('GGA', ['GAT']),\n",
       " ('GGG', ['GGA', 'GGG']),\n",
       " ('GTT', []),\n",
       " ('TAA', ['AAT']),\n",
       " ('TGC', ['GCC']),\n",
       " ('TGG', ['GGA', 'GGG']),\n",
       " ('TGT', ['GTT'])]"
      ]
     },
     "execution_count": 5,
     "metadata": {},
     "output_type": "execute_result"
    }
   ],
   "source": [
    "list(G)"
   ]
  },
  {
   "cell_type": "code",
   "execution_count": 6,
   "id": "3bae5ec8-9f94-41fd-b7e8-5bff36b058f4",
   "metadata": {},
   "outputs": [
    {
     "name": "stdout",
     "output_type": "stream",
     "text": [
      "AAT -> ATG\n",
      "ATG -> TGT\n",
      "ATG -> TGG\n",
      "ATG -> TGC\n",
      "ATG -> TGT\n",
      "ATG -> TGG\n",
      "ATG -> TGC\n",
      "ATG -> TGT\n",
      "ATG -> TGG\n",
      "ATG -> TGC\n",
      "CAT -> ATG\n",
      "CCA -> CAT\n",
      "GAT -> ATG\n",
      "GCC -> CCA\n",
      "GGA -> GAT\n",
      "GGG -> GGA\n",
      "GGG -> GGG\n",
      "TAA -> AAT\n",
      "TGC -> GCC\n",
      "TGG -> GGA\n",
      "TGG -> GGG\n",
      "TGT -> GTT\n"
     ]
    }
   ],
   "source": [
    "G.print()"
   ]
  },
  {
   "cell_type": "code",
   "execution_count": 7,
   "id": "a2a81a9f-8d8e-4cff-8177-c0e1a60e8e6f",
   "metadata": {},
   "outputs": [
    {
     "name": "stdout",
     "output_type": "stream",
     "text": [
      "AAT -> ATG\n",
      "ATG -> TGT\n",
      "ATG -> TGG\n",
      "ATG -> TGC\n",
      "ATG -> TGT\n",
      "ATG -> TGG\n",
      "ATG -> TGC\n",
      "ATG -> TGT\n",
      "ATG -> TGG\n",
      "ATG -> TGC\n",
      "CAT -> ATG\n",
      "CCA -> CAT\n",
      "GAT -> ATG\n",
      "GCC -> CCA\n",
      "GGA -> GAT\n",
      "GGG -> GGA\n",
      "GGG -> GGG\n",
      "TAA -> AAT\n",
      "TGC -> GCC\n",
      "TGG -> GGA\n",
      "TGG -> GGG\n",
      "TGT -> GTT\n"
     ]
    }
   ],
   "source": [
    "pattern = Composition(3, \"TAATGCCATGGGATGTT\")\n",
    "OverlapGraph(pattern).print()"
   ]
  },
  {
   "cell_type": "markdown",
   "id": "e1255d8a-aeb1-4f87-a758-8c6678e41822",
   "metadata": {},
   "source": [
    "# De Bruijn graph\n",
    "\n",
    "Try solving problem BA3D from rosalind.info."
   ]
  },
  {
   "cell_type": "code",
   "execution_count": 8,
   "id": "dae1b554-7100-478b-9ff8-1b9d0f0fe712",
   "metadata": {},
   "outputs": [],
   "source": [
    "def debruijn(filename):\n",
    "    with open(filename) as f:\n",
    "        k = int(f.readline())\n",
    "        #print(k)\n",
    "        secuencia = f.readline().strip()\n",
    "        G = {}\n",
    "        for i in range(len(secuencia)-k+1):\n",
    "            kmero = secuencia[i:i+k]\n",
    "            principio = kmero[:-1]\n",
    "            final = kmero[1:]\n",
    "            if principio not in G:\n",
    "                G[principio] = [final]\n",
    "            else:\n",
    "                G[principio].append(final)\n",
    "    # el grafo esta en G\n",
    "    # imprimir bonito al archivo \"results.txt\"\n",
    "    \n",
    "    with open(\"results.txt\", mode=\"w\") as f:\n",
    "        keys = G.keys()\n",
    "    \n",
    "        for kmer in sorted(keys):\n",
    "            edges = G[kmer]\n",
    "            print(kmer, \"->\", \",\".join(sorted(edges)), file=f)"
   ]
  },
  {
   "cell_type": "code",
   "execution_count": 9,
   "id": "0cd830bc-40cc-49fa-8bb4-6f608967b115",
   "metadata": {},
   "outputs": [],
   "source": [
    "# cambia el nombre del archivo\n",
    "debruijn(\"/Users/humberto/Downloads/rosalind_ba3d(1).txt\")"
   ]
  },
  {
   "cell_type": "markdown",
   "id": "68bec5ec-d3d9-45ac-9ee0-c1762e72b592",
   "metadata": {},
   "source": [
    "# Pruebas\n",
    "\n",
    "Probando como seleccionar partes de un kmero."
   ]
  },
  {
   "cell_type": "code",
   "execution_count": 10,
   "id": "901319c7-3bd5-4d90-92db-bb6418d75ae1",
   "metadata": {},
   "outputs": [],
   "source": [
    "kmero = \"AAGA\""
   ]
  },
  {
   "cell_type": "code",
   "execution_count": 11,
   "id": "3e958583-7a36-4432-9bd5-cb0e7b5a1741",
   "metadata": {},
   "outputs": [
    {
     "data": {
      "text/plain": [
       "'AAG'"
      ]
     },
     "execution_count": 11,
     "metadata": {},
     "output_type": "execute_result"
    }
   ],
   "source": [
    "kmero[:-1]"
   ]
  },
  {
   "cell_type": "code",
   "execution_count": 12,
   "id": "a355723b-31cc-4c57-9f67-18bcdd707f74",
   "metadata": {},
   "outputs": [
    {
     "data": {
      "text/plain": [
       "'AGA'"
      ]
     },
     "execution_count": 12,
     "metadata": {},
     "output_type": "execute_result"
    }
   ],
   "source": [
    "kmero[1:]"
   ]
  },
  {
   "cell_type": "code",
   "execution_count": 13,
   "id": "96e291e3-c7eb-49b4-a001-196d41caa8a3",
   "metadata": {},
   "outputs": [],
   "source": [
    "edges = ['CTC', 'CTA']"
   ]
  },
  {
   "cell_type": "code",
   "execution_count": 14,
   "id": "0a3dd532-74e5-4628-9295-65844573d356",
   "metadata": {},
   "outputs": [
    {
     "data": {
      "text/plain": [
       "['CTC', 'CTA']"
      ]
     },
     "execution_count": 14,
     "metadata": {},
     "output_type": "execute_result"
    }
   ],
   "source": [
    "edges"
   ]
  },
  {
   "cell_type": "code",
   "execution_count": 15,
   "id": "5ebc5da1-4b93-44d2-b018-ecbf4aec597e",
   "metadata": {},
   "outputs": [
    {
     "data": {
      "text/plain": [
       "'CTC,CTA'"
      ]
     },
     "execution_count": 15,
     "metadata": {},
     "output_type": "execute_result"
    }
   ],
   "source": [
    "\",\".join(edges)"
   ]
  },
  {
   "cell_type": "code",
   "execution_count": 16,
   "id": "02699d32-5f3c-467c-9e0f-01ffc604d048",
   "metadata": {},
   "outputs": [],
   "source": [
    "# Ejemplo de rosalind.info\n",
    "pattern = [\"ATGCG\",\n",
    "\"GCATG\",\n",
    "\"CATGC\",\n",
    "\"AGGCA\",\n",
    "\"GGCAT\"]"
   ]
  },
  {
   "cell_type": "code",
   "execution_count": 17,
   "id": "af946063-87d1-42e9-a89b-81b7425634cc",
   "metadata": {},
   "outputs": [
    {
     "name": "stdout",
     "output_type": "stream",
     "text": [
      "AGGCA -> GGCAT\n",
      "CATGC -> ATGCG\n",
      "GCATG -> CATGC\n",
      "GGCAT -> GCATG\n"
     ]
    }
   ],
   "source": [
    "OverlapGraph(pattern).print()"
   ]
  },
  {
   "cell_type": "code",
   "execution_count": null,
   "id": "5f5ccc5c-332d-44f7-a7e6-146b2af85f78",
   "metadata": {},
   "outputs": [],
   "source": []
  }
 ],
 "metadata": {
  "kernelspec": {
   "display_name": "Python 3",
   "language": "python",
   "name": "python3"
  },
  "language_info": {
   "codemirror_mode": {
    "name": "ipython",
    "version": 3
   },
   "file_extension": ".py",
   "mimetype": "text/x-python",
   "name": "python",
   "nbconvert_exporter": "python",
   "pygments_lexer": "ipython3",
   "version": "3.8.20"
  }
 },
 "nbformat": 4,
 "nbformat_minor": 5
}
