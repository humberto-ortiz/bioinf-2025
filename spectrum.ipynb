{
 "cells": [
  {
   "cell_type": "markdown",
   "id": "3651fd8e-7238-4c63-a53a-799cdf607d79",
   "metadata": {},
   "source": [
    "# Sequencing proteins by mass spectrometry"
   ]
  },
  {
   "cell_type": "markdown",
   "id": "79bab121-139c-4fc3-9991-914eb6723e99",
   "metadata": {},
   "source": [
    "Represent a peptide by a sequence of integers denoting the peptide’s constituent\n",
    "amino acid masses."
   ]
  },
  {
   "cell_type": "code",
   "execution_count": 1,
   "id": "e855ea73-3f2b-458f-ac94-b28390657ca3",
   "metadata": {},
   "outputs": [],
   "source": [
    "# weights from textbook Figure 4.6\n",
    "# G  A  S  P  V  T   C   I   L   N   D   K   Q   E   M   H   F   R   Y   W\n",
    "# 57 71 87 97 99 101 103 113 113 114 115 128 128 129 131 137 147 156 163 186\n",
    "\n",
    "def makeweights():\n",
    "    table = {}\n",
    "    aas     = \"G  A  S  P  V  T   C   I   L   N   D   K   Q   E   M   H   F   R   Y   W\".split()\n",
    "    weights = list(map(int, \"57 71 87 97 99 101 103 113 113 114 115 128 128 129 131 137 147 156 163 186\".split()))\n",
    "    for i in range(len(aas)):\n",
    "        table[aas[i]] = weights[i]\n",
    "    return table"
   ]
  },
  {
   "cell_type": "code",
   "execution_count": 2,
   "id": "656d416a-578a-40a2-a5a0-efa2e1b97beb",
   "metadata": {},
   "outputs": [
    {
     "data": {
      "text/plain": [
       "{'G': 57,\n",
       " 'A': 71,\n",
       " 'S': 87,\n",
       " 'P': 97,\n",
       " 'V': 99,\n",
       " 'T': 101,\n",
       " 'C': 103,\n",
       " 'I': 113,\n",
       " 'L': 113,\n",
       " 'N': 114,\n",
       " 'D': 115,\n",
       " 'K': 128,\n",
       " 'Q': 128,\n",
       " 'E': 129,\n",
       " 'M': 131,\n",
       " 'H': 137,\n",
       " 'F': 147,\n",
       " 'R': 156,\n",
       " 'Y': 163,\n",
       " 'W': 186}"
      ]
     },
     "execution_count": 2,
     "metadata": {},
     "output_type": "execute_result"
    }
   ],
   "source": [
    "aa_wt_table = makeweights()\n",
    "aa_wt_table"
   ]
  },
  {
   "cell_type": "code",
   "execution_count": 3,
   "id": "8dfe4a52-eed8-4b0a-83ab-8b49965f0de4",
   "metadata": {},
   "outputs": [],
   "source": [
    "def convert(sequence):\n",
    "    return [ aa_wt_table[aa] for aa in sequence ]"
   ]
  },
  {
   "cell_type": "code",
   "execution_count": 4,
   "id": "f3709fc1-eb98-492c-a5b2-fab14711d31f",
   "metadata": {},
   "outputs": [
    {
     "data": {
      "text/plain": [
       "[114, 128, 129, 113]"
      ]
     },
     "execution_count": 4,
     "metadata": {},
     "output_type": "execute_result"
    }
   ],
   "source": [
    "convert(\"NQEL\")"
   ]
  },
  {
   "cell_type": "code",
   "execution_count": 5,
   "id": "10198f3e-fef8-4439-9944-85913192dc02",
   "metadata": {},
   "outputs": [],
   "source": [
    "def mass(sequence):\n",
    "    weight = 0\n",
    "    for aa in sequence:\n",
    "        weight += aa\n",
    "    return (weight)"
   ]
  },
  {
   "cell_type": "code",
   "execution_count": 6,
   "id": "ba1de825-57d9-44a8-871b-466afaf3a447",
   "metadata": {},
   "outputs": [],
   "source": [
    "def ParentMass(spectrum):\n",
    "    return spectrum[-1]"
   ]
  },
  {
   "cell_type": "code",
   "execution_count": 7,
   "id": "d225246c-08bb-46c6-b862-a103c79d58b2",
   "metadata": {},
   "outputs": [],
   "source": [
    "# cyclospectrum (problem 4C)\n",
    "\n",
    "def Cyclospectrum(peptide):\n",
    "    # Generate all fragments\n",
    "    fragments = [[], peptide] \n",
    "    for i in range(len(peptide)):\n",
    "        for j in range(1,len(peptide)):\n",
    "            start = i\n",
    "            end = i + j\n",
    "            \n",
    "            fragment = (peptide+peptide)[start:end]\n",
    "            fragments.append(fragment)\n",
    "\n",
    "    # Calculate the spectrum\n",
    "    spectrum = []\n",
    "    for fragment in fragments:\n",
    "        spectrum.append(mass(fragment))\n",
    "    return sorted(spectrum)"
   ]
  },
  {
   "cell_type": "code",
   "execution_count": 11,
   "id": "5673d40f-7ccf-46fd-889f-6774e72a15e9",
   "metadata": {},
   "outputs": [],
   "source": [
    "# Linear spectrum \n",
    "\n",
    "def Linearspectrum(peptide):\n",
    "    # Generate all fragments\n",
    "    fragments = [[], peptide] \n",
    "    for i in range(len(peptide)-1):\n",
    "        for j in range(i+1,len(peptide)):\n",
    "            \n",
    "            fragment = (peptide)[i:j]\n",
    "            fragments.append(fragment)\n",
    "\n",
    "    # Calculate the spectrum\n",
    "    spectrum = []\n",
    "    for fragment in fragments:\n",
    "        spectrum.append(mass(fragment))\n",
    "    return sorted(spectrum)"
   ]
  },
  {
   "cell_type": "code",
   "execution_count": 8,
   "id": "f0e3e56c-7f72-4df7-91c5-01ca74737f2d",
   "metadata": {},
   "outputs": [
    {
     "data": {
      "text/plain": [
       "[0, 113, 114, 128, 129, 227, 242, 242, 257, 355, 356, 370, 371, 484]"
      ]
     },
     "execution_count": 8,
     "metadata": {},
     "output_type": "execute_result"
    }
   ],
   "source": [
    "Cyclospectrum(convert(\"NQEL\"))"
   ]
  },
  {
   "cell_type": "code",
   "execution_count": 12,
   "id": "a21d339a-31f7-4f5d-9581-64bf485ec1e6",
   "metadata": {},
   "outputs": [
    {
     "data": {
      "text/plain": [
       "[0, 114, 128, 129, 242, 257, 371, 484]"
      ]
     },
     "execution_count": 12,
     "metadata": {},
     "output_type": "execute_result"
    }
   ],
   "source": [
    "Linearspectrum(convert(\"NQEL\"))"
   ]
  },
  {
   "cell_type": "markdown",
   "id": "e2713738-dc26-41a3-af1c-916d050828fb",
   "metadata": {},
   "source": [
    "```\n",
    "CYCLOPEPTIDESEQUENCING(Spectrum)\n",
    "  Peptides <- a set containing only the empty peptide\n",
    "  while Peptides is nonempty\n",
    "    Peptides <- EXPAND(Peptides)\n",
    "    for each peptide Peptide in Peptides\n",
    "      if MASS(Peptide) = PARENTMASS(Spectrum)\n",
    "        if CYCLOSPECTRUM(Peptide) = Spectrum\n",
    "          output Peptide\n",
    "        remove Peptide from Peptides\n",
    "      else if Peptide is not consistent with Spectrum\n",
    "        remove Peptide from Peptides\n",
    "```"
   ]
  },
  {
   "cell_type": "code",
   "execution_count": 30,
   "id": "0fa1f4cb-6414-4567-a0be-45f717f848f6",
   "metadata": {},
   "outputs": [],
   "source": [
    "def expand(peptides):\n",
    "    aaws = list(set(aa_wt_table.values()))\n",
    "    newcoll = []\n",
    "    for peptide in peptides:\n",
    "        # newset.add(peptide)\n",
    "        for aa in aaws:\n",
    "            newcoll.append(peptide + [aa])\n",
    "    return newcoll"
   ]
  },
  {
   "cell_type": "code",
   "execution_count": 14,
   "id": "5123844b-1cd3-4410-a7ed-1fd0c4b4fc5e",
   "metadata": {},
   "outputs": [],
   "source": [
    "def consistent(Peptide, Spectrum):\n",
    "    circular = Spectrum[:]\n",
    "    linear = Linearspectrum(Peptide)\n",
    "    for wt in linear:\n",
    "        if wt not in circular:\n",
    "            return False\n",
    "        else:\n",
    "            circular.remove(wt)\n",
    "        \n",
    "    return True"
   ]
  },
  {
   "cell_type": "code",
   "execution_count": 16,
   "id": "358882c6-32d0-4133-a86c-c8cd0176e945",
   "metadata": {},
   "outputs": [
    {
     "data": {
      "text/plain": [
       "True"
      ]
     },
     "execution_count": 16,
     "metadata": {},
     "output_type": "execute_result"
    }
   ],
   "source": [
    "consistent((convert(\"NQEL\")), Cyclospectrum(convert(\"NQEL\")))"
   ]
  },
  {
   "cell_type": "code",
   "execution_count": 21,
   "id": "d52684c4-33b1-473e-8f75-4ebc221c013c",
   "metadata": {},
   "outputs": [],
   "source": [
    "def output(peptide):\n",
    "    print(\"-\".join(list(map(str,peptide))))"
   ]
  },
  {
   "cell_type": "code",
   "execution_count": 27,
   "id": "74445a27-fc45-49a8-bb3a-6d5712099c21",
   "metadata": {},
   "outputs": [],
   "source": [
    "def CycloPeptideSequencing(Spectrum):\n",
    "    Peptides = [[]] # a list containing only the empty list\n",
    "    while len(Peptides) > 0:\n",
    "        Peptides = expand(Peptides)\n",
    "        #print(len(Peptides))\n",
    "        for Peptide in Peptides:\n",
    "            if mass(Peptide) == ParentMass(Spectrum):\n",
    "                if Spectrum == Cyclospectrum(Peptide):\n",
    "                    output(Peptide)\n",
    "                Peptides.remove(Peptide)\n",
    "            elif not consistent(Peptide, Spectrum):\n",
    "                #print(peptide, peptides)\n",
    "                Peptides.remove(Peptide)"
   ]
  },
  {
   "cell_type": "code",
   "execution_count": null,
   "id": "14be83da-c6cc-4022-83ed-5df09de904c8",
   "metadata": {},
   "outputs": [],
   "source": []
  },
  {
   "cell_type": "code",
   "execution_count": null,
   "id": "32786d0b-d40c-4bbe-92f5-a23f7b342d75",
   "metadata": {},
   "outputs": [
    {
     "name": "stdout",
     "output_type": "stream",
     "text": [
      "128-114-113-129\n",
      "129-128-114-113\n",
      "129-113-114-128\n",
      "113-114-128-129\n",
      "114-128-129-113\n",
      "114-113-129-128\n"
     ]
    }
   ],
   "source": [
    "CycloPeptideSequencing(Cyclospectrum(convert(\"NQEL\")))"
   ]
  },
  {
   "cell_type": "code",
   "execution_count": null,
   "id": "4f491d9e-47a9-4213-ae00-8aeb6d4aaca5",
   "metadata": {},
   "outputs": [],
   "source": []
  }
 ],
 "metadata": {
  "kernelspec": {
   "display_name": "Python 3",
   "language": "python",
   "name": "python3"
  },
  "language_info": {
   "codemirror_mode": {
    "name": "ipython",
    "version": 3
   },
   "file_extension": ".py",
   "mimetype": "text/x-python",
   "name": "python",
   "nbconvert_exporter": "python",
   "pygments_lexer": "ipython3",
   "version": "3.8.20"
  }
 },
 "nbformat": 4,
 "nbformat_minor": 5
}
