{
 "cells": [
  {
   "cell_type": "markdown",
   "id": "3651fd8e-7238-4c63-a53a-799cdf607d79",
   "metadata": {},
   "source": [
    "# Sequencing proteins by mass spectrometry"
   ]
  },
  {
   "cell_type": "code",
   "execution_count": 25,
   "id": "e855ea73-3f2b-458f-ac94-b28390657ca3",
   "metadata": {},
   "outputs": [],
   "source": [
    "# weights from textbook\n",
    "# G  A  S  P  V  T   C   I   L   N   D   K   Q   E   M   H   F   R   Y   W\n",
    "# 57 71 87 97 99 101 103 113 113 114 115 128 128 129 131 137 147 156 163 186\n",
    "\n",
    "def makeweights():\n",
    "    table = {}\n",
    "    aas     = \"G  A  S  P  V  T   C   I   L   N   D   K   Q   E   M   H   F   R   Y   W\".split()\n",
    "    weights = list(map(int, \"57 71 87 97 99 101 103 113 113 114 115 128 128 129 131 137 147 156 163 186\".split()))\n",
    "    for i in range(len(aas)):\n",
    "        table[aas[i]] = weights[i]\n",
    "    return table"
   ]
  },
  {
   "cell_type": "code",
   "execution_count": 27,
   "id": "656d416a-578a-40a2-a5a0-efa2e1b97beb",
   "metadata": {},
   "outputs": [
    {
     "data": {
      "text/plain": [
       "{'G': 57,\n",
       " 'A': 71,\n",
       " 'S': 87,\n",
       " 'P': 97,\n",
       " 'V': 99,\n",
       " 'T': 101,\n",
       " 'C': 103,\n",
       " 'I': 113,\n",
       " 'L': 113,\n",
       " 'N': 114,\n",
       " 'D': 115,\n",
       " 'K': 128,\n",
       " 'Q': 128,\n",
       " 'E': 129,\n",
       " 'M': 131,\n",
       " 'H': 137,\n",
       " 'F': 147,\n",
       " 'R': 156,\n",
       " 'Y': 163,\n",
       " 'W': 186}"
      ]
     },
     "execution_count": 27,
     "metadata": {},
     "output_type": "execute_result"
    }
   ],
   "source": [
    "table = makeweights()\n",
    "table"
   ]
  },
  {
   "cell_type": "code",
   "execution_count": 36,
   "id": "10198f3e-fef8-4439-9944-85913192dc02",
   "metadata": {},
   "outputs": [],
   "source": [
    "def sumweights(sequence):\n",
    "    weight = 0\n",
    "    for aa in sequence:\n",
    "        weight += table[aa]\n",
    "    return (weight)"
   ]
  },
  {
   "cell_type": "code",
   "execution_count": 37,
   "id": "d225246c-08bb-46c6-b862-a103c79d58b2",
   "metadata": {},
   "outputs": [],
   "source": [
    "# cyclospectrum (problem 4B)\n",
    "\n",
    "def Cyclospectrum(peptide):\n",
    "    spectrum = []\n",
    "    fragments = [\"\", peptide] \n",
    "    for i in range(len(peptide)):\n",
    "        for j in range(1,len(peptide)):\n",
    "            start = i\n",
    "            end = i + j\n",
    "            \n",
    "            if end <= len(peptide):\n",
    "                fragment = peptide[start:end]\n",
    "            else:\n",
    "                fragment = peptide[start:] + peptide[:(end % len(peptide))]\n",
    "            \n",
    "            fragments.append(fragment)\n",
    "    for fragment in fragments:\n",
    "        spectrum.append(sumweights(fragment))\n",
    "    return sorted(spectrum)"
   ]
  },
  {
   "cell_type": "code",
   "execution_count": 38,
   "id": "f0e3e56c-7f72-4df7-91c5-01ca74737f2d",
   "metadata": {},
   "outputs": [
    {
     "data": {
      "text/plain": [
       "[0, 113, 114, 128, 129, 227, 242, 242, 257, 355, 356, 370, 371, 484]"
      ]
     },
     "execution_count": 38,
     "metadata": {},
     "output_type": "execute_result"
    }
   ],
   "source": [
    "Cyclospectrum(\"NQEL\")"
   ]
  },
  {
   "cell_type": "code",
   "execution_count": null,
   "id": "3bd49301-a8d8-4925-8dfa-ec1c8c2fef31",
   "metadata": {},
   "outputs": [],
   "source": []
  }
 ],
 "metadata": {
  "kernelspec": {
   "display_name": "Python 3",
   "language": "python",
   "name": "python3"
  },
  "language_info": {
   "codemirror_mode": {
    "name": "ipython",
    "version": 3
   },
   "file_extension": ".py",
   "mimetype": "text/x-python",
   "name": "python",
   "nbconvert_exporter": "python",
   "pygments_lexer": "ipython3",
   "version": "3.8.20"
  }
 },
 "nbformat": 4,
 "nbformat_minor": 5
}
