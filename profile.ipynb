{
 "cells": [
  {
   "cell_type": "markdown",
   "id": "45ede8cc-c415-4550-b2b4-2f6bc82e9d5a",
   "metadata": {},
   "source": [
    "# Profiles del capitulo 2"
   ]
  },
  {
   "cell_type": "markdown",
   "id": "2e171783-b2ec-4feb-a854-45dc27db2ce5",
   "metadata": {},
   "source": [
    "Los datos estan disponibles en https://bioinformaticsalgorithms.com/data/realdatasets/Motifs/subtle_motif_dataset.txt. En mi caso los guarde en un archivo llamado \"secuencias.txt\"."
   ]
  },
  {
   "cell_type": "markdown",
   "id": "a770e0d2-ff43-4d92-8c13-6617459275f4",
   "metadata": {},
   "source": [
    "Importar librerias que nos haran falta luego."
   ]
  },
  {
   "cell_type": "code",
   "execution_count": 1,
   "id": "c1c225c7-3e36-49e1-ba07-e9e408827307",
   "metadata": {},
   "outputs": [],
   "source": [
    "import random\n",
    "import copy"
   ]
  },
  {
   "cell_type": "markdown",
   "id": "ed0fd22a-17b9-4be5-95dc-41e88ec4ee73",
   "metadata": {},
   "source": [
    "Dos maneras de leer los datos, con un for o con un \"list comprehension\". Hacen lo mismo"
   ]
  },
  {
   "cell_type": "code",
   "execution_count": 2,
   "id": "2875c4b4-021b-4913-a848-f4c71e3c1e6c",
   "metadata": {},
   "outputs": [],
   "source": [
    "lines = []\n",
    "\n",
    "with open(\"secuencias.txt\") as f:\n",
    "    for line in f.readlines():\n",
    "        line = line.strip()\n",
    "        line = line.replace(\"*\", \"\")\n",
    "        lines.append(line)"
   ]
  },
  {
   "cell_type": "code",
   "execution_count": 3,
   "id": "4d3b00b6-023f-4833-8bef-2116fb879785",
   "metadata": {},
   "outputs": [],
   "source": [
    "with open(\"secuencias.txt\") as f:\n",
    "    lines = [ line.strip().replace(\"*\", \"\") for line in  f.readlines()]\n"
   ]
  },
  {
   "cell_type": "code",
   "execution_count": 4,
   "id": "42db9742-6288-4ec8-ac08-d8b2ef0b0000",
   "metadata": {},
   "outputs": [
    {
     "data": {
      "text/plain": [
       "['TCCGAACAACGAGTAGGCGTACTCACCGGCATGGCCGGATACACCGACCATCGCGGACGAGAAAGGGAGGGCTGAAATACAGACAGCGTACTGTATTAAGCAGAAACGAGAGGAGACAGATCTCATCCCTGGTGTGGTGGAACTGGAGGACTCGCCTCGGTGTGAGTCGTAAGGTGACCGACGATGAAATGCAAGTTCCAACGGCCAACAGCGCGTCAACAACAATGCGCACGTGTCGTAAACTGACGTGAGGTCCCCTTATAGCCCATGAAGAACTTTGACTCGCCTCCGGTAGCCGCTAGTTTTATGCGTGAATGTGCGTTATGCCAACTCAAATGTCTCGCAAGTCAATGAATCAACCGCGATTCTTTATTAACTTCATATCAGGCTAACAAGGACAGACAGCAACAAAGTTCTGCAAAACTGTTCCGGTCTCATCCCTAACTCTCTAACTGATAACAGTCTAACTTGCACCAAGAGTCGCTCGATCGACCAAAGAAATTACCGCCGCCTTGCAGTTCCGATGCCTGGAGTCCCCCTCCGTGTGAAGGTGATAAACCATTTGTCCAACAATGTTAGACAATAAACCACGTAAAAGGC',\n",
       " 'GGAACTAGCTTAAAAAATAGCAGGGTGTGCCTGATCCTTCCGGTGTTTAAGTAGAAGGCAGGACGGACAGAGTTCCATCCACAGAAGCATAGTTTGATCGTATTGGCGACAGGCTGATGCGAAGCTCCGCTCCAAACGAGAGAGATAAATGCATGCGGTTTGGCCTAAGGCGGGGGGGCAACCCGGCTTATCAATTAGCTAGCCTTGCTTTGGAACAAGGGCCAAGCGGGAGGTAAACTCTTCAGCCCGGGTGTCCCAGTAGCGCGATTTGGTGCTAGCCAGGTTTCGATCAAAAGGGGCTCTTGCAACGCTCTCTTCTAAAAATAAAATGCAATTAGTTGGCAGGGTTGATGAGTGTCGAATCCTTGCAAGCGAGATTCTTCCATGCAGTTGCAGCGGGGCGAGGCCAAAGAGCTCAGCTAGCTTGGGGACTCGCGCCCTGCTTATTCACCCTCGGTGCAACTAATCCTTACCGTGAATTTGGTAGATGTCCAAGCATTGTTCTTTATTAATGCACGTGTTAATAGGGGTAGACTATTCCCGTCCCGGCCTACGGTGTCAAAATCAAGTAGGCGCCGAGATTATTCTTGCATGCCTGTA',\n",
       " 'TGCGAACTAGTTTTCGCAACTTAACGTAGCGCGTGGGGCGTCCCTAGTGGCTCTGTCAAAGCAATTTGGTTCGTTTAGCTGTTATAGTTTTGGATCACAGCGAATAGAGTTAGTCTTGCTAGTCCGTAAATCAACGGACCGCGTCCCATTAAACACAGCTTCGTCGAGTCTATGACGCTCATACTCTACCATGACCGCGCCGGGACGACCGCCAACTCATAAATGAACGCCTAATAGAACCGAAAAGGGTCGGCGGCACAAAACTCCGGAACGTGGTCTGGGTTAACAAAGGCGCGATGATATTGTTCGTAGATCCCTGTTGGACTCTCCAACAAGTTTCCCGGAGGACTCGAGGTTCCAGGCCGAGTAAATAAAAGTTTTCTCGGGGTGGTGCCGGAAGGCGGGAAGTGGTGGTTAGGACAGATAATGACGAAAACAATGGATCGTGGAAGAGATCGCCCAGAGGTTCGATAGGATGTTACGCTACTTGTGTTCGAGGGGGAGACGGTTTCTACCTAGGCGGGTACCACAAAGCTGTTCTCTATTCTGGAAATTATGTACTCTGTTACTTGAATAAAATAAACAGCGGGGTACGCGGAT',\n",
       " 'ATCCTGACTACGGCGGTTTTCGTCTTGGGTAGGCACGGAGCTAGAGTATACACGGCAGCTCGTAGGGGGTCGATGCGTCTCGATTAGCTCGTTCCTATAGCTCAGCGATATCCCCGGGTTAAGAAGATTGCTCTCGTTACGCACTAGCCTCCGACTCGCGGGGCGTAACCAGTACAGTAAAAGACGCTAGAATCGACGCTTTCGCATAGTAGTCATTTAGAACCCGGGCTTAAACGATCGTACTTGATACACCCCGGGAGATGTGGATACCATTAAGTTAACCAGATCTATATGCGACCAGTCCTGCAGTAAAGATTGGCTGTCTTGGACTTGTATGCAAGCATAATCAGGGCAGAGGCAGTGGTCCGTTGCCTGAGGACGTCAAGAGTTCTCAGTCTAAAGTATTCCGGGGAAATAGTTAGTTGGCATAAGTCCGCCAAAGATCGCAGATGGTTAGTAGGTAACACTGGGGCCCTCCAGCTTAAGCCAAGCTAACTACGCTCAAGCAGGCTTTTTTTTTATGTTGAACAGAAAAAAAGGGGTTTTCACGCACACTTAGCCCTTTCTACGTAAGAGTCATTCTCAATACTGATGTCAGGA',\n",
       " 'AATTATACATAGGTGTGACTCTATGCTCGGCTATGGAAATAAGGTTCGCGCCGACACCTATGAAGAATTGTCACCCATGTTTTTGTGTCTATCAGCTTTGAGTGAGATTTGGTTTTCACGGGAGAAAGAGGATGTTCTCTGCGTGCGGACTCCTGAGACTTTGCTGAATGATGATGTAGCGGATCCACGAGGAACTGAGGTCCCGCAGCTCCGAGACAGGTGCTGATGCTTTGGCAACGATTTGAGGGCACAATTCCCGAGTACCTAGGATGGTATTCTGTATTGATTGGTTTTTGAAATGTGCTTGATTCGAACCAAGCGAGCAATTGACAAACGCTGTGCCTAGGTATACCTAAAATAAAACTGCGACAGTTGATCAAACATAAAGTAGAGGGGGTCCAAGTATCCATGAGTGATGCTTAGCACACCCTGCTCCCTGGACTTTTGGATTACCCCCTTCTAGCTTGCTTCTAGCTCAAGCTAAGACCTACCCCAATAAGAGGTAGCTAAGAACGGGGTCTGGGCAGTCATCAACGCCCGTGATCGTAAATCGGTCGTCCCACCGCACTCGCCGCGAATTACGAATAGCCATAGATGAGC',\n",
       " 'TCTAAAAATGGGGCGGCCAGTGAATAAAGCCTGCGCGTATTCGTAGCTGTTTACTCGGGAGACCGGCGCCCGAACAGCGCCCTGCCTAACGCCAGCTTACACCGATAGACGAACACGGTTGGGCTGATATACGTCGAACCTGCCTAACCTTAATACTTTCCCTAGTCAGAAGTTGGCCCGAACTTAAGCGTTCGAATGTAGGAGGACTATGAGAGCAAAGCGCGCGCCCGGTCATTTGCACAGAATTCACGTATGTAGTGTAGAGGCGAGACGGGTTTGTCGCGTACACTGCAGACCCAACAGTTTTACGGCAACACAATATCCGTCCAGCCGTAATACGAGCGCAAAGCACGTAGGGTCATCTGGCTAAAGAATTAGGCGCCACTCATTTTGACGGAGAGCGCTTTGCGATCAGATCAGTGGAGTCCAGATTTGATTGTAACTCACTTACCGCACGGCAACAACGCTCATTCCCGCTAATGTATGAGGTACAGGTTGCACTGGTCAGTTTAATGAAGGTCATAGAACACGGGTTTACGTGAATGCGTGTCGCCATCCTCGGCCGAAATGATGAGTTGCCAGGACCGATCTGGCGCCAGC',\n",
       " 'AGGTAAGGCTCGCCTCTACATCTCCGTACAAACTATCAGACGTAAAGAAAGCTGGAGGATTGCCAGCGAAAAGTACATAACACAAAGAACAAAAAGAGAAGGGGGTACGGGCTATTCGATCTAGATGGAGGCTAGGCAATAGAAGTTCGATCATCCATGGTAACTAGATATATGCTGAGAGCAAACGATCCCTAGTACCGCCTGTGTTATATGCCACCAATCTTTCTTCAGTTAGAAACCTCATTGTCGGGCGACACCAGGTCGATTCAAGAGGCGAGAGCCCATATGCTCGACCTATGGCGTGAACGCTAAGCGGCTGGAGCAAGAGAGGTGTATCCAACGACGGTTTTGAATTTACAATTCAGCCCACTGATATAAGCTGTATGGACTGACTCTGGAGGGACGCGCTGATATCTAAGGGCTTCGCGTACTAGGGTCACTACGGAAGCCATCGGCACTGTGCATCTTACAAAACGGACGTCCTTGACGGCCCTATGACCTTAGCACAAACGAATTGATGACCGAATGTACAGTACTTTGTGCTGGCTGAGCACTCCCTACCACGATCCGGCCAGCCGATCTGCGTCGAGGCTGCCACGC',\n",
       " 'AAGCTCAGCTAACTAGGCGTGAATAATAACGGAACACCTTAGGTAATGTTGGGGTCCTTACCACCATTTTACGTGGATCTCTAGACGGGCAGCACAAGCAGACGCTCAACGTAGTAATGCCAAGAAGAGATCTACTCCTGTGTTCACTTACATATATTCCCACTCAGAACCGCGTCTTCTGAACTGAGGAAGAAGTTACACTAACTGCACGAGATACCGGATCTGCACCTAGCCTGCTAGGCGTGGCACACGTAGCGCACCCTCACGGCTGCAATGGAATTTGCACAAAAACCAGCGCGTGGCGGATATTCCTCGTTTACAGAGTGGGTTGGAACATCCGGCGGTCCCGAGAGAACCGTCTTTCCGGTCGCCCATTTTATCAAAGATTGCAGTCTACTTGCCCGTATTCCTTGAGATGATTCGAAGGTCGAAATCGTAGCACATGGCTAACAATCCTGTTATTTATGCAGTAGCCGCGCCGCTTAGACGGCTTACCCCCGATATAGGGGAGCCCACCAGCTATGCCCTGGAAGGGACGATAAATAGCGTTGTGATTTATGATACCTTCACCAGCTTCGTACGTGCATAGAAAAGGAAGGG',\n",
       " 'TTCGTATCTTTCTCGGCGCCCTGATTCCAGTGATGGATTGTGAGGTCACTTCAAGTGAGATGTGTATTCCCAGCCAATCTATCCGTGTTAACTGATCCTAAACAGAGTGTGCCCAGATTAATGGGAACCCCAGTGTCAAGCGGGCCCTTAACACGGCCTGGTTAGATTCGTTTTAAGTGGGTCCTCTAACTCCTAACATTTTGACTTAAGGGTTTAACCGCTGACAGGCAGTAGCAACGGCTGTAGGGGAACACGAGGTTTTTTAATAAGTCTTGCAGTTTCATGCGGTTCTCACCAGAACGTTATAATCGCGAGTGCCCCGCTCAGGAATAGGATCAATGACGATTCTTATATCTCCGGAATTATGGTTACAGCTTCGTCAACGGCCTCAGGGTCGGGTTTTAAGCGGGGCCCGTTATCCAGAAATTACCCTGCATGGCAGGTCTACGCTAAAGTCCGAGCAAGAAAAAAGAGAGGAGTTTGCCCACGTGCCGCACACCCGGAGCTAGTCAGCATTGGTCTTCGAGAGATGCTCGCTGGACTCGGTTCATCTACTCGATCTAATTTTATGGCCGCCAACCATCAAAACGTATGACCTAA',\n",
       " 'TCTCATCCGTAGATTTAGTCCGGAGTGTTGAACAGCCCTCGGAGGTGCTACTAGCAATCACGAGATGCTAACGAGGAATATTTGGGATAGACGGTTCCTTCATGTTGTTCTGGGTACGCACTGCCGGCGAGTACCCCAGTGCCGAAACCGGTAAGAGTAAGTTCCTTAGGTTACGAGATTCCAGGCTTTTTGGGTAAGCGAGACCTACCCACTTGTTGCATCTACCCGTGTCTGTCAATCGCTGACTAGAACTGGTATCACGAGAAGAGAAACTTTCGATCTGTGCCCCATCAGTACCGAAGTTTGGTATAAATCGATGTGATATCCAAGACATGGAATAGCTTTCGCTCTTACGAGAGCATATGAAGGTTGCAACTAATTACCTATCTGATGTACGAAATTCAAGCTAAAGGGGGGTCAATCTCGTCCGAGTGCGACGGGGCAATAGCCCGGTACGATCTCCCATTTTCCCTTCCGGTACTCTACTGCTTTGGCGGGGTCGAGTTATCCGTGCGAACATTCAACCACCTCTGAGAACGGGGCCATAATGAACTGTGATCTTGATTCTACCTAAACACGCAGGACCAAAGCCTTCGCCGA']"
      ]
     },
     "execution_count": 4,
     "metadata": {},
     "output_type": "execute_result"
    }
   ],
   "source": [
    "lines"
   ]
  },
  {
   "cell_type": "code",
   "execution_count": 5,
   "id": "c6af4e0c-a86a-4ad5-a1e4-4cf32f1e5444",
   "metadata": {},
   "outputs": [
    {
     "data": {
      "text/plain": [
       "600"
      ]
     },
     "execution_count": 5,
     "metadata": {},
     "output_type": "execute_result"
    }
   ],
   "source": [
    "len(lines[0])"
   ]
  },
  {
   "cell_type": "code",
   "execution_count": 6,
   "id": "1c70e181-6f08-4de9-9bda-3cbb53e3401f",
   "metadata": {},
   "outputs": [
    {
     "data": {
      "text/plain": [
       "511"
      ]
     },
     "execution_count": 6,
     "metadata": {},
     "output_type": "execute_result"
    }
   ],
   "source": [
    "random.randint(0,len(lines[0])-15)"
   ]
  },
  {
   "cell_type": "markdown",
   "id": "70ba7908-70ce-422b-bd7a-cbf9bf58aaca",
   "metadata": {},
   "source": [
    "Una funcion para generar un k-mero random de una secuencia."
   ]
  },
  {
   "cell_type": "code",
   "execution_count": 7,
   "id": "38e527cc-c765-4e27-8075-361f7cc32c76",
   "metadata": {},
   "outputs": [],
   "source": [
    "def randomkmer(line, k):\n",
    "    start = random.randint(0, len(line)-k-1)\n",
    "    return line[start:start+k]"
   ]
  },
  {
   "cell_type": "code",
   "execution_count": 8,
   "id": "22848bec-d3dc-47bb-b194-c85137eb9224",
   "metadata": {},
   "outputs": [
    {
     "data": {
      "text/plain": [
       "'CTGGAGGACTCGCCT'"
      ]
     },
     "execution_count": 8,
     "metadata": {},
     "output_type": "execute_result"
    }
   ],
   "source": [
    "randomkmer(lines[0], 15)"
   ]
  },
  {
   "cell_type": "code",
   "execution_count": 9,
   "id": "f185ca62-6f7e-4947-9e73-9908a2cf8fe1",
   "metadata": {},
   "outputs": [],
   "source": [
    "Motif = [randomkmer(line, 15) for line in lines]"
   ]
  },
  {
   "cell_type": "code",
   "execution_count": 10,
   "id": "2929db79-6dca-461c-a25e-dcfef2f02ff0",
   "metadata": {},
   "outputs": [
    {
     "data": {
      "text/plain": [
       "['TGTCTCGCAAGTCAA',\n",
       " 'ACTCTTCAGCCCGGG',\n",
       " 'TAGCGCGTGGGGCGT',\n",
       " 'ATAAGTCCGCCAAAG',\n",
       " 'AATGTGCTTGATTCG',\n",
       " 'ACGTCGAACCTGCCT',\n",
       " 'AGCACTCCCTACCAC',\n",
       " 'TCGAAATCGTAGCAC',\n",
       " 'TCTCGGCGCCCTGAT',\n",
       " 'ACGAAATTCAAGCTA']"
      ]
     },
     "execution_count": 10,
     "metadata": {},
     "output_type": "execute_result"
    }
   ],
   "source": [
    "Motif"
   ]
  },
  {
   "cell_type": "code",
   "execution_count": 11,
   "id": "59607ee1-1ad1-4bb5-a938-12b5c813175a",
   "metadata": {},
   "outputs": [
    {
     "data": {
      "text/plain": [
       "17"
      ]
     },
     "execution_count": 11,
     "metadata": {},
     "output_type": "execute_result"
    }
   ],
   "source": [
    "random.randint(0,20)"
   ]
  },
  {
   "cell_type": "code",
   "execution_count": 12,
   "id": "4fd114e1-238a-41a2-b2d9-94ec26044b0c",
   "metadata": {},
   "outputs": [],
   "source": [
    "def MakeCounts(motif):\n",
    "    k = len(motif[0])\n",
    "    counts = [[1 for i in range(k)] for j in range(4) ]\n",
    "    for i in range(k):\n",
    "        for j in range(len(motif)):\n",
    "            letra = motif[j][i]\n",
    "            index = \"ACGT\".index(letra)\n",
    "            counts[index][i] += 1\n",
    "    return counts"
   ]
  },
  {
   "cell_type": "code",
   "execution_count": 13,
   "id": "b76b0739-c656-4acc-ba45-a06eae19aa7b",
   "metadata": {},
   "outputs": [],
   "source": [
    "# Arreglamos un bug aqui. El denominador es 4+filas, no el doble de filas\n",
    "def MakeProfile(motif):\n",
    "    Counts = MakeCounts(motif)\n",
    "    Profile = copy.deepcopy(Counts)\n",
    "    filas = len(motif)\n",
    "    for i in range(len(Counts)):\n",
    "        for j in range(len(Counts[0])):\n",
    "            Profile[i][j] = Counts[i][j]/(4+filas)\n",
    "    return Profile"
   ]
  },
  {
   "cell_type": "code",
   "execution_count": 56,
   "id": "ffdc8feb-e12d-4a00-9f2b-886676a607fe",
   "metadata": {},
   "outputs": [],
   "source": [
    "def MakeKmer(Profile, k):\n",
    "    kmer = \"\"\n",
    "    for i in range(k):\n",
    "        r = random.random()\n",
    "        pA = Profile[0][i]\n",
    "        pC = pA + Profile[1][i]\n",
    "        pG = pC + Profile[2][i]\n",
    "        pT = 1.0\n",
    "        if r <= pA:\n",
    "            kmer += \"A\"\n",
    "        elif r <= pC:\n",
    "            kmer += \"C\"\n",
    "        elif r <= pG:\n",
    "            kmer += \"G\"\n",
    "        else:\n",
    "            kmer += \"T\"\n",
    "            \n",
    "    return kmer"
   ]
  },
  {
   "cell_type": "code",
   "execution_count": 63,
   "id": "8b1b56a4-5aec-4cbd-bb90-f776d8d2f4f5",
   "metadata": {},
   "outputs": [],
   "source": [
    "# Esta funcion aun esta rota\n",
    "def Score(Motifs):\n",
    "    counts = MakeCounts(Motifs)\n",
    "    score = 0\n",
    "    k = len(Motifs[0])\n",
    "    for i in range(k):\n",
    "        lista = []\n",
    "        for j in range(4):\n",
    "            score += counts[j][i]\n",
    "            lista.append(counts[j][i])\n",
    "            top = max(lista)\n",
    "            score -= top\n",
    "            score -= len(counts) -1\n",
    "    return score"
   ]
  },
  {
   "cell_type": "code",
   "execution_count": 15,
   "id": "3fcadefc-ec3c-4ec9-9bac-027c14ce6883",
   "metadata": {},
   "outputs": [],
   "source": [
    "def GibbsSampler(DNA, k, t, N):\n",
    "    Motif = [randomkmer(line, 15) for line in lines]\n",
    "    BestMotif = Motif\n",
    "    for j in range(N):\n",
    "        i = random.randint(0, t-1)\n",
    "        #Motif[i] = randomkmer(DNA[i], k) # esto es como del 2.7 (random search)\n",
    "        newmotif = Motif[:] # hacer copia de Motif\n",
    "        newmotif.pop(i) # eliminar la fila i\n",
    "        \n",
    "        Profile = MakeProfile(newmotif)\n",
    "        newkmer = MakeKmer(Profile, k)\n",
    "        Motif[i] = newkmer\n",
    "        # Computar score nuevo motif\n",
    "        # Si es mejor cambiar BestMotif por Motif\n",
    "        "
   ]
  },
  {
   "cell_type": "markdown",
   "id": "a929318e-80bc-44b7-b8e9-1b52cb8420cc",
   "metadata": {},
   "source": [
    "# Pruebas \n",
    "\n",
    "Algunas pruebas para ver si entiendo python y como hacer algunas cosas."
   ]
  },
  {
   "cell_type": "code",
   "execution_count": 16,
   "id": "e27d2465-4cfa-4bce-8af9-2b7f181287ca",
   "metadata": {},
   "outputs": [
    {
     "data": {
      "text/plain": [
       "['TGTCTCGCAAGTCAA',\n",
       " 'ACTCTTCAGCCCGGG',\n",
       " 'TAGCGCGTGGGGCGT',\n",
       " 'ATAAGTCCGCCAAAG',\n",
       " 'AATGTGCTTGATTCG',\n",
       " 'ACGTCGAACCTGCCT',\n",
       " 'AGCACTCCCTACCAC',\n",
       " 'TCGAAATCGTAGCAC',\n",
       " 'TCTCGGCGCCCTGAT',\n",
       " 'ACGAAATTCAAGCTA']"
      ]
     },
     "execution_count": 16,
     "metadata": {},
     "output_type": "execute_result"
    }
   ],
   "source": [
    "Motif"
   ]
  },
  {
   "cell_type": "code",
   "execution_count": 17,
   "id": "881630f3-8498-46aa-9737-6616f96e053f",
   "metadata": {},
   "outputs": [],
   "source": [
    "i = 3\n",
    "\n",
    "Motif[i] = randomkmer(lines[i], 15)"
   ]
  },
  {
   "cell_type": "code",
   "execution_count": 18,
   "id": "fb5f913a-7311-44f8-b75a-40e8344f90cb",
   "metadata": {},
   "outputs": [
    {
     "data": {
      "text/plain": [
       "['TGTCTCGCAAGTCAA',\n",
       " 'ACTCTTCAGCCCGGG',\n",
       " 'TAGCGCGTGGGGCGT',\n",
       " 'ACCAGATCTATATGC',\n",
       " 'AATGTGCTTGATTCG',\n",
       " 'ACGTCGAACCTGCCT',\n",
       " 'AGCACTCCCTACCAC',\n",
       " 'TCGAAATCGTAGCAC',\n",
       " 'TCTCGGCGCCCTGAT',\n",
       " 'ACGAAATTCAAGCTA']"
      ]
     },
     "execution_count": 18,
     "metadata": {},
     "output_type": "execute_result"
    }
   ],
   "source": [
    "Motif"
   ]
  },
  {
   "cell_type": "code",
   "execution_count": 19,
   "id": "26b00e4f-79f5-4dd0-9f43-7b62a4996ff2",
   "metadata": {},
   "outputs": [
    {
     "data": {
      "text/plain": [
       "'ACCAGATCTATATGC'"
      ]
     },
     "execution_count": 19,
     "metadata": {},
     "output_type": "execute_result"
    }
   ],
   "source": [
    "Motif.pop(3)"
   ]
  },
  {
   "cell_type": "code",
   "execution_count": 20,
   "id": "c05dfd8c-8adc-444e-9a41-1ba6fe865246",
   "metadata": {},
   "outputs": [
    {
     "data": {
      "text/plain": [
       "['TGTCTCGCAAGTCAA',\n",
       " 'ACTCTTCAGCCCGGG',\n",
       " 'TAGCGCGTGGGGCGT',\n",
       " 'AATGTGCTTGATTCG',\n",
       " 'ACGTCGAACCTGCCT',\n",
       " 'AGCACTCCCTACCAC',\n",
       " 'TCGAAATCGTAGCAC',\n",
       " 'TCTCGGCGCCCTGAT',\n",
       " 'ACGAAATTCAAGCTA']"
      ]
     },
     "execution_count": 20,
     "metadata": {},
     "output_type": "execute_result"
    }
   ],
   "source": [
    "Motif"
   ]
  },
  {
   "cell_type": "code",
   "execution_count": 21,
   "id": "d013b720-eb0c-4c4f-ac69-aef419b95e6e",
   "metadata": {},
   "outputs": [
    {
     "data": {
      "text/plain": [
       "0"
      ]
     },
     "execution_count": 21,
     "metadata": {},
     "output_type": "execute_result"
    }
   ],
   "source": [
    "\"ACGT\".index(\"A\")\n"
   ]
  },
  {
   "cell_type": "code",
   "execution_count": 22,
   "id": "5879c57f-f0ec-413e-b2da-527cd1a7373d",
   "metadata": {},
   "outputs": [
    {
     "data": {
      "text/plain": [
       "1"
      ]
     },
     "execution_count": 22,
     "metadata": {},
     "output_type": "execute_result"
    }
   ],
   "source": [
    "\"ACGT\".index(\"C\")"
   ]
  },
  {
   "cell_type": "code",
   "execution_count": 23,
   "id": "d7013c7c-6cf7-4aa2-821a-d04812acced7",
   "metadata": {},
   "outputs": [],
   "source": [
    "counts = [[1] * 15] * 4"
   ]
  },
  {
   "cell_type": "code",
   "execution_count": 24,
   "id": "2383142b-bba7-49a8-ac30-f6b8c2851bb8",
   "metadata": {},
   "outputs": [],
   "source": [
    "otros_counts = [[1 for i in range(15)] for j in range(4) ]"
   ]
  },
  {
   "cell_type": "code",
   "execution_count": 25,
   "id": "1ee48f70-d5fc-43ef-8724-1ffd3b091d67",
   "metadata": {},
   "outputs": [
    {
     "data": {
      "text/plain": [
       "[[6, 3, 1, 4, 3, 3, 2, 3, 2, 3, 5, 1, 1, 5, 3],\n",
       " [1, 6, 2, 5, 3, 3, 5, 4, 5, 4, 3, 3, 7, 3, 3],\n",
       " [1, 3, 5, 2, 3, 4, 3, 2, 4, 3, 3, 5, 3, 3, 3],\n",
       " [5, 1, 5, 2, 4, 3, 3, 4, 2, 3, 2, 4, 2, 2, 4]]"
      ]
     },
     "execution_count": 25,
     "metadata": {},
     "output_type": "execute_result"
    }
   ],
   "source": [
    "MakeCounts(Motif)"
   ]
  },
  {
   "cell_type": "code",
   "execution_count": 26,
   "id": "d2bf694b-a5f6-421a-b911-74e14418f858",
   "metadata": {},
   "outputs": [
    {
     "data": {
      "text/plain": [
       "[[1, 1, 1, 1, 1, 1, 1, 1, 1, 1, 1, 1, 1, 1, 1],\n",
       " [1, 1, 1, 1, 1, 1, 1, 1, 1, 1, 1, 1, 1, 1, 1],\n",
       " [1, 1, 1, 1, 1, 1, 1, 1, 1, 1, 1, 1, 1, 1, 1],\n",
       " [1, 1, 1, 1, 1, 1, 1, 1, 1, 1, 1, 1, 1, 1, 1]]"
      ]
     },
     "execution_count": 26,
     "metadata": {},
     "output_type": "execute_result"
    }
   ],
   "source": [
    "counts"
   ]
  },
  {
   "cell_type": "code",
   "execution_count": 27,
   "id": "4addec7b-09a5-49b9-b735-d04a69460974",
   "metadata": {},
   "outputs": [],
   "source": [
    "counts[0][3] += 1"
   ]
  },
  {
   "cell_type": "code",
   "execution_count": 28,
   "id": "9d5adbae-77a0-43da-ab86-fe1486ab7790",
   "metadata": {},
   "outputs": [
    {
     "data": {
      "text/plain": [
       "[[1, 1, 1, 2, 1, 1, 1, 1, 1, 1, 1, 1, 1, 1, 1],\n",
       " [1, 1, 1, 2, 1, 1, 1, 1, 1, 1, 1, 1, 1, 1, 1],\n",
       " [1, 1, 1, 2, 1, 1, 1, 1, 1, 1, 1, 1, 1, 1, 1],\n",
       " [1, 1, 1, 2, 1, 1, 1, 1, 1, 1, 1, 1, 1, 1, 1]]"
      ]
     },
     "execution_count": 28,
     "metadata": {},
     "output_type": "execute_result"
    }
   ],
   "source": [
    "counts"
   ]
  },
  {
   "cell_type": "code",
   "execution_count": 29,
   "id": "3f96fbcf-57c9-4e07-aa4f-831e001ee1e1",
   "metadata": {},
   "outputs": [
    {
     "data": {
      "text/plain": [
       "[[1, 1, 1, 1, 1, 1, 1, 1, 1, 1, 1, 1, 1, 1, 1],\n",
       " [1, 1, 1, 1, 1, 1, 1, 1, 1, 1, 1, 1, 1, 1, 1],\n",
       " [1, 1, 1, 1, 1, 1, 1, 1, 1, 1, 1, 1, 1, 1, 1],\n",
       " [1, 1, 1, 1, 1, 1, 1, 1, 1, 1, 1, 1, 1, 1, 1]]"
      ]
     },
     "execution_count": 29,
     "metadata": {},
     "output_type": "execute_result"
    }
   ],
   "source": [
    "otros_counts"
   ]
  },
  {
   "cell_type": "code",
   "execution_count": 30,
   "id": "94b127c7-2015-45f1-8435-7e102985382f",
   "metadata": {},
   "outputs": [],
   "source": [
    "otros_counts[0][3] += 1"
   ]
  },
  {
   "cell_type": "code",
   "execution_count": 31,
   "id": "b3bf644c-5316-40a9-9ec0-b1e20df4a086",
   "metadata": {},
   "outputs": [
    {
     "data": {
      "text/plain": [
       "[[1, 1, 1, 2, 1, 1, 1, 1, 1, 1, 1, 1, 1, 1, 1],\n",
       " [1, 1, 1, 1, 1, 1, 1, 1, 1, 1, 1, 1, 1, 1, 1],\n",
       " [1, 1, 1, 1, 1, 1, 1, 1, 1, 1, 1, 1, 1, 1, 1],\n",
       " [1, 1, 1, 1, 1, 1, 1, 1, 1, 1, 1, 1, 1, 1, 1]]"
      ]
     },
     "execution_count": 31,
     "metadata": {},
     "output_type": "execute_result"
    }
   ],
   "source": [
    "otros_counts"
   ]
  },
  {
   "cell_type": "code",
   "execution_count": 32,
   "id": "ba650adb-779d-4aaf-b0aa-08320a38c715",
   "metadata": {},
   "outputs": [],
   "source": [
    "otros_otros_counts = copy.deepcopy(otros_counts)"
   ]
  },
  {
   "cell_type": "code",
   "execution_count": 33,
   "id": "c05b7124-3ecf-4991-95a1-be09fa1fb990",
   "metadata": {},
   "outputs": [],
   "source": [
    "otros_counts[0][0] = 23"
   ]
  },
  {
   "cell_type": "code",
   "execution_count": 34,
   "id": "7924d68d-380b-4ee0-ac57-6945fa881d97",
   "metadata": {},
   "outputs": [
    {
     "data": {
      "text/plain": [
       "[[23, 1, 1, 2, 1, 1, 1, 1, 1, 1, 1, 1, 1, 1, 1],\n",
       " [1, 1, 1, 1, 1, 1, 1, 1, 1, 1, 1, 1, 1, 1, 1],\n",
       " [1, 1, 1, 1, 1, 1, 1, 1, 1, 1, 1, 1, 1, 1, 1],\n",
       " [1, 1, 1, 1, 1, 1, 1, 1, 1, 1, 1, 1, 1, 1, 1]]"
      ]
     },
     "execution_count": 34,
     "metadata": {},
     "output_type": "execute_result"
    }
   ],
   "source": [
    "otros_counts"
   ]
  },
  {
   "cell_type": "code",
   "execution_count": 35,
   "id": "02d0e179-d99b-472e-bcdb-dc3f8366b334",
   "metadata": {},
   "outputs": [
    {
     "data": {
      "text/plain": [
       "[[1, 1, 1, 2, 1, 1, 1, 1, 1, 1, 1, 1, 1, 1, 1],\n",
       " [1, 1, 1, 1, 1, 1, 1, 1, 1, 1, 1, 1, 1, 1, 1],\n",
       " [1, 1, 1, 1, 1, 1, 1, 1, 1, 1, 1, 1, 1, 1, 1],\n",
       " [1, 1, 1, 1, 1, 1, 1, 1, 1, 1, 1, 1, 1, 1, 1]]"
      ]
     },
     "execution_count": 35,
     "metadata": {},
     "output_type": "execute_result"
    }
   ],
   "source": [
    "otros_otros_counts"
   ]
  },
  {
   "cell_type": "code",
   "execution_count": 36,
   "id": "f9819afa-c79d-405a-8528-3b78b817181e",
   "metadata": {},
   "outputs": [
    {
     "data": {
      "text/plain": [
       "[[0.46153846153846156,\n",
       "  0.23076923076923078,\n",
       "  0.07692307692307693,\n",
       "  0.3076923076923077,\n",
       "  0.23076923076923078,\n",
       "  0.23076923076923078,\n",
       "  0.15384615384615385,\n",
       "  0.23076923076923078,\n",
       "  0.15384615384615385,\n",
       "  0.23076923076923078,\n",
       "  0.38461538461538464,\n",
       "  0.07692307692307693,\n",
       "  0.07692307692307693,\n",
       "  0.38461538461538464,\n",
       "  0.23076923076923078],\n",
       " [0.07692307692307693,\n",
       "  0.46153846153846156,\n",
       "  0.15384615384615385,\n",
       "  0.38461538461538464,\n",
       "  0.23076923076923078,\n",
       "  0.23076923076923078,\n",
       "  0.38461538461538464,\n",
       "  0.3076923076923077,\n",
       "  0.38461538461538464,\n",
       "  0.3076923076923077,\n",
       "  0.23076923076923078,\n",
       "  0.23076923076923078,\n",
       "  0.5384615384615384,\n",
       "  0.23076923076923078,\n",
       "  0.23076923076923078],\n",
       " [0.07692307692307693,\n",
       "  0.23076923076923078,\n",
       "  0.38461538461538464,\n",
       "  0.15384615384615385,\n",
       "  0.23076923076923078,\n",
       "  0.3076923076923077,\n",
       "  0.23076923076923078,\n",
       "  0.15384615384615385,\n",
       "  0.3076923076923077,\n",
       "  0.23076923076923078,\n",
       "  0.23076923076923078,\n",
       "  0.38461538461538464,\n",
       "  0.23076923076923078,\n",
       "  0.23076923076923078,\n",
       "  0.23076923076923078],\n",
       " [0.38461538461538464,\n",
       "  0.07692307692307693,\n",
       "  0.38461538461538464,\n",
       "  0.15384615384615385,\n",
       "  0.3076923076923077,\n",
       "  0.23076923076923078,\n",
       "  0.23076923076923078,\n",
       "  0.3076923076923077,\n",
       "  0.15384615384615385,\n",
       "  0.23076923076923078,\n",
       "  0.15384615384615385,\n",
       "  0.3076923076923077,\n",
       "  0.15384615384615385,\n",
       "  0.15384615384615385,\n",
       "  0.3076923076923077]]"
      ]
     },
     "execution_count": 36,
     "metadata": {},
     "output_type": "execute_result"
    }
   ],
   "source": [
    "MakeProfile(Motif)"
   ]
  },
  {
   "cell_type": "code",
   "execution_count": 37,
   "id": "8a9816c6-2b5d-4030-8a57-428d458b951f",
   "metadata": {},
   "outputs": [
    {
     "data": {
      "text/plain": [
       "'ACGTCCTTA'"
      ]
     },
     "execution_count": 37,
     "metadata": {},
     "output_type": "execute_result"
    }
   ],
   "source": [
    "\"ACGT*CCTTA\".replace(\"*\", \"\")"
   ]
  },
  {
   "cell_type": "code",
   "execution_count": 38,
   "id": "a4df80e6-37e8-4d22-8da1-e865e12ce000",
   "metadata": {},
   "outputs": [
    {
     "data": {
      "text/plain": [
       "0.7000000000000001"
      ]
     },
     "execution_count": 38,
     "metadata": {},
     "output_type": "execute_result"
    }
   ],
   "source": [
    ".16+.11+.27+.16"
   ]
  },
  {
   "cell_type": "code",
   "execution_count": 39,
   "id": "ef10ef2f-3885-4cb0-8f55-40d7f3bc27fc",
   "metadata": {},
   "outputs": [
    {
     "data": {
      "text/plain": [
       "[[6, 3, 1, 4, 3, 3, 2, 3, 2, 3, 5, 1, 1, 5, 3],\n",
       " [1, 6, 2, 5, 3, 3, 5, 4, 5, 4, 3, 3, 7, 3, 3],\n",
       " [1, 3, 5, 2, 3, 4, 3, 2, 4, 3, 3, 5, 3, 3, 3],\n",
       " [5, 1, 5, 2, 4, 3, 3, 4, 2, 3, 2, 4, 2, 2, 4]]"
      ]
     },
     "execution_count": 39,
     "metadata": {},
     "output_type": "execute_result"
    }
   ],
   "source": [
    "MakeCounts(Motif)"
   ]
  },
  {
   "cell_type": "code",
   "execution_count": 40,
   "id": "a6551f1b-049a-408e-8b83-872b38a56c84",
   "metadata": {},
   "outputs": [
    {
     "data": {
      "text/plain": [
       "9"
      ]
     },
     "execution_count": 40,
     "metadata": {},
     "output_type": "execute_result"
    }
   ],
   "source": [
    "len(Motif)"
   ]
  },
  {
   "cell_type": "code",
   "execution_count": 41,
   "id": "37d0f754-e0c8-4785-b5c2-405a5bdcc783",
   "metadata": {},
   "outputs": [
    {
     "data": {
      "text/plain": [
       "['TGTCTCGCAAGTCAA',\n",
       " 'ACTCTTCAGCCCGGG',\n",
       " 'TAGCGCGTGGGGCGT',\n",
       " 'AATGTGCTTGATTCG',\n",
       " 'ACGTCGAACCTGCCT',\n",
       " 'AGCACTCCCTACCAC',\n",
       " 'TCGAAATCGTAGCAC',\n",
       " 'TCTCGGCGCCCTGAT',\n",
       " 'ACGAAATTCAAGCTA']"
      ]
     },
     "execution_count": 41,
     "metadata": {},
     "output_type": "execute_result"
    }
   ],
   "source": [
    "Motif"
   ]
  },
  {
   "cell_type": "code",
   "execution_count": 42,
   "id": "48e2bb7a-abca-4df7-8605-194705089f68",
   "metadata": {},
   "outputs": [
    {
     "data": {
      "text/plain": [
       "0.9800000000000001"
      ]
     },
     "execution_count": 42,
     "metadata": {},
     "output_type": "execute_result"
    }
   ],
   "source": [
    ".46+0.07+.07+.38\n"
   ]
  },
  {
   "cell_type": "code",
   "execution_count": 43,
   "id": "84263045-8856-48b1-a7bf-c4748256cc67",
   "metadata": {},
   "outputs": [],
   "source": [
    "Profile = MakeProfile(Motif)"
   ]
  },
  {
   "cell_type": "code",
   "execution_count": 44,
   "id": "fa2499f4-3536-47dc-bb35-298d7b459263",
   "metadata": {},
   "outputs": [
    {
     "data": {
      "text/plain": [
       "[[0.46153846153846156,\n",
       "  0.23076923076923078,\n",
       "  0.07692307692307693,\n",
       "  0.3076923076923077,\n",
       "  0.23076923076923078,\n",
       "  0.23076923076923078,\n",
       "  0.15384615384615385,\n",
       "  0.23076923076923078,\n",
       "  0.15384615384615385,\n",
       "  0.23076923076923078,\n",
       "  0.38461538461538464,\n",
       "  0.07692307692307693,\n",
       "  0.07692307692307693,\n",
       "  0.38461538461538464,\n",
       "  0.23076923076923078],\n",
       " [0.07692307692307693,\n",
       "  0.46153846153846156,\n",
       "  0.15384615384615385,\n",
       "  0.38461538461538464,\n",
       "  0.23076923076923078,\n",
       "  0.23076923076923078,\n",
       "  0.38461538461538464,\n",
       "  0.3076923076923077,\n",
       "  0.38461538461538464,\n",
       "  0.3076923076923077,\n",
       "  0.23076923076923078,\n",
       "  0.23076923076923078,\n",
       "  0.5384615384615384,\n",
       "  0.23076923076923078,\n",
       "  0.23076923076923078],\n",
       " [0.07692307692307693,\n",
       "  0.23076923076923078,\n",
       "  0.38461538461538464,\n",
       "  0.15384615384615385,\n",
       "  0.23076923076923078,\n",
       "  0.3076923076923077,\n",
       "  0.23076923076923078,\n",
       "  0.15384615384615385,\n",
       "  0.3076923076923077,\n",
       "  0.23076923076923078,\n",
       "  0.23076923076923078,\n",
       "  0.38461538461538464,\n",
       "  0.23076923076923078,\n",
       "  0.23076923076923078,\n",
       "  0.23076923076923078],\n",
       " [0.38461538461538464,\n",
       "  0.07692307692307693,\n",
       "  0.38461538461538464,\n",
       "  0.15384615384615385,\n",
       "  0.3076923076923077,\n",
       "  0.23076923076923078,\n",
       "  0.23076923076923078,\n",
       "  0.3076923076923077,\n",
       "  0.15384615384615385,\n",
       "  0.23076923076923078,\n",
       "  0.15384615384615385,\n",
       "  0.3076923076923077,\n",
       "  0.15384615384615385,\n",
       "  0.15384615384615385,\n",
       "  0.3076923076923077]]"
      ]
     },
     "execution_count": 44,
     "metadata": {},
     "output_type": "execute_result"
    }
   ],
   "source": [
    "Profile"
   ]
  },
  {
   "cell_type": "code",
   "execution_count": 45,
   "id": "6b56d974-dda6-4abf-9ef7-5b21794b0e8f",
   "metadata": {},
   "outputs": [],
   "source": [
    "r = random.random()"
   ]
  },
  {
   "cell_type": "code",
   "execution_count": 46,
   "id": "810facf5-0790-4f5b-b55a-abb83523d8c3",
   "metadata": {},
   "outputs": [
    {
     "data": {
      "text/plain": [
       "0.3594690426572871"
      ]
     },
     "execution_count": 46,
     "metadata": {},
     "output_type": "execute_result"
    }
   ],
   "source": [
    "r"
   ]
  },
  {
   "cell_type": "code",
   "execution_count": 47,
   "id": "f461210c-d09d-4571-9083-22d9a944ca53",
   "metadata": {},
   "outputs": [
    {
     "data": {
      "text/plain": [
       "0.46153846153846156"
      ]
     },
     "execution_count": 47,
     "metadata": {},
     "output_type": "execute_result"
    }
   ],
   "source": [
    "Profile[0][0]"
   ]
  },
  {
   "cell_type": "code",
   "execution_count": 48,
   "id": "efe7fae5-c14d-4541-b1fe-a9fa1debb2fd",
   "metadata": {},
   "outputs": [
    {
     "data": {
      "text/plain": [
       "0.07692307692307693"
      ]
     },
     "execution_count": 48,
     "metadata": {},
     "output_type": "execute_result"
    }
   ],
   "source": [
    "Profile[1][0]"
   ]
  },
  {
   "cell_type": "code",
   "execution_count": 49,
   "id": "a2c16e8a-4df3-4063-a227-b63503ff58c8",
   "metadata": {},
   "outputs": [
    {
     "data": {
      "text/plain": [
       "0.07692307692307693"
      ]
     },
     "execution_count": 49,
     "metadata": {},
     "output_type": "execute_result"
    }
   ],
   "source": [
    "Profile[2][0]"
   ]
  },
  {
   "cell_type": "code",
   "execution_count": 50,
   "id": "06cb3b3c-8138-48cd-ad78-30f61caad60c",
   "metadata": {},
   "outputs": [
    {
     "data": {
      "text/plain": [
       "0.38461538461538464"
      ]
     },
     "execution_count": 50,
     "metadata": {},
     "output_type": "execute_result"
    }
   ],
   "source": [
    "Profile[3][0]"
   ]
  },
  {
   "cell_type": "code",
   "execution_count": 51,
   "id": "97f5654a-59dd-4b1e-b890-321b435c5b18",
   "metadata": {},
   "outputs": [
    {
     "data": {
      "text/plain": [
       "'A'"
      ]
     },
     "execution_count": 51,
     "metadata": {},
     "output_type": "execute_result"
    }
   ],
   "source": [
    "\"\"+ \"A\""
   ]
  },
  {
   "cell_type": "code",
   "execution_count": 52,
   "id": "5f78835c-c2ad-4697-aeaa-87d1850eb172",
   "metadata": {},
   "outputs": [],
   "source": [
    "kmer = \"\""
   ]
  },
  {
   "cell_type": "code",
   "execution_count": 53,
   "id": "283cbaed-bba1-440a-b52d-ec9110e4f66b",
   "metadata": {},
   "outputs": [],
   "source": [
    "kmer += \"A\""
   ]
  },
  {
   "cell_type": "code",
   "execution_count": 54,
   "id": "1976f639-d5cf-414d-bbac-2e9cd20650d7",
   "metadata": {},
   "outputs": [
    {
     "data": {
      "text/plain": [
       "'A'"
      ]
     },
     "execution_count": 54,
     "metadata": {},
     "output_type": "execute_result"
    }
   ],
   "source": [
    "kmer"
   ]
  },
  {
   "cell_type": "code",
   "execution_count": 57,
   "id": "6520942f-f8e9-4c72-9931-4aa9bb48adb1",
   "metadata": {},
   "outputs": [
    {
     "data": {
      "text/plain": [
       "'CGATAACTTCTTCCG'"
      ]
     },
     "execution_count": 57,
     "metadata": {},
     "output_type": "execute_result"
    }
   ],
   "source": [
    "MakeKmer(Profile, 15)"
   ]
  },
  {
   "cell_type": "code",
   "execution_count": 64,
   "id": "9f642e98-1ee9-42e5-adbf-f867a3c31074",
   "metadata": {},
   "outputs": [
    {
     "data": {
      "text/plain": [
       "-242"
      ]
     },
     "execution_count": 64,
     "metadata": {},
     "output_type": "execute_result"
    }
   ],
   "source": [
    "Score(Motif)"
   ]
  },
  {
   "cell_type": "code",
   "execution_count": null,
   "id": "9b7ea307-519b-4bef-8c39-c2206ac6ce38",
   "metadata": {},
   "outputs": [],
   "source": []
  }
 ],
 "metadata": {
  "kernelspec": {
   "display_name": "Python 3",
   "language": "python",
   "name": "python3"
  },
  "language_info": {
   "codemirror_mode": {
    "name": "ipython",
    "version": 3
   },
   "file_extension": ".py",
   "mimetype": "text/x-python",
   "name": "python",
   "nbconvert_exporter": "python",
   "pygments_lexer": "ipython3",
   "version": "3.8.20"
  }
 },
 "nbformat": 4,
 "nbformat_minor": 5
}
