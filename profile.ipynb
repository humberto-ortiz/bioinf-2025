{
 "cells": [
  {
   "cell_type": "markdown",
   "id": "45ede8cc-c415-4550-b2b4-2f6bc82e9d5a",
   "metadata": {},
   "source": [
    "# Profiles del capitulo 2"
   ]
  },
  {
   "cell_type": "markdown",
   "id": "2e171783-b2ec-4feb-a854-45dc27db2ce5",
   "metadata": {},
   "source": [
    "Los datos estan disponibles en https://bioinformaticsalgorithms.com/data/realdatasets/Motifs/subtle_motif_dataset.txt. En mi caso los guarde en un archivo llamado \"secuencias.txt\"."
   ]
  },
  {
   "cell_type": "markdown",
   "id": "a770e0d2-ff43-4d92-8c13-6617459275f4",
   "metadata": {},
   "source": [
    "Importar librerias que nos haran falta luego."
   ]
  },
  {
   "cell_type": "code",
   "execution_count": 1,
   "id": "c1c225c7-3e36-49e1-ba07-e9e408827307",
   "metadata": {},
   "outputs": [],
   "source": [
    "import random\n",
    "import copy"
   ]
  },
  {
   "cell_type": "markdown",
   "id": "ed0fd22a-17b9-4be5-95dc-41e88ec4ee73",
   "metadata": {},
   "source": [
    "Dos maneras de leer los datos, con un for o con un \"list comprehension\". Hacen lo mismo"
   ]
  },
  {
   "cell_type": "code",
   "execution_count": 2,
   "id": "2875c4b4-021b-4913-a848-f4c71e3c1e6c",
   "metadata": {},
   "outputs": [],
   "source": [
    "lines = []\n",
    "\n",
    "with open(\"secuencias.txt\") as f:\n",
    "    for line in f.readlines():\n",
    "        line = line.strip()\n",
    "        line = line.replace(\"*\", \"\")\n",
    "        lines.append(line)"
   ]
  },
  {
   "cell_type": "code",
   "execution_count": 72,
   "id": "4d3b00b6-023f-4833-8bef-2116fb879785",
   "metadata": {},
   "outputs": [],
   "source": [
    "with open(\"/Users/humberto/Downloads/rosalind_ba2g.txt\") as f:\n",
    "    lines = [ line.strip().replace(\"*\", \"\") for line in  f.readlines()]\n"
   ]
  },
  {
   "cell_type": "code",
   "execution_count": 73,
   "id": "42db9742-6288-4ec8-ac08-d8b2ef0b0000",
   "metadata": {},
   "outputs": [
    {
     "data": {
      "text/plain": [
       "['15 20 2000',\n",
       " 'ACATACGTCGACCGCGAGGTGCATGATCATGGACGTGTCGCCAACTCGATCTCATAGAAAAGCGTAAAGCTTCTACAAGCATTGAGTCTCCCGAGGGAGTTTGTCACGTTTTCCAAATAATCATGATTCCGCCATGTTCGCACGTCACTCGATGGAGCGCAGGGTAGTGCCGGTAACAGGTACTAACGCAGGTTCAGATCCTATGGAGCAAGCCTTGTCGTCCCAGTGACGGCGGTCGCGACATTTGGAAGGGTGCTTCACTCCGCGATATTTAAAGTTACCGATGGGCCCAACTGTTGTGAACGGGACATACGTCGACCGC',\n",
       " 'GAGGTGCATGATCATGGACGTGTCGCCAACTCGATCTCATAGAACCGGGGGACAAGGACAAGCGTAAAGCTTCTACAAGCATTGAGTCTCCCGAGGGAGTTTGTCACGTTTTCCAAATAATCATGATTCCGCCATGTTCGCACGTCACTCGATGGAGCGCAGGGTAGTGCCGGTAACAGGTACTAACGCAGGTTCAGATCCTATGGAGCAAGCCTTGTCGTCCCAGTGACGGCGGTCGCGACATTTGGAAGGGTGCTTCACTCCGCGATATTTAAAGTTACCGATGGGCCCAACTGTTGTGAACGGGACATACGTCGACCGC',\n",
       " 'CAGACAGCACCCGTTAGATCCGGACACCTAGAGGCACTTGAGAAACCCCATCCAAAATTGGTTATACCGATCAGTTCCCAGGTTCTTATCGTTTCATTCCAGAGCCGGCCTCAGTCGGAACTTGAATCGGTCCAGTGTGCATAAGGAAGGTTTGCTTCTTCCACGTACGCGTTGCCATCCTGTCGTCAACGCACCTCGCGAATAGTGTCGGACGGCGGCTCGGCGGTGCAGATGTCTACCTACGGTGCACTACACGCAATTCGCCCAGACGCAACGAGAATACGCATGCGAGGGGGATATCTCAATGGGTACGTTTAGTCTT',\n",
       " 'CAGTGCCGGGTAATAAATCAGAAGTATGGTGTCATGGTCCTGTTCATTCGTCAGCTGCCCTGACCTCTACAGGAGACACGACGTCGGCGGTCTTGGTATGTCTACTCGGGCTCCCTAAATCATCGGCGCCGCCGCCAGGTCTCCATATCTCTAACTTAATATGAATGTACTTTTTCTTATTCGCTAGTAATGGCGACGAAGCGTTAGACAAGGCTCCTTTTTAACCGATGCCGTGTTTCTGACGTGCCTAACTCCTTAATTCCAATTATCGGAGCAAGACACCTTTTGGGTTCCAGACCACAGAGATCCTGACCCCAGGACA',\n",
       " 'TACACGACTGAAATTCTAGAAAGTACAACAAGGGGAGCACCCGTTAATAAAGGACACGATACCACGGGAGAGCAGTACGTCAAGACACGTTTATGCCCGGTGGACCTATATATAATTGTATCTCCACTGCGACGAAGAAGGACCCCACAGCAACGTCTATTATCGGGCAGACGTATAGTCTGAACGAACTGGGGTAGTTGCTCCAGTGGGAACTTCTTTGTGAGTCCATAACGGAAGAGAAAACTTTAACACTCCTGAATTGGTCTGGCTGCCACCTGGAAGCATCCTGGGCCTGCCTACGTTGCAATTCTCCGAGTAAGGT',\n",
       " 'AGGAAAAGGCATTTTAGTGTACTCTTCTAACAGCTCCCGTGTTGAGGGTCTGGGTTACTACCATCGGGGCTCAATTTGAACCGGTAATAACATCCTTTCGGGACGCATCGCTGATCTATAGGTGTTTCTCTGTGGCGCCGAGACATAATGCATTAAAGTATGTGTATCCGGACGCGGTCCTTGTAATGCCTATCATCCGCAAGCTAGACAGGAGTCTACTTATCTACTAGACAAGGACTCCTAGGTTCCTGGGGACAATCCGGGATGGGCTCTCCCTGTGCTAACGCGCGACGCTATCACGCTTGTTTTCCTCCTACTGCAC',\n",
       " 'ATCTAATAAAGTTAGAATTCACCGAAGTGACTAGGAGTATTAAGTGCATTTCGATAAGCTGTGAAGACATACACGGGCCGTTAGACTCAGACTTGTACAAAACGTCAGTCCATATTCTGCTAAGAACCAGCACAGATGCATTTCTACTCGTATTTGGACGACGAGCCAACCCAGTGGATATAAGAGAATTCTCCGGCAATACCTGATGGTTCACGGTCATAACATTCACCCTCGAGAGGTACGTACCCTCGTGAAGCTGGTTTTGTAAAAAAGATCCTCCAAAAGTCGCGTCGCGGCTCGACCCATAACTCTCATCTAGCGG',\n",
       " 'AGATGAGCAAGTGGCGCACCCCGCTTGGTAGCAGCCGGGCGGTCGATAAATAATGTAACACGCCCTGACGTTTACGACTGCCTATAATACATCACGGCCCTACGGGACGAGGTCCATCCTTGTATGAAGGCGCTCGTTCTCTAGCAATAACTGCCCAAATTCATACGGAGAGGCAGGAGTTAGACAAGGATCGACACACCCACTTACGGCAGCCCGTGAGTACTGATAAATGAACCGGGTGAGCTGGTGCGGCGCGCTAATGTTGGCCGATTGTCTATCAACTACATAAATGGAATGCACGGGTAACCTCCCCGTAGAACAC',\n",
       " 'TGAGCGCGCTGTGATCCATCTGGGGCAGCCCCGTTAGACAAGCTGCCCGTCGAACCATGGCAAGCAGGTAACATTGGCCTATAAACGCGAGCTATAGTCTGACGGACCTCGGGGAGCCGATATAGTGTAGCGTCCAAATATCGGTTGACGACCCGTCAGAAGACTGGATTAGTAGGGAACCACGCTGCAAAGGTGGCGCATCTACATACCCTTTGAAATTTTCCCCACTGTGGTACACGGCAACGGAGCGTTTCTAGTGGAACGTAAGCTATGGAGTCAATCTCCTTGTCACTCCGGCGCTCGAGGCAGCGGGGTGAGATCA',\n",
       " 'AATGCTAGTCACGATTGTCGATGGAAAGGTATCCCCCTTATTGGTGTCGGTGCAGGAGATAGGAGCTGCCAAGCGGCCCCTTCACCTCGCAAATAAGCACAACAGTCCCACCCGTGCTATGTTGAAGAGACCAGCGCGGTATGGTATAGATTATAAGGTTGTGTACAATCGGATGGTGCTCTTGTAGACTATTGTAGGCTTACACCACGAACATTGAGCGCGAGAACCCGATGTCTTGCACACATTTCACTGCTCCACACTGGAGCCTAACAAAGTGACCCGTGGGGTTAACGATTAATTAATCCGTTAGGTCAGGACCTAA',\n",
       " 'GTGCGCCAGTGGCTCAATACCCGCGATAAGACGGGCAATCCGTGATACAGGAGACTGCGTCCAGCGCCAGTCGACTGTGACAGAGCGTGTCAGGGCATTAAACACGACGAGTAACTGTCATATGTATCAAGCACCTTTGCCCTGTAGGGTTCGATTTAACCGTTCTGCAAGGACCCCCAAATTCGCGGGTGCGTAACCGCAGTGCTACTAGCAGGCGAGCCCATTCAAACAAACACAGTAGGTCGGGTAACAGTCAAAGGCAAAAAGCTTCTACTCTACCTCTTCTCTCTATTCAACCGTGAAACCTGCAGAGGTTAAGCCA',\n",
       " 'ACAAAGTCACGAACGAGTGCGTCAGTGGCAGTTTTATCGAACAGGTCGGAACCAGGCCTGATTACGACAGTGAACTCTCGGCCCCGGACCTCGTCGCCCGGGGGACCTATGTTCCGCCGGATGTCATCTGTTCCGTACTACAAGGACTGAGCCTATCACGTCTACGGGATAGTGGCCAGTCGTTGCTTGCCGTCATGCAAAAAAAAGGGCCGCGGCAAAAGATCACTACCTGCAAGTAGACCCTGCATAATTATGCTCTACTGTCGCAGCTATTTGTGTGTATACTGGTCAGATTCCCGAGGGTTGAACCACCACTTCCCTA',\n",
       " 'CCTGCTGCTTACTTCGATATAGTTGCGTATTTGGCAGTAGGGTGGTTATTCTTGCCAAACAGCCAAAAGACAAGGACGTCGGGGAAAAATTGTTGGCTGTGACCTAACTGCGGCCATGGAAGACTACAAAGATGGGCATTTTATGAGTTGCCATTATAGTGACGGTATGCTTGCCGTCACTCGCCCTAGGTCTACCATATAGAAGCTAGGATCTCTGTGACAACGGTGATTAGTGTGACTACCAAGGTAATACCATTCATGTCCGCAAGCCAGGGCGGCCTAAGAATTGCTCGTCATTATATTGCGCTGTTGACTGCATGCG',\n",
       " 'CTTACTCGGTTATGGAGGACATATGCAACTGCTGTCGGTGCTACCTCGTAGGAGGGCCGGTCAAGTACGAACCCGTTCATCAAGGACTGTCAGCACTAGGTTTGACAGTAAACGAGATTAGTTCGACAACGCCCGGGCGGATCGGAGCAGAATTTACGATCGATTGAGGACCTAGAACTAGCTGATTGACGGGCTGACTGCAATTACCTTTAAATTGGCCGTTACGTATGGCCCATGCAATAAGTCGTAACAGAATGCATCAAAATCAGAATTGAAGCAATGCACCAAGGTCTTGGTGCTGCATGCTTGGGGGCTCCGCTGC',\n",
       " 'AGAGCTGCTTAGAGTACACCGTAAATGTTCTGATTTCTGCCTTGTGGAAATAGCGGATACTTACGTTTGAGATGGGAGATCGCATCTGACGGCGTGGACCTAGACCTGGGTACGTCCGTATTACAAGGACCAACTCTCAGATCCTAGTTGGTTGGAACAAGGTTTTTAAGCCCAAAAGTCTAGTAAGATATATTTAGCGCTTGAATAGAAAGTTCGCGCTCCATTTGTTACAACTAAGTGCCATACCCTTCCCAGCCCAATGTTTAATGTGTATCCTGCACAAACTCGAAGAACGCCCAAGAGTTAACGAGCTCTCTCTTTG',\n",
       " 'TCATTCTCCCTAACTCTTAGGGCTAATCTCCGTGCACGTACAGAATTTCCGACACTCTACCCGTCAGTACGTCACCGATGGCACCGCATGACAAGGACATGTCGAGGATGCTTAATTTTTGACAGGTGCTTCATTATGCGCGGGCGCAGACATCGTAGGCCGTCAAATTAGTGCCAACCGCTCAGTTTGCTAACCGTGCTGCGAATTAATCTTGTAACCATAGGATAGTTCGTGCCCCTGTCCCTGACTTGTGGGTAACAACCTTCATACGGTCGGTCGCCAAATGCGCGGACCCCGTTCTATAGATAATAGCCACATCACT',\n",
       " 'GACCATTGGATTTACACCGAGATCCATTGAAACAGCAGCGAACCAACGCTATTGTTATTGAGTGGTGAAGTCCGGTGACCGAGCAGTACCTCGTGAAGAAAGACAGGGGTGAGGGCACGCGTGTGTACCCCCCTAGGCTAAGTCGTTCCTTGATGCTGTGGCGGCCTTTAGGTAAGACAAGTTAGGGATCGTCGTGATACCCTCAAGGTAATATCTACTCTCGTTCTAGACTTCCATACTCTCAGCAAGCATACACCCGTTACGTAAGGACACATTCAGTTGGAAGCTGCGAAGAATCCCACAACTCGTATGCAGTCCACTG',\n",
       " 'GCATCTATACACCATCTCGCATGCGTCAGAGTAAAGACCTAAACTATTAGAAAGTATGCGTTATCGGCCAACGCGGAACGACGTATCATTATATAAGAGTGTTCCGCCGCGGTCCCATACATGTGAGACCTAGAACGTTCGGTAGAAGGACTGTCCTGTATAGCCTATACCCAGAGACTTAGACAAGGACTGTTAAACATCCGTTGTGACTCGGACATGGCACGAACGTTCCTGACGGTTTCTAATTCTAGCTACGCGATAATTGTTCGCCGTAGAGTCCGTAAATCTCAATGGGCCCATGTACCTACTTCGAGCCCTCATC',\n",
       " 'AATTCGTGGACGTGCTGCACGCCAGCCGTTAGACAAAATCACTAAGTGCAGATTGCCACGTAGGAAAATATTGGCCACCACTGAAATGGCCGATTGAGTACAAGGCAACGCTCGTTCAGTATCCACTATGAGCAAGTGAGACGCGTGGAAACTAACTTCTCTCCTAGGACTACGCGCGAAGACAGGAAGGTGTGCTGGACTATCCATACCATAGTCGTCCCCGATCAGAGAGTTGAAATCCTGAACTAACCAATAGACTAGTATGTAAGTGAATTCGATTGCCGTGAGGCGTATGATCGGCACCGACAGCGAGTGATGATGA',\n",
       " 'ACGTTATCCAACCGCCAAGCCTTCACCCTATAACCAGCTTCTCAAATACACACACGTAATGTAGTCGTTGGCTAAGGTCCGAACCAGCACTATTGTCGCTGAAAGGAGAATTAGATACGGGCCCGTTAGACACCTACGTCGCCAACCATTGCTTGTCGATTCAGTTATACTGGTCACGCCGATCTTACTTCCTTACCCTGACCAGATGGACACTATATTGAGCCGGCCGGTTCTTGTACAGTGGTATCGTAGGGGTAGGATCGGCGCGTTAAACAGACATTTGTCAGTAGACGCGTATCACGGCGGGCAATCATCGAGATCA']"
      ]
     },
     "execution_count": 73,
     "metadata": {},
     "output_type": "execute_result"
    }
   ],
   "source": [
    "lines"
   ]
  },
  {
   "cell_type": "code",
   "execution_count": 5,
   "id": "c6af4e0c-a86a-4ad5-a1e4-4cf32f1e5444",
   "metadata": {},
   "outputs": [
    {
     "data": {
      "text/plain": [
       "600"
      ]
     },
     "execution_count": 5,
     "metadata": {},
     "output_type": "execute_result"
    }
   ],
   "source": [
    "len(lines[0])"
   ]
  },
  {
   "cell_type": "code",
   "execution_count": 6,
   "id": "1c70e181-6f08-4de9-9bda-3cbb53e3401f",
   "metadata": {},
   "outputs": [
    {
     "data": {
      "text/plain": [
       "32"
      ]
     },
     "execution_count": 6,
     "metadata": {},
     "output_type": "execute_result"
    }
   ],
   "source": [
    "random.randint(0,len(lines[0])-15)"
   ]
  },
  {
   "cell_type": "markdown",
   "id": "70ba7908-70ce-422b-bd7a-cbf9bf58aaca",
   "metadata": {},
   "source": [
    "Una funcion para generar un k-mero random de una secuencia."
   ]
  },
  {
   "cell_type": "code",
   "execution_count": 7,
   "id": "38e527cc-c765-4e27-8075-361f7cc32c76",
   "metadata": {},
   "outputs": [],
   "source": [
    "def randomkmer(line, k):\n",
    "    start = random.randint(0, len(line)-k-1)\n",
    "    return line[start:start+k]"
   ]
  },
  {
   "cell_type": "code",
   "execution_count": 8,
   "id": "22848bec-d3dc-47bb-b194-c85137eb9224",
   "metadata": {},
   "outputs": [
    {
     "data": {
      "text/plain": [
       "'GTCCAACAATGTTAG'"
      ]
     },
     "execution_count": 8,
     "metadata": {},
     "output_type": "execute_result"
    }
   ],
   "source": [
    "randomkmer(lines[0], 15)"
   ]
  },
  {
   "cell_type": "code",
   "execution_count": 9,
   "id": "f185ca62-6f7e-4947-9e73-9908a2cf8fe1",
   "metadata": {},
   "outputs": [],
   "source": [
    "Motif = [randomkmer(line, 15) for line in lines]"
   ]
  },
  {
   "cell_type": "code",
   "execution_count": 10,
   "id": "2929db79-6dca-461c-a25e-dcfef2f02ff0",
   "metadata": {},
   "outputs": [
    {
     "data": {
      "text/plain": [
       "['GGAGGGCTGAAATAC',\n",
       " 'AAAAATAGCAGGGTG',\n",
       " 'GTTGGACTCTCCAAC',\n",
       " 'TACGGCGGTTTTCGT',\n",
       " 'TTCACGGGAGAAAGA',\n",
       " 'ACTTAAGCGTTCGAA',\n",
       " 'CAAGAGAGGTGTATC',\n",
       " 'ATGCCCTGGAAGGGA',\n",
       " 'CGGGTTTTAAGCGGG',\n",
       " 'CGCAGGACCAAAGCC']"
      ]
     },
     "execution_count": 10,
     "metadata": {},
     "output_type": "execute_result"
    }
   ],
   "source": [
    "Motif"
   ]
  },
  {
   "cell_type": "code",
   "execution_count": 11,
   "id": "59607ee1-1ad1-4bb5-a938-12b5c813175a",
   "metadata": {},
   "outputs": [
    {
     "data": {
      "text/plain": [
       "7"
      ]
     },
     "execution_count": 11,
     "metadata": {},
     "output_type": "execute_result"
    }
   ],
   "source": [
    "random.randint(0,20)"
   ]
  },
  {
   "cell_type": "code",
   "execution_count": 12,
   "id": "4fd114e1-238a-41a2-b2d9-94ec26044b0c",
   "metadata": {},
   "outputs": [],
   "source": [
    "def MakeCounts(motif):\n",
    "    k = len(motif[0])\n",
    "    counts = [[1 for i in range(k)] for j in range(4) ]\n",
    "    for i in range(k):\n",
    "        for j in range(len(motif)):\n",
    "            letra = motif[j][i]\n",
    "            index = \"ACGT\".index(letra)\n",
    "            counts[index][i] += 1\n",
    "    return counts"
   ]
  },
  {
   "cell_type": "code",
   "execution_count": 13,
   "id": "b76b0739-c656-4acc-ba45-a06eae19aa7b",
   "metadata": {},
   "outputs": [],
   "source": [
    "# Arreglamos un bug aqui. El denominador es 4+filas, no el doble de filas\n",
    "def MakeProfile(motif):\n",
    "    Counts = MakeCounts(motif)\n",
    "    Profile = copy.deepcopy(Counts)\n",
    "    filas = len(motif)\n",
    "    for i in range(len(Counts)):\n",
    "        for j in range(len(Counts[0])):\n",
    "            Profile[i][j] = Counts[i][j]/(4+filas)\n",
    "    return Profile"
   ]
  },
  {
   "cell_type": "code",
   "execution_count": 115,
   "id": "ffdc8feb-e12d-4a00-9f2b-886676a607fe",
   "metadata": {},
   "outputs": [],
   "source": [
    "def MakeKmer(Motifs, Text, k):\n",
    "    counts = MakeCounts(Motifs)\n",
    "    probs = []\n",
    "    for i in range(len(Text) - k + 1):\n",
    "        kmer = Text[i:i+k]\n",
    "        prob = 1\n",
    "        for j in range(k):\n",
    "            row = \"ACGT\".index(kmer[j])\n",
    "            prob *= counts[row][j]\n",
    "        probs.append(prob)\n",
    "    element = random.choices(range(len(probs)), weights = probs)[0]\n",
    "    \n",
    "    return Text[element:element+k]"
   ]
  },
  {
   "cell_type": "code",
   "execution_count": 15,
   "id": "8b1b56a4-5aec-4cbd-bb90-f776d8d2f4f5",
   "metadata": {},
   "outputs": [],
   "source": [
    "# Esta funcion aun esta rota\n",
    "def Score(Motifs):\n",
    "    counts = MakeCounts(Motifs)\n",
    "    score = 0\n",
    "    k = len(Motifs[0])\n",
    "    for i in range(k):\n",
    "        lista = []\n",
    "        for j in range(4):\n",
    "            cell = counts[j][i] - 1\n",
    "            score += cell\n",
    "            lista.append(cell)\n",
    "\n",
    "        top = max(lista)\n",
    "        score -= top\n",
    "\n",
    "    return score"
   ]
  },
  {
   "cell_type": "code",
   "execution_count": 113,
   "id": "3fcadefc-ec3c-4ec9-9bac-027c14ce6883",
   "metadata": {},
   "outputs": [],
   "source": [
    "def GibbsSampler(DNA, k, t, N):\n",
    "    # pick a random start\n",
    "    Motif = [randomkmer(line, k) for line in DNA]\n",
    "    BestMotif = Motif[:]\n",
    "    for j in range(N):\n",
    "        # seleccionar una fila del motif\n",
    "        i = random.randint(0, t-1)\n",
    "        #Motif[i] = randomkmer(DNA[i], k) # esto es como del 2.7 (random search)\n",
    "        newmotif = Motif[:] # hacer copia de Motif\n",
    "        Text = newmotif.pop(i) # eliminar la fila i\n",
    "        \n",
    "        Profile = MakeProfile(newmotif)\n",
    "        newkmer = MakeKmer(newmotif, Text, k)\n",
    "        Motif[i] = newkmer\n",
    "        # Computar score nuevo motif\n",
    "        # Si es mejor cambiar BestMotif por Motif\n",
    "        if Score(Motif) < Score(BestMotif):\n",
    "            BestMotif = Motif[:]\n",
    " \n",
    "    return BestMotif"
   ]
  },
  {
   "cell_type": "markdown",
   "id": "a929318e-80bc-44b7-b8e9-1b52cb8420cc",
   "metadata": {},
   "source": [
    "# Pruebas \n",
    "\n",
    "Algunas pruebas para ver si entiendo python y como hacer algunas cosas."
   ]
  },
  {
   "cell_type": "code",
   "execution_count": 17,
   "id": "e27d2465-4cfa-4bce-8af9-2b7f181287ca",
   "metadata": {},
   "outputs": [
    {
     "data": {
      "text/plain": [
       "['GGAGGGCTGAAATAC',\n",
       " 'AAAAATAGCAGGGTG',\n",
       " 'GTTGGACTCTCCAAC',\n",
       " 'TACGGCGGTTTTCGT',\n",
       " 'TTCACGGGAGAAAGA',\n",
       " 'ACTTAAGCGTTCGAA',\n",
       " 'CAAGAGAGGTGTATC',\n",
       " 'ATGCCCTGGAAGGGA',\n",
       " 'CGGGTTTTAAGCGGG',\n",
       " 'CGCAGGACCAAAGCC']"
      ]
     },
     "execution_count": 17,
     "metadata": {},
     "output_type": "execute_result"
    }
   ],
   "source": [
    "Motif"
   ]
  },
  {
   "cell_type": "code",
   "execution_count": 18,
   "id": "881630f3-8498-46aa-9737-6616f96e053f",
   "metadata": {},
   "outputs": [],
   "source": [
    "i = 3\n",
    "\n",
    "Motif[i] = randomkmer(lines[i], 15)"
   ]
  },
  {
   "cell_type": "code",
   "execution_count": 19,
   "id": "fb5f913a-7311-44f8-b75a-40e8344f90cb",
   "metadata": {},
   "outputs": [
    {
     "data": {
      "text/plain": [
       "['GGAGGGCTGAAATAC',\n",
       " 'AAAAATAGCAGGGTG',\n",
       " 'GTTGGACTCTCCAAC',\n",
       " 'GGGGCCCTCCAGCTT',\n",
       " 'TTCACGGGAGAAAGA',\n",
       " 'ACTTAAGCGTTCGAA',\n",
       " 'CAAGAGAGGTGTATC',\n",
       " 'ATGCCCTGGAAGGGA',\n",
       " 'CGGGTTTTAAGCGGG',\n",
       " 'CGCAGGACCAAAGCC']"
      ]
     },
     "execution_count": 19,
     "metadata": {},
     "output_type": "execute_result"
    }
   ],
   "source": [
    "Motif"
   ]
  },
  {
   "cell_type": "code",
   "execution_count": 20,
   "id": "26b00e4f-79f5-4dd0-9f43-7b62a4996ff2",
   "metadata": {},
   "outputs": [
    {
     "data": {
      "text/plain": [
       "'GGGGCCCTCCAGCTT'"
      ]
     },
     "execution_count": 20,
     "metadata": {},
     "output_type": "execute_result"
    }
   ],
   "source": [
    "Motif.pop(3)"
   ]
  },
  {
   "cell_type": "code",
   "execution_count": 21,
   "id": "c05dfd8c-8adc-444e-9a41-1ba6fe865246",
   "metadata": {},
   "outputs": [
    {
     "data": {
      "text/plain": [
       "['GGAGGGCTGAAATAC',\n",
       " 'AAAAATAGCAGGGTG',\n",
       " 'GTTGGACTCTCCAAC',\n",
       " 'TTCACGGGAGAAAGA',\n",
       " 'ACTTAAGCGTTCGAA',\n",
       " 'CAAGAGAGGTGTATC',\n",
       " 'ATGCCCTGGAAGGGA',\n",
       " 'CGGGTTTTAAGCGGG',\n",
       " 'CGCAGGACCAAAGCC']"
      ]
     },
     "execution_count": 21,
     "metadata": {},
     "output_type": "execute_result"
    }
   ],
   "source": [
    "Motif"
   ]
  },
  {
   "cell_type": "code",
   "execution_count": 22,
   "id": "d013b720-eb0c-4c4f-ac69-aef419b95e6e",
   "metadata": {},
   "outputs": [
    {
     "data": {
      "text/plain": [
       "0"
      ]
     },
     "execution_count": 22,
     "metadata": {},
     "output_type": "execute_result"
    }
   ],
   "source": [
    "\"ACGT\".index(\"A\")\n"
   ]
  },
  {
   "cell_type": "code",
   "execution_count": 23,
   "id": "5879c57f-f0ec-413e-b2da-527cd1a7373d",
   "metadata": {},
   "outputs": [
    {
     "data": {
      "text/plain": [
       "1"
      ]
     },
     "execution_count": 23,
     "metadata": {},
     "output_type": "execute_result"
    }
   ],
   "source": [
    "\"ACGT\".index(\"C\")"
   ]
  },
  {
   "cell_type": "code",
   "execution_count": 24,
   "id": "d7013c7c-6cf7-4aa2-821a-d04812acced7",
   "metadata": {},
   "outputs": [],
   "source": [
    "counts = [[1] * 15] * 4"
   ]
  },
  {
   "cell_type": "code",
   "execution_count": 25,
   "id": "2383142b-bba7-49a8-ac30-f6b8c2851bb8",
   "metadata": {},
   "outputs": [],
   "source": [
    "otros_counts = [[1 for i in range(15)] for j in range(4) ]"
   ]
  },
  {
   "cell_type": "code",
   "execution_count": 26,
   "id": "1ee48f70-d5fc-43ef-8724-1ffd3b091d67",
   "metadata": {},
   "outputs": [
    {
     "data": {
      "text/plain": [
       "[[4, 3, 4, 4, 4, 3, 4, 1, 3, 6, 5, 4, 4, 4, 4],\n",
       " [4, 2, 3, 2, 3, 2, 3, 3, 4, 1, 2, 4, 1, 2, 5],\n",
       " [3, 4, 3, 5, 4, 5, 3, 5, 5, 2, 4, 3, 6, 4, 3],\n",
       " [2, 4, 3, 2, 2, 3, 3, 4, 1, 4, 2, 2, 2, 3, 1]]"
      ]
     },
     "execution_count": 26,
     "metadata": {},
     "output_type": "execute_result"
    }
   ],
   "source": [
    "MakeCounts(Motif)"
   ]
  },
  {
   "cell_type": "code",
   "execution_count": 27,
   "id": "d2bf694b-a5f6-421a-b911-74e14418f858",
   "metadata": {},
   "outputs": [
    {
     "data": {
      "text/plain": [
       "[[1, 1, 1, 1, 1, 1, 1, 1, 1, 1, 1, 1, 1, 1, 1],\n",
       " [1, 1, 1, 1, 1, 1, 1, 1, 1, 1, 1, 1, 1, 1, 1],\n",
       " [1, 1, 1, 1, 1, 1, 1, 1, 1, 1, 1, 1, 1, 1, 1],\n",
       " [1, 1, 1, 1, 1, 1, 1, 1, 1, 1, 1, 1, 1, 1, 1]]"
      ]
     },
     "execution_count": 27,
     "metadata": {},
     "output_type": "execute_result"
    }
   ],
   "source": [
    "counts"
   ]
  },
  {
   "cell_type": "code",
   "execution_count": 28,
   "id": "4addec7b-09a5-49b9-b735-d04a69460974",
   "metadata": {},
   "outputs": [],
   "source": [
    "counts[0][3] += 1"
   ]
  },
  {
   "cell_type": "code",
   "execution_count": 29,
   "id": "9d5adbae-77a0-43da-ab86-fe1486ab7790",
   "metadata": {},
   "outputs": [
    {
     "data": {
      "text/plain": [
       "[[1, 1, 1, 2, 1, 1, 1, 1, 1, 1, 1, 1, 1, 1, 1],\n",
       " [1, 1, 1, 2, 1, 1, 1, 1, 1, 1, 1, 1, 1, 1, 1],\n",
       " [1, 1, 1, 2, 1, 1, 1, 1, 1, 1, 1, 1, 1, 1, 1],\n",
       " [1, 1, 1, 2, 1, 1, 1, 1, 1, 1, 1, 1, 1, 1, 1]]"
      ]
     },
     "execution_count": 29,
     "metadata": {},
     "output_type": "execute_result"
    }
   ],
   "source": [
    "counts"
   ]
  },
  {
   "cell_type": "code",
   "execution_count": 30,
   "id": "3f96fbcf-57c9-4e07-aa4f-831e001ee1e1",
   "metadata": {},
   "outputs": [
    {
     "data": {
      "text/plain": [
       "[[1, 1, 1, 1, 1, 1, 1, 1, 1, 1, 1, 1, 1, 1, 1],\n",
       " [1, 1, 1, 1, 1, 1, 1, 1, 1, 1, 1, 1, 1, 1, 1],\n",
       " [1, 1, 1, 1, 1, 1, 1, 1, 1, 1, 1, 1, 1, 1, 1],\n",
       " [1, 1, 1, 1, 1, 1, 1, 1, 1, 1, 1, 1, 1, 1, 1]]"
      ]
     },
     "execution_count": 30,
     "metadata": {},
     "output_type": "execute_result"
    }
   ],
   "source": [
    "otros_counts"
   ]
  },
  {
   "cell_type": "code",
   "execution_count": 31,
   "id": "94b127c7-2015-45f1-8435-7e102985382f",
   "metadata": {},
   "outputs": [],
   "source": [
    "otros_counts[0][3] += 1"
   ]
  },
  {
   "cell_type": "code",
   "execution_count": 32,
   "id": "b3bf644c-5316-40a9-9ec0-b1e20df4a086",
   "metadata": {},
   "outputs": [
    {
     "data": {
      "text/plain": [
       "[[1, 1, 1, 2, 1, 1, 1, 1, 1, 1, 1, 1, 1, 1, 1],\n",
       " [1, 1, 1, 1, 1, 1, 1, 1, 1, 1, 1, 1, 1, 1, 1],\n",
       " [1, 1, 1, 1, 1, 1, 1, 1, 1, 1, 1, 1, 1, 1, 1],\n",
       " [1, 1, 1, 1, 1, 1, 1, 1, 1, 1, 1, 1, 1, 1, 1]]"
      ]
     },
     "execution_count": 32,
     "metadata": {},
     "output_type": "execute_result"
    }
   ],
   "source": [
    "otros_counts"
   ]
  },
  {
   "cell_type": "code",
   "execution_count": 33,
   "id": "ba650adb-779d-4aaf-b0aa-08320a38c715",
   "metadata": {},
   "outputs": [],
   "source": [
    "otros_otros_counts = copy.deepcopy(otros_counts)"
   ]
  },
  {
   "cell_type": "code",
   "execution_count": 34,
   "id": "c05b7124-3ecf-4991-95a1-be09fa1fb990",
   "metadata": {},
   "outputs": [],
   "source": [
    "otros_counts[0][0] = 23"
   ]
  },
  {
   "cell_type": "code",
   "execution_count": 35,
   "id": "7924d68d-380b-4ee0-ac57-6945fa881d97",
   "metadata": {},
   "outputs": [
    {
     "data": {
      "text/plain": [
       "[[23, 1, 1, 2, 1, 1, 1, 1, 1, 1, 1, 1, 1, 1, 1],\n",
       " [1, 1, 1, 1, 1, 1, 1, 1, 1, 1, 1, 1, 1, 1, 1],\n",
       " [1, 1, 1, 1, 1, 1, 1, 1, 1, 1, 1, 1, 1, 1, 1],\n",
       " [1, 1, 1, 1, 1, 1, 1, 1, 1, 1, 1, 1, 1, 1, 1]]"
      ]
     },
     "execution_count": 35,
     "metadata": {},
     "output_type": "execute_result"
    }
   ],
   "source": [
    "otros_counts"
   ]
  },
  {
   "cell_type": "code",
   "execution_count": 36,
   "id": "02d0e179-d99b-472e-bcdb-dc3f8366b334",
   "metadata": {},
   "outputs": [
    {
     "data": {
      "text/plain": [
       "[[1, 1, 1, 2, 1, 1, 1, 1, 1, 1, 1, 1, 1, 1, 1],\n",
       " [1, 1, 1, 1, 1, 1, 1, 1, 1, 1, 1, 1, 1, 1, 1],\n",
       " [1, 1, 1, 1, 1, 1, 1, 1, 1, 1, 1, 1, 1, 1, 1],\n",
       " [1, 1, 1, 1, 1, 1, 1, 1, 1, 1, 1, 1, 1, 1, 1]]"
      ]
     },
     "execution_count": 36,
     "metadata": {},
     "output_type": "execute_result"
    }
   ],
   "source": [
    "otros_otros_counts"
   ]
  },
  {
   "cell_type": "code",
   "execution_count": 37,
   "id": "f9819afa-c79d-405a-8528-3b78b817181e",
   "metadata": {},
   "outputs": [
    {
     "data": {
      "text/plain": [
       "[[0.3076923076923077,\n",
       "  0.23076923076923078,\n",
       "  0.3076923076923077,\n",
       "  0.3076923076923077,\n",
       "  0.3076923076923077,\n",
       "  0.23076923076923078,\n",
       "  0.3076923076923077,\n",
       "  0.07692307692307693,\n",
       "  0.23076923076923078,\n",
       "  0.46153846153846156,\n",
       "  0.38461538461538464,\n",
       "  0.3076923076923077,\n",
       "  0.3076923076923077,\n",
       "  0.3076923076923077,\n",
       "  0.3076923076923077],\n",
       " [0.3076923076923077,\n",
       "  0.15384615384615385,\n",
       "  0.23076923076923078,\n",
       "  0.15384615384615385,\n",
       "  0.23076923076923078,\n",
       "  0.15384615384615385,\n",
       "  0.23076923076923078,\n",
       "  0.23076923076923078,\n",
       "  0.3076923076923077,\n",
       "  0.07692307692307693,\n",
       "  0.15384615384615385,\n",
       "  0.3076923076923077,\n",
       "  0.07692307692307693,\n",
       "  0.15384615384615385,\n",
       "  0.38461538461538464],\n",
       " [0.23076923076923078,\n",
       "  0.3076923076923077,\n",
       "  0.23076923076923078,\n",
       "  0.38461538461538464,\n",
       "  0.3076923076923077,\n",
       "  0.38461538461538464,\n",
       "  0.23076923076923078,\n",
       "  0.38461538461538464,\n",
       "  0.38461538461538464,\n",
       "  0.15384615384615385,\n",
       "  0.3076923076923077,\n",
       "  0.23076923076923078,\n",
       "  0.46153846153846156,\n",
       "  0.3076923076923077,\n",
       "  0.23076923076923078],\n",
       " [0.15384615384615385,\n",
       "  0.3076923076923077,\n",
       "  0.23076923076923078,\n",
       "  0.15384615384615385,\n",
       "  0.15384615384615385,\n",
       "  0.23076923076923078,\n",
       "  0.23076923076923078,\n",
       "  0.3076923076923077,\n",
       "  0.07692307692307693,\n",
       "  0.3076923076923077,\n",
       "  0.15384615384615385,\n",
       "  0.15384615384615385,\n",
       "  0.15384615384615385,\n",
       "  0.23076923076923078,\n",
       "  0.07692307692307693]]"
      ]
     },
     "execution_count": 37,
     "metadata": {},
     "output_type": "execute_result"
    }
   ],
   "source": [
    "MakeProfile(Motif)"
   ]
  },
  {
   "cell_type": "code",
   "execution_count": 38,
   "id": "8a9816c6-2b5d-4030-8a57-428d458b951f",
   "metadata": {},
   "outputs": [
    {
     "data": {
      "text/plain": [
       "'ACGTCCTTA'"
      ]
     },
     "execution_count": 38,
     "metadata": {},
     "output_type": "execute_result"
    }
   ],
   "source": [
    "\"ACGT*CCTTA\".replace(\"*\", \"\")"
   ]
  },
  {
   "cell_type": "code",
   "execution_count": 39,
   "id": "a4df80e6-37e8-4d22-8da1-e865e12ce000",
   "metadata": {},
   "outputs": [
    {
     "data": {
      "text/plain": [
       "0.7000000000000001"
      ]
     },
     "execution_count": 39,
     "metadata": {},
     "output_type": "execute_result"
    }
   ],
   "source": [
    ".16+.11+.27+.16"
   ]
  },
  {
   "cell_type": "code",
   "execution_count": 40,
   "id": "ef10ef2f-3885-4cb0-8f55-40d7f3bc27fc",
   "metadata": {},
   "outputs": [
    {
     "data": {
      "text/plain": [
       "[[4, 3, 4, 4, 4, 3, 4, 1, 3, 6, 5, 4, 4, 4, 4],\n",
       " [4, 2, 3, 2, 3, 2, 3, 3, 4, 1, 2, 4, 1, 2, 5],\n",
       " [3, 4, 3, 5, 4, 5, 3, 5, 5, 2, 4, 3, 6, 4, 3],\n",
       " [2, 4, 3, 2, 2, 3, 3, 4, 1, 4, 2, 2, 2, 3, 1]]"
      ]
     },
     "execution_count": 40,
     "metadata": {},
     "output_type": "execute_result"
    }
   ],
   "source": [
    "MakeCounts(Motif)"
   ]
  },
  {
   "cell_type": "code",
   "execution_count": 41,
   "id": "a6551f1b-049a-408e-8b83-872b38a56c84",
   "metadata": {},
   "outputs": [
    {
     "data": {
      "text/plain": [
       "9"
      ]
     },
     "execution_count": 41,
     "metadata": {},
     "output_type": "execute_result"
    }
   ],
   "source": [
    "len(Motif)"
   ]
  },
  {
   "cell_type": "code",
   "execution_count": 42,
   "id": "37d0f754-e0c8-4785-b5c2-405a5bdcc783",
   "metadata": {},
   "outputs": [
    {
     "data": {
      "text/plain": [
       "['GGAGGGCTGAAATAC',\n",
       " 'AAAAATAGCAGGGTG',\n",
       " 'GTTGGACTCTCCAAC',\n",
       " 'TTCACGGGAGAAAGA',\n",
       " 'ACTTAAGCGTTCGAA',\n",
       " 'CAAGAGAGGTGTATC',\n",
       " 'ATGCCCTGGAAGGGA',\n",
       " 'CGGGTTTTAAGCGGG',\n",
       " 'CGCAGGACCAAAGCC']"
      ]
     },
     "execution_count": 42,
     "metadata": {},
     "output_type": "execute_result"
    }
   ],
   "source": [
    "Motif"
   ]
  },
  {
   "cell_type": "code",
   "execution_count": 43,
   "id": "48e2bb7a-abca-4df7-8605-194705089f68",
   "metadata": {},
   "outputs": [
    {
     "data": {
      "text/plain": [
       "0.9800000000000001"
      ]
     },
     "execution_count": 43,
     "metadata": {},
     "output_type": "execute_result"
    }
   ],
   "source": [
    ".46+0.07+.07+.38\n"
   ]
  },
  {
   "cell_type": "code",
   "execution_count": 44,
   "id": "84263045-8856-48b1-a7bf-c4748256cc67",
   "metadata": {},
   "outputs": [],
   "source": [
    "Profile = MakeProfile(Motif)"
   ]
  },
  {
   "cell_type": "code",
   "execution_count": 45,
   "id": "fa2499f4-3536-47dc-bb35-298d7b459263",
   "metadata": {},
   "outputs": [
    {
     "data": {
      "text/plain": [
       "[[0.3076923076923077,\n",
       "  0.23076923076923078,\n",
       "  0.3076923076923077,\n",
       "  0.3076923076923077,\n",
       "  0.3076923076923077,\n",
       "  0.23076923076923078,\n",
       "  0.3076923076923077,\n",
       "  0.07692307692307693,\n",
       "  0.23076923076923078,\n",
       "  0.46153846153846156,\n",
       "  0.38461538461538464,\n",
       "  0.3076923076923077,\n",
       "  0.3076923076923077,\n",
       "  0.3076923076923077,\n",
       "  0.3076923076923077],\n",
       " [0.3076923076923077,\n",
       "  0.15384615384615385,\n",
       "  0.23076923076923078,\n",
       "  0.15384615384615385,\n",
       "  0.23076923076923078,\n",
       "  0.15384615384615385,\n",
       "  0.23076923076923078,\n",
       "  0.23076923076923078,\n",
       "  0.3076923076923077,\n",
       "  0.07692307692307693,\n",
       "  0.15384615384615385,\n",
       "  0.3076923076923077,\n",
       "  0.07692307692307693,\n",
       "  0.15384615384615385,\n",
       "  0.38461538461538464],\n",
       " [0.23076923076923078,\n",
       "  0.3076923076923077,\n",
       "  0.23076923076923078,\n",
       "  0.38461538461538464,\n",
       "  0.3076923076923077,\n",
       "  0.38461538461538464,\n",
       "  0.23076923076923078,\n",
       "  0.38461538461538464,\n",
       "  0.38461538461538464,\n",
       "  0.15384615384615385,\n",
       "  0.3076923076923077,\n",
       "  0.23076923076923078,\n",
       "  0.46153846153846156,\n",
       "  0.3076923076923077,\n",
       "  0.23076923076923078],\n",
       " [0.15384615384615385,\n",
       "  0.3076923076923077,\n",
       "  0.23076923076923078,\n",
       "  0.15384615384615385,\n",
       "  0.15384615384615385,\n",
       "  0.23076923076923078,\n",
       "  0.23076923076923078,\n",
       "  0.3076923076923077,\n",
       "  0.07692307692307693,\n",
       "  0.3076923076923077,\n",
       "  0.15384615384615385,\n",
       "  0.15384615384615385,\n",
       "  0.15384615384615385,\n",
       "  0.23076923076923078,\n",
       "  0.07692307692307693]]"
      ]
     },
     "execution_count": 45,
     "metadata": {},
     "output_type": "execute_result"
    }
   ],
   "source": [
    "Profile"
   ]
  },
  {
   "cell_type": "code",
   "execution_count": 46,
   "id": "6b56d974-dda6-4abf-9ef7-5b21794b0e8f",
   "metadata": {},
   "outputs": [],
   "source": [
    "r = random.random()"
   ]
  },
  {
   "cell_type": "code",
   "execution_count": 47,
   "id": "810facf5-0790-4f5b-b55a-abb83523d8c3",
   "metadata": {},
   "outputs": [
    {
     "data": {
      "text/plain": [
       "0.14318199374021334"
      ]
     },
     "execution_count": 47,
     "metadata": {},
     "output_type": "execute_result"
    }
   ],
   "source": [
    "r"
   ]
  },
  {
   "cell_type": "code",
   "execution_count": 48,
   "id": "f461210c-d09d-4571-9083-22d9a944ca53",
   "metadata": {},
   "outputs": [
    {
     "data": {
      "text/plain": [
       "0.3076923076923077"
      ]
     },
     "execution_count": 48,
     "metadata": {},
     "output_type": "execute_result"
    }
   ],
   "source": [
    "Profile[0][0]"
   ]
  },
  {
   "cell_type": "code",
   "execution_count": 49,
   "id": "efe7fae5-c14d-4541-b1fe-a9fa1debb2fd",
   "metadata": {},
   "outputs": [
    {
     "data": {
      "text/plain": [
       "0.3076923076923077"
      ]
     },
     "execution_count": 49,
     "metadata": {},
     "output_type": "execute_result"
    }
   ],
   "source": [
    "Profile[1][0]"
   ]
  },
  {
   "cell_type": "code",
   "execution_count": 50,
   "id": "a2c16e8a-4df3-4063-a227-b63503ff58c8",
   "metadata": {},
   "outputs": [
    {
     "data": {
      "text/plain": [
       "0.23076923076923078"
      ]
     },
     "execution_count": 50,
     "metadata": {},
     "output_type": "execute_result"
    }
   ],
   "source": [
    "Profile[2][0]"
   ]
  },
  {
   "cell_type": "code",
   "execution_count": 51,
   "id": "06cb3b3c-8138-48cd-ad78-30f61caad60c",
   "metadata": {},
   "outputs": [
    {
     "data": {
      "text/plain": [
       "0.15384615384615385"
      ]
     },
     "execution_count": 51,
     "metadata": {},
     "output_type": "execute_result"
    }
   ],
   "source": [
    "Profile[3][0]"
   ]
  },
  {
   "cell_type": "code",
   "execution_count": 52,
   "id": "97f5654a-59dd-4b1e-b890-321b435c5b18",
   "metadata": {},
   "outputs": [
    {
     "data": {
      "text/plain": [
       "'A'"
      ]
     },
     "execution_count": 52,
     "metadata": {},
     "output_type": "execute_result"
    }
   ],
   "source": [
    "\"\"+ \"A\""
   ]
  },
  {
   "cell_type": "code",
   "execution_count": 53,
   "id": "5f78835c-c2ad-4697-aeaa-87d1850eb172",
   "metadata": {},
   "outputs": [],
   "source": [
    "kmer = \"\""
   ]
  },
  {
   "cell_type": "code",
   "execution_count": 54,
   "id": "283cbaed-bba1-440a-b52d-ec9110e4f66b",
   "metadata": {},
   "outputs": [],
   "source": [
    "kmer += \"A\""
   ]
  },
  {
   "cell_type": "code",
   "execution_count": 55,
   "id": "1976f639-d5cf-414d-bbac-2e9cd20650d7",
   "metadata": {},
   "outputs": [
    {
     "data": {
      "text/plain": [
       "'A'"
      ]
     },
     "execution_count": 55,
     "metadata": {},
     "output_type": "execute_result"
    }
   ],
   "source": [
    "kmer"
   ]
  },
  {
   "cell_type": "code",
   "execution_count": 56,
   "id": "6520942f-f8e9-4c72-9931-4aa9bb48adb1",
   "metadata": {},
   "outputs": [
    {
     "data": {
      "text/plain": [
       "'CATCAGAGGATGAGC'"
      ]
     },
     "execution_count": 56,
     "metadata": {},
     "output_type": "execute_result"
    }
   ],
   "source": [
    "MakeKmer(Profile, 15)"
   ]
  },
  {
   "cell_type": "code",
   "execution_count": 57,
   "id": "9f642e98-1ee9-42e5-adbf-f867a3c31074",
   "metadata": {},
   "outputs": [
    {
     "data": {
      "text/plain": [
       "80"
      ]
     },
     "execution_count": 57,
     "metadata": {},
     "output_type": "execute_result"
    }
   ],
   "source": [
    "Score(Motif)"
   ]
  },
  {
   "cell_type": "code",
   "execution_count": 58,
   "id": "9b7ea307-519b-4bef-8c39-c2206ac6ce38",
   "metadata": {},
   "outputs": [],
   "source": [
    "lista = [6,1,1,5]"
   ]
  },
  {
   "cell_type": "code",
   "execution_count": 59,
   "id": "8cfe75cd-c509-41e3-b36a-8689d6cd0f3b",
   "metadata": {},
   "outputs": [
    {
     "data": {
      "text/plain": [
       "6"
      ]
     },
     "execution_count": 59,
     "metadata": {},
     "output_type": "execute_result"
    }
   ],
   "source": [
    "max(lista)"
   ]
  },
  {
   "cell_type": "code",
   "execution_count": 70,
   "id": "90fb6595-37af-4666-a9b6-9ccf64ccc523",
   "metadata": {},
   "outputs": [
    {
     "data": {
      "text/plain": [
       "['GTGTCGTAAACTGAC',\n",
       " 'GGGTAGACTATTCCC',\n",
       " 'GGGAAGTGGTGGTTA',\n",
       " 'GGAGATGTGGATACC',\n",
       " 'CGAATTACGAATAGC',\n",
       " 'TGATATACGTCGAAC',\n",
       " 'CGGTCGTCGCCTACC',\n",
       " 'GGGGAGCCCACCAGC',\n",
       " 'TCAATGACGATTCTT',\n",
       " 'TCTCATCCGTAGATT']"
      ]
     },
     "execution_count": 70,
     "metadata": {},
     "output_type": "execute_result"
    }
   ],
   "source": [
    "GibbsSampler(lines, 15, 10, 2000)"
   ]
  },
  {
   "cell_type": "code",
   "execution_count": 109,
   "id": "9991683b-7763-4a7f-abee-caab6325ffdb",
   "metadata": {},
   "outputs": [],
   "source": [
    "# Test on rosalind data\n",
    "shortdna = [\"CGCCCCTCTCGGGGGTGTTCAGTAAACGGCCA\",\n",
    "\"GGGCGAGGTATGTGTAAGTGCCAAGGTGCCAG\",\n",
    "\"TAGTACCGAGACCGAAAGAAGTATACAGGCGT\",\n",
    "\"TAGATCAAGTTTCAGGTGCACGTCGGTGAACC\",\n",
    "\"AATCCACCAGCTCCACGTGCAATGTTGGCCTA\"]"
   ]
  },
  {
   "cell_type": "code",
   "execution_count": 116,
   "id": "99f65293-7fb7-468b-9810-2e0368fb99fc",
   "metadata": {},
   "outputs": [
    {
     "name": "stdout",
     "output_type": "stream",
     "text": [
      "GGGGTGTT\n",
      "AGTGCCAA\n",
      "TACCGAGA\n",
      "ATCAAGTT\n",
      "CCAGCTCC\n"
     ]
    }
   ],
   "source": [
    "for sequence in GibbsSampler(shortdna, 8, 5,100):\n",
    "    print(sequence)"
   ]
  },
  {
   "cell_type": "code",
   "execution_count": 74,
   "id": "b82079b7-64a1-473b-8304-2075f57ff390",
   "metadata": {},
   "outputs": [
    {
     "data": {
      "text/plain": [
       "'15 20 2000'"
      ]
     },
     "execution_count": 74,
     "metadata": {},
     "output_type": "execute_result"
    }
   ],
   "source": [
    "lines[0]"
   ]
  },
  {
   "cell_type": "code",
   "execution_count": 75,
   "id": "8344eb0f-02fc-4e96-b8f2-bfef2138b818",
   "metadata": {},
   "outputs": [
    {
     "data": {
      "text/plain": [
       "'15 20 2000'"
      ]
     },
     "execution_count": 75,
     "metadata": {},
     "output_type": "execute_result"
    }
   ],
   "source": [
    "lines.pop(0)"
   ]
  },
  {
   "cell_type": "code",
   "execution_count": null,
   "id": "e443b4d0-a06d-4c20-a9a4-4ba862dc9828",
   "metadata": {},
   "outputs": [],
   "source": []
  },
  {
   "cell_type": "code",
   "execution_count": 76,
   "id": "3979d745-a679-41ea-ab26-6445a958609a",
   "metadata": {},
   "outputs": [
    {
     "name": "stdout",
     "output_type": "stream",
     "text": [
      "CGCCATGTTCGCACG\n",
      "AGGGTAGTGCCGGTA\n",
      "GCACTTGAGAAACCC\n",
      "TTATCGGAGCAAGAC\n",
      "ACGGAAGAGAAAACT\n",
      "GGTCCTTGTAATGCC\n",
      "AGGAGTATTAAGTGC\n",
      "TTGGCCGATTGTCTA\n",
      "CACGCTGCAAAGGTG\n",
      "GTGCTCTTGTAGACT\n",
      "CTAGCAGGCGAGCCC\n",
      "CTCTCGGCCCCGGAC\n",
      "GTGGTTATTCTTGCC\n",
      "CCGTTACGTATGGCC\n",
      "CAAGGTTTTTAAGCC\n",
      "CCCCGTTCTATAGAT\n",
      "CTAAGTCGTTCCTTG\n",
      "CTGGTTGAGGAAATG\n",
      "ATGGCCGATTGAGTA\n",
      "CGCGTTAAACAGACA\n"
     ]
    }
   ],
   "source": [
    "for sequence in GibbsSampler(lines, 15, 20,2000):\n",
    "    print(sequence)"
   ]
  },
  {
   "cell_type": "code",
   "execution_count": 78,
   "id": "480dc824-474a-4499-b2ee-d6ddca36a38d",
   "metadata": {},
   "outputs": [
    {
     "data": {
      "text/plain": [
       "['GGAGGGCTGAAATAC',\n",
       " 'AAAAATAGCAGGGTG',\n",
       " 'GTTGGACTCTCCAAC',\n",
       " 'TTCACGGGAGAAAGA',\n",
       " 'ACTTAAGCGTTCGAA',\n",
       " 'CAAGAGAGGTGTATC',\n",
       " 'ATGCCCTGGAAGGGA',\n",
       " 'CGGGTTTTAAGCGGG',\n",
       " 'CGCAGGACCAAAGCC']"
      ]
     },
     "execution_count": 78,
     "metadata": {},
     "output_type": "execute_result"
    }
   ],
   "source": [
    "Motif"
   ]
  },
  {
   "cell_type": "code",
   "execution_count": 79,
   "id": "18a5b481-a14b-43ee-9a59-83e796189033",
   "metadata": {},
   "outputs": [
    {
     "data": {
      "text/plain": [
       "[19660800,\n",
       " 167961600,\n",
       " 6635520,\n",
       " 4976640,\n",
       " 19906560,\n",
       " 19906560,\n",
       " 139968000,\n",
       " 37324800,\n",
       " 66355200,\n",
       " 311040,\n",
       " 414720000,\n",
       " 4423680,\n",
       " 69120000,\n",
       " 186624000,\n",
       " 106168320,\n",
       " 324000,\n",
       " 106168320,\n",
       " 55987200,\n",
       " 2488320,\n",
       " 265420800,\n",
       " 17915904,\n",
       " 829440,\n",
       " 132710400,\n",
       " 12441600,\n",
       " 20995200,\n",
       " 3317760,\n",
       " 24576000,\n",
       " 31104000,\n",
       " 22118400,\n",
       " 5529600,\n",
       " 70778880,\n",
       " 3888000,\n",
       " 10368000,\n",
       " 49766400,\n",
       " 11197440,\n",
       " 663552,\n",
       " 24883200,\n",
       " 165888,\n",
       " 16588800,\n",
       " 19906560,\n",
       " 3317760,\n",
       " 442368,\n",
       " 53084160,\n",
       " 3317760,\n",
       " 637009920,\n",
       " 19906560,\n",
       " 21233664,\n",
       " 19906560,\n",
       " 124416000,\n",
       " 74649600,\n",
       " 3732480,\n",
       " 53084160,\n",
       " 7962624,\n",
       " 39321600,\n",
       " 53084160,\n",
       " 884736000,\n",
       " 62208000,\n",
       " 14929920,\n",
       " 93312000,\n",
       " 331776,\n",
       " 1382400,\n",
       " 44236800,\n",
       " 10616832,\n",
       " 5898240,\n",
       " 141557760,\n",
       " 74649600,\n",
       " 14929920,\n",
       " 1658880,\n",
       " 13436928,\n",
       " 1492992,\n",
       " 2457600,\n",
       " 59719680,\n",
       " 15925248,\n",
       " 24883200,\n",
       " 1966080,\n",
       " 93312000,\n",
       " 12441600,\n",
       " 2764800,\n",
       " 460800,\n",
       " 21233664,\n",
       " 24883200,\n",
       " 15925248,\n",
       " 26542080,\n",
       " 50388480,\n",
       " 89579520,\n",
       " 7464960,\n",
       " 1244160,\n",
       " 25920000,\n",
       " 18662400,\n",
       " 6912000,\n",
       " 41472000,\n",
       " 49152000,\n",
       " 12441600,\n",
       " 22118400,\n",
       " 13271040,\n",
       " 7776000,\n",
       " 3359232,\n",
       " 1244160,\n",
       " 2488320,\n",
       " 9216000,\n",
       " 829440,\n",
       " 2359296,\n",
       " 53084160,\n",
       " 589824,\n",
       " 49766400,\n",
       " 39813120,\n",
       " 14929920,\n",
       " 7464960,\n",
       " 4423680,\n",
       " 414720,\n",
       " 47775744,\n",
       " 5308416,\n",
       " 1474560,\n",
       " 31850496,\n",
       " 59719680,\n",
       " 2073600,\n",
       " 11796480,\n",
       " 12441600,\n",
       " 4976640,\n",
       " 1474560,\n",
       " 1179648,\n",
       " 44789760,\n",
       " 3317760,\n",
       " 2764800,\n",
       " 12597120,\n",
       " 14929920,\n",
       " 184320,\n",
       " 44236800,\n",
       " 3110400,\n",
       " 5308416,\n",
       " 2211840,\n",
       " 62208000,\n",
       " 37324800,\n",
       " 1658880,\n",
       " 1105920,\n",
       " 16588800,\n",
       " 3888000,\n",
       " 3538944,\n",
       " 14929920,\n",
       " 5971968,\n",
       " 3317760,\n",
       " 39813120,\n",
       " 89579520,\n",
       " 223948800,\n",
       " 442368,\n",
       " 51840000,\n",
       " 199065600,\n",
       " 18662400,\n",
       " 5529600,\n",
       " 235929600,\n",
       " 26244000,\n",
       " 1492992000,\n",
       " 11943936,\n",
       " 13824000,\n",
       " 37324800,\n",
       " 388800000,\n",
       " 31104000,\n",
       " 9953280,\n",
       " 27648000,\n",
       " 16588800,\n",
       " 37324800,\n",
       " 33177600,\n",
       " 79626240,\n",
       " 55296000,\n",
       " 20736000,\n",
       " 124416000,\n",
       " 44789760,\n",
       " 9331200,\n",
       " 49766400,\n",
       " 3317760,\n",
       " 3317760,\n",
       " 294912000,\n",
       " 49766400,\n",
       " 6635520,\n",
       " 55296000,\n",
       " 132710400,\n",
       " 16796160,\n",
       " 5308416,\n",
       " 7962624,\n",
       " 9331200,\n",
       " 55987200,\n",
       " 5308416,\n",
       " 5529600,\n",
       " 78643200,\n",
       " 18662400,\n",
       " 10368000,\n",
       " 353894400,\n",
       " 1555200,\n",
       " 9331200,\n",
       " 5898240,\n",
       " 279936,\n",
       " 17694720,\n",
       " 159252480,\n",
       " 22394880,\n",
       " 79626240,\n",
       " 3538944,\n",
       " 18662400,\n",
       " 199065600,\n",
       " 16588800,\n",
       " 17280000,\n",
       " 36864000,\n",
       " 8398080,\n",
       " 12441600,\n",
       " 491520,\n",
       " 62208000,\n",
       " 6718464,\n",
       " 4423680,\n",
       " 13271040,\n",
       " 41472000,\n",
       " 777600,\n",
       " 3538944,\n",
       " 6220800,\n",
       " 1105920,\n",
       " 19906560,\n",
       " 12441600,\n",
       " 119439360,\n",
       " 5598720,\n",
       " 1658880,\n",
       " 55296000,\n",
       " 50388480,\n",
       " 3110400,\n",
       " 10616832,\n",
       " 103680000,\n",
       " 9331200,\n",
       " 36864000,\n",
       " 55987200,\n",
       " 36864000,\n",
       " 31104000,\n",
       " 33177600,\n",
       " 5529600,\n",
       " 62208000,\n",
       " 4665600,\n",
       " 11664000,\n",
       " 3981312,\n",
       " 149299200,\n",
       " 1990656,\n",
       " 70778880,\n",
       " 11943936,\n",
       " 265420800,\n",
       " 104976000,\n",
       " 67184640,\n",
       " 6220800,\n",
       " 7372800,\n",
       " 5184000,\n",
       " 207360000,\n",
       " 3686400,\n",
       " 18432000,\n",
       " 55296000,\n",
       " 9331200,\n",
       " 11520000,\n",
       " 3981312,\n",
       " 6998400,\n",
       " 5971968,\n",
       " 221184,\n",
       " 5971968,\n",
       " 15925248,\n",
       " 4976640,\n",
       " 1843200,\n",
       " 5598720,\n",
       " 31104000,\n",
       " 1769472,\n",
       " 44236800,\n",
       " 2654208,\n",
       " 58982400,\n",
       " 11197440,\n",
       " 119439360,\n",
       " 11197440,\n",
       " 2949120,\n",
       " 829440,\n",
       " 29491200,\n",
       " 15925248,\n",
       " 19906560,\n",
       " 5308416,\n",
       " 99532800,\n",
       " 83980800,\n",
       " 99532800,\n",
       " 622080,\n",
       " 19660800,\n",
       " 8294400,\n",
       " 69120000,\n",
       " 3686400,\n",
       " 16588800,\n",
       " 93312000,\n",
       " 22394880,\n",
       " 699840,\n",
       " 1769472,\n",
       " 3359232,\n",
       " 19906560,\n",
       " 35389440,\n",
       " 13271040,\n",
       " 88473600,\n",
       " 6220800,\n",
       " 373248000,\n",
       " 149299200,\n",
       " 7464960,\n",
       " 22118400,\n",
       " 4423680,\n",
       " 207360000,\n",
       " 165888000,\n",
       " 20736000,\n",
       " 3317760,\n",
       " 933120000,\n",
       " 1866240,\n",
       " 11796480,\n",
       " 29859840,\n",
       " 66355200]"
      ]
     },
     "execution_count": 79,
     "metadata": {},
     "output_type": "execute_result"
    }
   ],
   "source": [
    "MakeKmer(Motif, lines[0], 15)"
   ]
  },
  {
   "cell_type": "code",
   "execution_count": 81,
   "id": "034feba4-7160-4358-bc85-5cf8bb04fb9c",
   "metadata": {},
   "outputs": [],
   "source": [
    "DNA = [\"ttACCTtaac\",\n",
    "\"gATGTctgtc\",\n",
    "\"ccgGCGTtag\",\n",
    "\"cactaACGAg\",\n",
    "\"cgtcagAGGT\"]"
   ]
  },
  {
   "cell_type": "code",
   "execution_count": 82,
   "id": "30fcc8bd-a8c4-4d7a-b5be-1b583d094dca",
   "metadata": {},
   "outputs": [
    {
     "data": {
      "text/plain": [
       "['ttACCTtaac', 'gATGTctgtc', 'ccgGCGTtag', 'cactaACGAg', 'cgtcagAGGT']"
      ]
     },
     "execution_count": 82,
     "metadata": {},
     "output_type": "execute_result"
    }
   ],
   "source": [
    "DNA"
   ]
  },
  {
   "cell_type": "code",
   "execution_count": 84,
   "id": "96c8485a-e223-410b-889f-02bc112eb1e7",
   "metadata": {},
   "outputs": [],
   "source": [
    "DNA = [x.upper() for x in DNA]"
   ]
  },
  {
   "cell_type": "code",
   "execution_count": 85,
   "id": "594101c0-3158-4560-b075-7441079069bf",
   "metadata": {},
   "outputs": [
    {
     "data": {
      "text/plain": [
       "['TTACCTTAAC', 'GATGTCTGTC', 'CCGGCGTTAG', 'CACTAACGAG', 'CGTCAGAGGT']"
      ]
     },
     "execution_count": 85,
     "metadata": {},
     "output_type": "execute_result"
    }
   ],
   "source": [
    "DNA"
   ]
  },
  {
   "cell_type": "code",
   "execution_count": 86,
   "id": "c1c3a1f7-7426-4475-ab96-99279b0a1893",
   "metadata": {},
   "outputs": [],
   "source": [
    "Motifs = [\"taac\",\n",
    "\"GTct\",\n",
    "\"acta\",\n",
    "\"AGGT\"]"
   ]
  },
  {
   "cell_type": "code",
   "execution_count": 87,
   "id": "3a383a55-1b60-451c-9a68-330f3468aff8",
   "metadata": {},
   "outputs": [],
   "source": [
    "Motifs = [x.upper() for x in Motifs]"
   ]
  },
  {
   "cell_type": "code",
   "execution_count": 88,
   "id": "e86e30c1-22b1-4a82-92c6-06bca3d62c49",
   "metadata": {},
   "outputs": [
    {
     "data": {
      "text/plain": [
       "['TAAC', 'GTCT', 'ACTA', 'AGGT']"
      ]
     },
     "execution_count": 88,
     "metadata": {},
     "output_type": "execute_result"
    }
   ],
   "source": [
    "Motifs"
   ]
  },
  {
   "cell_type": "code",
   "execution_count": 95,
   "id": "7c83f60d-d727-4a2d-9901-92ff082e0ec6",
   "metadata": {},
   "outputs": [],
   "source": [
    "x = MakeKmer(Motifs, DNA[2], 4)"
   ]
  },
  {
   "cell_type": "code",
   "execution_count": 97,
   "id": "55f6c0b1-8ade-4429-b67e-118307825402",
   "metadata": {},
   "outputs": [
    {
     "data": {
      "text/plain": [
       "[[0, 0, 0, 0],\n",
       " [1, 1, 1, 1, 1, 1, 1, 1],\n",
       " [2, 2, 2, 2, 2, 2, 2, 2],\n",
       " [3, 3, 3, 3, 3, 3, 3, 3, 3, 3, 3, 3, 3, 3, 3, 3, 3, 3, 3, 3, 3, 3, 3, 3],\n",
       " [4, 4, 4, 4, 4, 4, 4, 4, 4, 4, 4, 4],\n",
       " [5, 5, 5, 5, 5, 5, 5, 5, 5, 5, 5, 5, 5, 5, 5, 5],\n",
       " [6, 6, 6, 6, 6, 6, 6, 6]]"
      ]
     },
     "execution_count": 97,
     "metadata": {},
     "output_type": "execute_result"
    }
   ],
   "source": [
    "[[i]*x[i] for i in range(len(x))]"
   ]
  },
  {
   "cell_type": "code",
   "execution_count": 106,
   "id": "8dd60e69-de9b-4965-a23d-2a1ae4799cdc",
   "metadata": {},
   "outputs": [
    {
     "data": {
      "text/plain": [
       "[2]"
      ]
     },
     "execution_count": 106,
     "metadata": {},
     "output_type": "execute_result"
    }
   ],
   "source": [
    "random.choices(range(len(x)), weights = x)"
   ]
  },
  {
   "cell_type": "code",
   "execution_count": null,
   "id": "53ae6336-3bc0-4c59-9dcd-feba78041bc3",
   "metadata": {},
   "outputs": [],
   "source": []
  }
 ],
 "metadata": {
  "kernelspec": {
   "display_name": "Python 3",
   "language": "python",
   "name": "python3"
  },
  "language_info": {
   "codemirror_mode": {
    "name": "ipython",
    "version": 3
   },
   "file_extension": ".py",
   "mimetype": "text/x-python",
   "name": "python",
   "nbconvert_exporter": "python",
   "pygments_lexer": "ipython3",
   "version": "3.8.20"
  }
 },
 "nbformat": 4,
 "nbformat_minor": 5
}
